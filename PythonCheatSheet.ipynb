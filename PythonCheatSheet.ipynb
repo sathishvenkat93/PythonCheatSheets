{
 "cells": [
  {
   "cell_type": "markdown",
   "id": "9442e554-e41f-450a-9801-aae23e6a87e2",
   "metadata": {},
   "source": [
    "### Python CheatSheet"
   ]
  },
  {
   "cell_type": "markdown",
   "id": "5491fee4-8ee4-491a-b099-e63bc3d37356",
   "metadata": {},
   "source": [
    "# Python is an open source, highlevel dynamically typed language with very intuitive data types.  It is licensed under Python Software Foundation License(compatible to GNU General Public License)."
   ]
  },
  {
   "cell_type": "markdown",
   "id": "aff60d7b-c021-4db7-a0b9-e094a47491e9",
   "metadata": {},
   "source": [
    "#### Python is easy to learn, with simple syntax and limited set of keywords"
   ]
  },
  {
   "cell_type": "markdown",
   "id": "ef97c50e-66d4-4035-8fd5-3b5625a18a3a",
   "metadata": {},
   "source": [
    "#### Uses indentation to avoid clutter of curly brackets and dynamic typing without prior declaration of variables"
   ]
  },
  {
   "cell_type": "markdown",
   "id": "92810577-db05-4430-baa4-b087be37f541",
   "metadata": {},
   "source": [
    "## Python Interpreter"
   ]
  },
  {
   "cell_type": "markdown",
   "id": "9ed9f1b6-2c93-49bd-9bf2-11a29964c165",
   "metadata": {},
   "source": [
    "#### In compiler based programming language the code is converted to machine language, hence if there is a single error entire conversion fails"
   ]
  },
  {
   "cell_type": "markdown",
   "id": "2f66a2c2-07a3-47bf-b95a-a780980e3879",
   "metadata": {},
   "source": [
    "#### python interpreter interprets line by line and exits at the time of error instead of stopping the whole code.\n",
    "#### This is also a disadvantage when writing a large number of code lines where we have no way of knowing the next set of errors if the execution exits in previous lines"
   ]
  },
  {
   "cell_type": "markdown",
   "id": "859ed9d9-d2e7-49c0-ad3e-571405d01724",
   "metadata": {},
   "source": [
    "#### The interpreter comes with a huge advantage of Cross-platform without the need to be re-compiled in other Operating systems\n",
    "#### Python interpreter converts the source code to byte code whenever it is executed in any operating systems.  Hence supporting the portability"
   ]
  },
  {
   "cell_type": "markdown",
   "id": "431a394b-0c39-4a98-a4c7-9af419dc0263",
   "metadata": {},
   "source": [
    "# OOPs Concept"
   ]
  },
  {
   "cell_type": "markdown",
   "id": "9feca570-d504-460f-9502-ce05ea50195f",
   "metadata": {},
   "source": [
    "### C++ and Java dominates the implementation of Object Oriented Programming concepts than Python\n",
    "### Python doestn't support data encapsulation (controlling the visibility of variables).  The dynamic typing becomes a disadvantage here"
   ]
  },
  {
   "cell_type": "markdown",
   "id": "88ca1e4e-4312-414d-bc97-f0d41ea554cd",
   "metadata": {},
   "source": [
    "### Python Versions"
   ]
  },
  {
   "cell_type": "markdown",
   "id": "7c85a13f-3394-4754-99a6-3fc8f91b303f",
   "metadata": {},
   "source": [
    "#### Python 1.0\n",
    "#### January 1994, version 1.0 was released.\n",
    "#### Python 2.0\n",
    "#### Launched in October 2000, with features such as list, garbage collection etc.,\n",
    "#### Python 3.0\n",
    "#### Launched in December 2008, better exception handling, math modules etc.,\n",
    "### As of Jul 2024, Python 3.12 is the latest version"
   ]
  },
  {
   "cell_type": "markdown",
   "id": "3b380f07-05b6-4130-a4d1-ecccb10ae64e",
   "metadata": {},
   "source": [
    "# let's Get Started..."
   ]
  },
  {
   "cell_type": "code",
   "execution_count": 5,
   "id": "890c5c01-dcae-41e1-ab66-e48baa15dc80",
   "metadata": {},
   "outputs": [
    {
     "name": "stdout",
     "output_type": "stream",
     "text": [
      "Hello world\n"
     ]
    }
   ],
   "source": [
    "# Python interpreter also works in scripted mode. Open any text editor, enter the following text and save as Hello.py\n",
    "print('Hello world')"
   ]
  },
  {
   "cell_type": "code",
   "execution_count": 6,
   "id": "7de9e32d-c4c6-47d8-bd27-8dac92d99858",
   "metadata": {},
   "outputs": [],
   "source": [
    "# declaration of variables\n",
    "a = 5\n",
    "b = 3.5\n",
    "c = 'python'"
   ]
  },
  {
   "cell_type": "code",
   "execution_count": 16,
   "id": "69fd4f07-8814-45c8-aec5-182ec56b62c5",
   "metadata": {},
   "outputs": [
    {
     "name": "stdout",
     "output_type": "stream",
     "text": [
      "<class 'int'>\n"
     ]
    }
   ],
   "source": [
    "# dynamically assigned variable types, type() function here is used to find data type of a given variable\n",
    "print(type(a))"
   ]
  },
  {
   "cell_type": "code",
   "execution_count": 8,
   "id": "47ee07ee-db92-40aa-aeb8-4bdb865bd54c",
   "metadata": {},
   "outputs": [
    {
     "name": "stdout",
     "output_type": "stream",
     "text": [
      "<class 'float'>\n"
     ]
    }
   ],
   "source": [
    "print(type(b))"
   ]
  },
  {
   "cell_type": "code",
   "execution_count": 10,
   "id": "e9c75d09-ba47-4d8c-9963-abe2f6d8f416",
   "metadata": {},
   "outputs": [
    {
     "name": "stdout",
     "output_type": "stream",
     "text": [
      "<class 'str'>\n"
     ]
    }
   ],
   "source": [
    "print(type(c))"
   ]
  },
  {
   "cell_type": "code",
   "execution_count": 11,
   "id": "7a157486-f07c-4846-8562-7b8b8674c6d6",
   "metadata": {},
   "outputs": [
    {
     "name": "stdout",
     "output_type": "stream",
     "text": [
      "<class 'list'>\n"
     ]
    }
   ],
   "source": [
    "d = [1,2,3,4,5]\n",
    "print(type(d))"
   ]
  },
  {
   "cell_type": "code",
   "execution_count": 12,
   "id": "4928182d-6f56-4fb6-bf7f-64e870336957",
   "metadata": {},
   "outputs": [
    {
     "name": "stdout",
     "output_type": "stream",
     "text": [
      "<class 'tuple'>\n"
     ]
    }
   ],
   "source": [
    "e = (1,2,3)\n",
    "print(type(e))"
   ]
  },
  {
   "cell_type": "code",
   "execution_count": 13,
   "id": "561cdd69-3198-4518-9930-4dbea8604d6f",
   "metadata": {},
   "outputs": [
    {
     "name": "stdout",
     "output_type": "stream",
     "text": [
      "<class 'set'>\n"
     ]
    }
   ],
   "source": [
    "f = {2,3,4}\n",
    "print(type(f))"
   ]
  },
  {
   "cell_type": "code",
   "execution_count": 14,
   "id": "44c7fc75-5734-4e39-ab77-1391ab9185c6",
   "metadata": {},
   "outputs": [
    {
     "name": "stdout",
     "output_type": "stream",
     "text": [
      "<class 'dict'>\n"
     ]
    }
   ],
   "source": [
    "g = { a: 1, b: 2}\n",
    "print(type(g))"
   ]
  },
  {
   "cell_type": "code",
   "execution_count": 15,
   "id": "7b2d117a-9d0f-45f6-a474-d8e1d767cf19",
   "metadata": {},
   "outputs": [
    {
     "name": "stdout",
     "output_type": "stream",
     "text": [
      "<class 'bool'>\n"
     ]
    }
   ],
   "source": [
    "h = True\n",
    "print(type(h))"
   ]
  },
  {
   "cell_type": "markdown",
   "id": "87dfa237-1b26-4caf-a307-4b89cfc82123",
   "metadata": {},
   "source": [
    "### Defining Variable \n",
    " - A variable can contain alphabets, Digits, and underscores.\n",
    " - A variable can only start with an alphabet or underscores (_).\n",
    " - A variable name can’t start with a digit.\n",
    " - No white space is allowed to be used inside a variable name."
   ]
  },
  {
   "cell_type": "markdown",
   "id": "cdd7d5e7-6730-4b5a-bbaa-3eada94fe436",
   "metadata": {},
   "source": [
    "### Typecasting"
   ]
  },
  {
   "cell_type": "code",
   "execution_count": 17,
   "id": "e2f72a15-dc75-407e-8634-bfabe55ed4f8",
   "metadata": {},
   "outputs": [
    {
     "data": {
      "text/plain": [
       "5"
      ]
     },
     "execution_count": 17,
     "metadata": {},
     "output_type": "execute_result"
    }
   ],
   "source": [
    "a"
   ]
  },
  {
   "cell_type": "code",
   "execution_count": 18,
   "id": "03293c6a-453d-40a4-bb11-9351b9ca08d5",
   "metadata": {},
   "outputs": [
    {
     "name": "stdout",
     "output_type": "stream",
     "text": [
      "converted value:  5\n",
      "Datatype:  <class 'str'>\n"
     ]
    }
   ],
   "source": [
    "# conversion of int to string\n",
    "convertedValue = str(a)\n",
    "print('converted value: ', convertedValue)\n",
    "print('Datatype: ', type(convertedValue))"
   ]
  },
  {
   "cell_type": "code",
   "execution_count": 20,
   "id": "b9d160bc-50bc-4ab6-8b75-64956eb1bf8e",
   "metadata": {},
   "outputs": [
    {
     "name": "stdout",
     "output_type": "stream",
     "text": [
      "before:  <class 'str'>\n",
      "after:  <class 'int'>\n"
     ]
    }
   ],
   "source": [
    "# similarly to other data types\n",
    "# if string is a complete number we can covert it to int\n",
    "s = '5'\n",
    "print('before: ',type(s))\n",
    "i = int(s)\n",
    "print('after: ',type(i))"
   ]
  },
  {
   "cell_type": "markdown",
   "id": "4e40a9e3-d901-4381-9e45-8220a8c0b07b",
   "metadata": {},
   "source": [
    "### Operators"
   ]
  },
  {
   "cell_type": "markdown",
   "id": "f85aee06-52c2-4872-af4f-1b4fbab8d930",
   "metadata": {},
   "source": [
    "- Arithmetic Operators\n",
    "\n",
    "- Relational Operators\n",
    "\n",
    "- Bitwise Operators\n",
    "\n",
    "- Assignment Operators\n",
    "\n",
    "- Logical Operators"
   ]
  },
  {
   "cell_type": "markdown",
   "id": "580fa9c3-8214-475a-a96e-6192c569c940",
   "metadata": {},
   "source": [
    "### Arithmetic Operators"
   ]
  },
  {
   "cell_type": "code",
   "execution_count": 63,
   "id": "fa417f6e-c1e7-4e7e-88d2-f2bbf1ecee50",
   "metadata": {},
   "outputs": [
    {
     "data": {
      "text/plain": [
       "10"
      ]
     },
     "execution_count": 63,
     "metadata": {},
     "output_type": "execute_result"
    }
   ],
   "source": [
    "a + b # addition"
   ]
  },
  {
   "cell_type": "code",
   "execution_count": 29,
   "id": "147478f5-ff00-4236-9ced-4973237ae559",
   "metadata": {},
   "outputs": [
    {
     "data": {
      "text/plain": [
       "-1.5"
      ]
     },
     "execution_count": 29,
     "metadata": {},
     "output_type": "execute_result"
    }
   ],
   "source": [
    "b - a # subtraction"
   ]
  },
  {
   "cell_type": "code",
   "execution_count": 30,
   "id": "d6ac135f-db97-4254-80b2-351474bf2036",
   "metadata": {},
   "outputs": [
    {
     "data": {
      "text/plain": [
       "17.5"
      ]
     },
     "execution_count": 30,
     "metadata": {},
     "output_type": "execute_result"
    }
   ],
   "source": [
    "b * a # multiplication"
   ]
  },
  {
   "cell_type": "code",
   "execution_count": 33,
   "id": "6fa4bd17-fa61-4d52-9a5a-2318e4a759c7",
   "metadata": {},
   "outputs": [
    {
     "data": {
      "text/plain": [
       "2.5"
      ]
     },
     "execution_count": 33,
     "metadata": {},
     "output_type": "execute_result"
    }
   ],
   "source": [
    "a = 5\n",
    "b = 2\n",
    "a / b #Division"
   ]
  },
  {
   "cell_type": "code",
   "execution_count": 34,
   "id": "6d820f50-b441-4b3e-a255-586184ce68e1",
   "metadata": {},
   "outputs": [
    {
     "data": {
      "text/plain": [
       "2"
      ]
     },
     "execution_count": 34,
     "metadata": {},
     "output_type": "execute_result"
    }
   ],
   "source": [
    "a // b # Floor Division"
   ]
  },
  {
   "cell_type": "code",
   "execution_count": 35,
   "id": "239a02fa-07ec-4b74-8422-72d3e11af900",
   "metadata": {},
   "outputs": [
    {
     "data": {
      "text/plain": [
       "1"
      ]
     },
     "execution_count": 35,
     "metadata": {},
     "output_type": "execute_result"
    }
   ],
   "source": [
    "a % b # modulus"
   ]
  },
  {
   "cell_type": "code",
   "execution_count": 36,
   "id": "76a2bc68-1034-4bc0-b762-c10c40eae3e0",
   "metadata": {},
   "outputs": [
    {
     "data": {
      "text/plain": [
       "25"
      ]
     },
     "execution_count": 36,
     "metadata": {},
     "output_type": "execute_result"
    }
   ],
   "source": [
    "a**b # exponent"
   ]
  },
  {
   "cell_type": "markdown",
   "id": "60d8f031-84e8-4132-969e-eca7358caea6",
   "metadata": {},
   "source": [
    "### Relational Operators"
   ]
  },
  {
   "cell_type": "code",
   "execution_count": 65,
   "id": "889a7880-e3e6-4be6-ac49-de5bdf987477",
   "metadata": {},
   "outputs": [],
   "source": [
    "a = 5\n",
    "b = 5\n",
    "c = 3\n",
    "d = 6"
   ]
  },
  {
   "cell_type": "code",
   "execution_count": 39,
   "id": "cd3a28da-f3a5-48d5-a50e-f332b2276a19",
   "metadata": {},
   "outputs": [
    {
     "data": {
      "text/plain": [
       "True"
      ]
     },
     "execution_count": 39,
     "metadata": {},
     "output_type": "execute_result"
    }
   ],
   "source": [
    "a == b # always returns the boolean value"
   ]
  },
  {
   "cell_type": "code",
   "execution_count": 40,
   "id": "cda99af3-f2b6-4e87-8542-0383264fc1c1",
   "metadata": {},
   "outputs": [
    {
     "data": {
      "text/plain": [
       "False"
      ]
     },
     "execution_count": 40,
     "metadata": {},
     "output_type": "execute_result"
    }
   ],
   "source": [
    "a != b"
   ]
  },
  {
   "cell_type": "code",
   "execution_count": 42,
   "id": "69e343a9-3b28-4b96-a23c-b9059afd1c3c",
   "metadata": {},
   "outputs": [
    {
     "data": {
      "text/plain": [
       "True"
      ]
     },
     "execution_count": 42,
     "metadata": {},
     "output_type": "execute_result"
    }
   ],
   "source": [
    "a != c"
   ]
  },
  {
   "cell_type": "code",
   "execution_count": 43,
   "id": "a74d3c04-81e2-422e-a919-1812b3d1645f",
   "metadata": {},
   "outputs": [
    {
     "data": {
      "text/plain": [
       "True"
      ]
     },
     "execution_count": 43,
     "metadata": {},
     "output_type": "execute_result"
    }
   ],
   "source": [
    "a > c"
   ]
  },
  {
   "cell_type": "code",
   "execution_count": 45,
   "id": "41e462e9-a79f-46cd-91a0-01f41b02c925",
   "metadata": {},
   "outputs": [
    {
     "data": {
      "text/plain": [
       "False"
      ]
     },
     "execution_count": 45,
     "metadata": {},
     "output_type": "execute_result"
    }
   ],
   "source": [
    "a > d"
   ]
  },
  {
   "cell_type": "code",
   "execution_count": 46,
   "id": "58097878-b22c-417c-a1d7-5d4dc48347f8",
   "metadata": {},
   "outputs": [
    {
     "name": "stdout",
     "output_type": "stream",
     "text": [
      "One\n"
     ]
    }
   ],
   "source": [
    "if a>=c:\n",
    "    print('One')\n",
    "else:\n",
    "    print('Two')"
   ]
  },
  {
   "cell_type": "markdown",
   "id": "2e997b07-4174-4a8f-a10c-821826583926",
   "metadata": {},
   "source": [
    "#### Bitwise Operator\n",
    " - & - AND\n",
    " - | - OR\n",
    " - ^ - XOR\n",
    " - ~ - NOT\n",
    " - << - Zero fill left shift\n",
    " - '>> - Signed right shift"
   ]
  },
  {
   "cell_type": "code",
   "execution_count": 48,
   "id": "e5c63aff-7d03-4bf5-95e4-753311385793",
   "metadata": {},
   "outputs": [
    {
     "data": {
      "text/plain": [
       "1"
      ]
     },
     "execution_count": 48,
     "metadata": {},
     "output_type": "execute_result"
    }
   ],
   "source": [
    "a & c"
   ]
  },
  {
   "cell_type": "code",
   "execution_count": 49,
   "id": "d87a0850-7433-48c2-b586-6938aa0abfd3",
   "metadata": {},
   "outputs": [
    {
     "name": "stdout",
     "output_type": "stream",
     "text": [
      "a:  0b101 , b 0b101\n"
     ]
    },
    {
     "data": {
      "text/plain": [
       "5"
      ]
     },
     "execution_count": 49,
     "metadata": {},
     "output_type": "execute_result"
    }
   ],
   "source": [
    "# Explanation\n",
    "print('a: ',bin(a),', b', bin(b))\n",
    "a & b"
   ]
  },
  {
   "cell_type": "code",
   "execution_count": 50,
   "id": "009576ac-89d8-4f0d-b30b-e5fc72cdf7af",
   "metadata": {},
   "outputs": [
    {
     "data": {
      "text/plain": [
       "7"
      ]
     },
     "execution_count": 50,
     "metadata": {},
     "output_type": "execute_result"
    }
   ],
   "source": [
    "a | c"
   ]
  },
  {
   "cell_type": "code",
   "execution_count": 51,
   "id": "90179f91-b945-43bc-8a5d-ce3a41a4bcad",
   "metadata": {},
   "outputs": [
    {
     "data": {
      "text/plain": [
       "0"
      ]
     },
     "execution_count": 51,
     "metadata": {},
     "output_type": "execute_result"
    }
   ],
   "source": [
    "a ^ b"
   ]
  },
  {
   "cell_type": "code",
   "execution_count": 52,
   "id": "03c16dc9-c849-42db-b180-ac9c95f9caf3",
   "metadata": {},
   "outputs": [
    {
     "data": {
      "text/plain": [
       "3"
      ]
     },
     "execution_count": 52,
     "metadata": {},
     "output_type": "execute_result"
    }
   ],
   "source": [
    "a ^ d"
   ]
  },
  {
   "cell_type": "code",
   "execution_count": 57,
   "id": "d37ffe72-c686-4227-bb21-d9e1dd00c3de",
   "metadata": {},
   "outputs": [
    {
     "name": "stdout",
     "output_type": "stream",
     "text": [
      "b:   5\n"
     ]
    },
    {
     "data": {
      "text/plain": [
       "-6"
      ]
     },
     "execution_count": 57,
     "metadata": {},
     "output_type": "execute_result"
    }
   ],
   "source": [
    "print('b:  ', b)\n",
    "~b"
   ]
  },
  {
   "cell_type": "code",
   "execution_count": 60,
   "id": "3fddd678-8f9b-4556-97e4-864b32b0fc75",
   "metadata": {},
   "outputs": [
    {
     "name": "stdout",
     "output_type": "stream",
     "text": [
      "a:  0b101\n",
      "c:  0b1010\n"
     ]
    }
   ],
   "source": [
    "print('a: ', bin(a)) # Left Shift\n",
    "c = a << 1\n",
    "print('c: ', bin(c))"
   ]
  },
  {
   "cell_type": "code",
   "execution_count": 61,
   "id": "78d5cd42-9e65-4bb0-ab87-edcb0474903c",
   "metadata": {},
   "outputs": [
    {
     "name": "stdout",
     "output_type": "stream",
     "text": [
      "a:  0b101\n",
      "c:  0b10100\n"
     ]
    }
   ],
   "source": [
    "print('a: ', bin(a)) # 2 Left Shift\n",
    "c = a << 2\n",
    "print('c: ', bin(c))"
   ]
  },
  {
   "cell_type": "code",
   "execution_count": 62,
   "id": "ae09a6f0-8fbe-412d-a717-6eb84f5a8294",
   "metadata": {},
   "outputs": [
    {
     "name": "stdout",
     "output_type": "stream",
     "text": [
      "a:  0b101\n",
      "c:  0b1\n"
     ]
    }
   ],
   "source": [
    "print('a: ', bin(a)) # Right Shift\n",
    "c = a >> 2\n",
    "print('c: ', bin(c))"
   ]
  },
  {
   "cell_type": "code",
   "execution_count": 55,
   "id": "88056531-a2d8-4105-bb5d-332c9aeed360",
   "metadata": {},
   "outputs": [
    {
     "name": "stdout",
     "output_type": "stream",
     "text": [
      "a:  0b101\n",
      "c:  0b10\n"
     ]
    }
   ],
   "source": [
    "print('a: ', bin(a))\n",
    "c = a >> 1\n",
    "print('c: ', bin(c))"
   ]
  },
  {
   "cell_type": "markdown",
   "id": "a6a309e8-1b13-44d4-8e60-4cbfee0ada49",
   "metadata": {},
   "source": [
    "### Logical Operators"
   ]
  },
  {
   "cell_type": "code",
   "execution_count": 67,
   "id": "b2944a2a-f190-45b4-a075-251de7a0bc24",
   "metadata": {},
   "outputs": [
    {
     "name": "stdout",
     "output_type": "stream",
     "text": [
      "both are equal\n"
     ]
    }
   ],
   "source": [
    "if a == 5 and b == 5: # AND operator\n",
    "    print('both are equal')\n",
    "else:\n",
    "    print(f'a: {a}, b: {b}')"
   ]
  },
  {
   "cell_type": "code",
   "execution_count": 69,
   "id": "9705b431-9f80-417a-906d-4ee467460782",
   "metadata": {},
   "outputs": [
    {
     "name": "stdout",
     "output_type": "stream",
     "text": [
      "one of the condition satisfied - a: 5, c: 3\n"
     ]
    }
   ],
   "source": [
    "if a == 5 or c == 5: # OR operator, only one has to be true here\n",
    "    print(f'one of the condition satisfied - a: {a}, c: {c}')\n",
    "else:\n",
    "    print('condition failed')"
   ]
  },
  {
   "cell_type": "code",
   "execution_count": 87,
   "id": "5a7a6537-044d-43c8-995f-35521ca2f3bb",
   "metadata": {},
   "outputs": [
    {
     "data": {
      "text/plain": [
       "True"
      ]
     },
     "execution_count": 87,
     "metadata": {},
     "output_type": "execute_result"
    }
   ],
   "source": [
    "not a < 5 # NOT operator"
   ]
  },
  {
   "cell_type": "code",
   "execution_count": 86,
   "id": "89b8323b-b01f-47dc-86db-2f73c83156ff",
   "metadata": {},
   "outputs": [
    {
     "data": {
      "text/plain": [
       "False"
      ]
     },
     "execution_count": 86,
     "metadata": {},
     "output_type": "execute_result"
    }
   ],
   "source": [
    "not a == 5"
   ]
  },
  {
   "cell_type": "markdown",
   "id": "47aa6f5a-c7d5-4aeb-a999-22b394b11326",
   "metadata": {},
   "source": [
    "### Membership Operators\n",
    "\n",
    " - Python has two membership operators **'in'** and **'not in'**"
   ]
  },
  {
   "cell_type": "code",
   "execution_count": 84,
   "id": "c0c8688e-2845-49b5-8f07-9d7539aa297c",
   "metadata": {},
   "outputs": [
    {
     "name": "stdout",
     "output_type": "stream",
     "text": [
      "NOT present\n"
     ]
    }
   ],
   "source": [
    "# NOT IN operator\n",
    "values = [1,2,3,4,5]\n",
    "if d not in values:\n",
    "    print('NOT present')\n",
    "else:\n",
    "    print('present')"
   ]
  },
  {
   "cell_type": "code",
   "execution_count": 88,
   "id": "09967c5a-7c22-4b74-8b6b-681ccfc284f6",
   "metadata": {},
   "outputs": [
    {
     "data": {
      "text/plain": [
       "True"
      ]
     },
     "execution_count": 88,
     "metadata": {},
     "output_type": "execute_result"
    }
   ],
   "source": [
    "5 in values"
   ]
  },
  {
   "cell_type": "code",
   "execution_count": 89,
   "id": "9874d276-fbc7-475e-9d22-437f25299e8b",
   "metadata": {},
   "outputs": [
    {
     "data": {
      "text/plain": [
       "False"
      ]
     },
     "execution_count": 89,
     "metadata": {},
     "output_type": "execute_result"
    }
   ],
   "source": [
    "6 in values"
   ]
  },
  {
   "cell_type": "markdown",
   "id": "a8e7f21a-8752-4182-854d-1dd42c889b1d",
   "metadata": {},
   "source": [
    "### Get a runtime value using input()"
   ]
  },
  {
   "cell_type": "code",
   "execution_count": 21,
   "id": "118e6030-7713-448b-ba3e-1c793029f44d",
   "metadata": {},
   "outputs": [
    {
     "name": "stdin",
     "output_type": "stream",
     "text": [
      "Enter input value:  4\n"
     ]
    },
    {
     "name": "stdout",
     "output_type": "stream",
     "text": [
      "printing value:  4\n"
     ]
    }
   ],
   "source": [
    "val = input('Enter input value: ')\n",
    "print('printing value: ', val)"
   ]
  },
  {
   "cell_type": "code",
   "execution_count": 22,
   "id": "1d86ebf8-2f4c-48d3-acae-cb4078a8530a",
   "metadata": {},
   "outputs": [
    {
     "name": "stdout",
     "output_type": "stream",
     "text": [
      "s1:  hi\n",
      "s2:  hi\n",
      "s3:  \"hi\"\n"
     ]
    }
   ],
   "source": [
    "# String quotes\n",
    "# python allows single, double, triple quotes as well\n",
    "s1 = 'hi'\n",
    "s2 = \"hi\"\n",
    "s3 = '\"hi\"'\n",
    "print(\"s1: \",s1)\n",
    "print(\"s2: \",s2)\n",
    "print(\"s3: \",s3)"
   ]
  },
  {
   "cell_type": "markdown",
   "id": "686a5af4-505d-48c6-8e32-b6cd1b386f86",
   "metadata": {},
   "source": [
    "### String"
   ]
  },
  {
   "cell_type": "code",
   "execution_count": 75,
   "id": "f020a821-350b-4f68-bed9-385dfb1074ab",
   "metadata": {},
   "outputs": [
    {
     "data": {
      "text/plain": [
       "'a'"
      ]
     },
     "execution_count": 75,
     "metadata": {},
     "output_type": "execute_result"
    }
   ],
   "source": [
    "city = \"paris\"\n",
    "city[1]"
   ]
  },
  {
   "cell_type": "markdown",
   "id": "39f82218-77a7-460b-8b5e-8d94aa1039b6",
   "metadata": {},
   "source": [
    "#### Slicing"
   ]
  },
  {
   "cell_type": "code",
   "execution_count": 178,
   "id": "3b7c73a9-b429-454d-9ece-45ff02b6c062",
   "metadata": {},
   "outputs": [],
   "source": [
    "s = 'Hello World'"
   ]
  },
  {
   "cell_type": "code",
   "execution_count": 179,
   "id": "fd355445-7aa4-4db4-a3b6-a7fd600c7113",
   "metadata": {},
   "outputs": [
    {
     "data": {
      "text/plain": [
       "'l'"
      ]
     },
     "execution_count": 179,
     "metadata": {},
     "output_type": "execute_result"
    }
   ],
   "source": [
    "s[2] # String indices"
   ]
  },
  {
   "cell_type": "code",
   "execution_count": 180,
   "id": "34daf61e-db31-42b8-b771-84d9d769fc49",
   "metadata": {},
   "outputs": [
    {
     "data": {
      "text/plain": [
       "'ello'"
      ]
     },
     "execution_count": 180,
     "metadata": {},
     "output_type": "execute_result"
    }
   ],
   "source": [
    "s[1:5] # starts from index 1 and ends at index 5 - 1: 4"
   ]
  },
  {
   "cell_type": "code",
   "execution_count": 181,
   "id": "efeb13b1-db6e-416e-8299-ef4166374dcb",
   "metadata": {},
   "outputs": [
    {
     "data": {
      "text/plain": [
       "'d'"
      ]
     },
     "execution_count": 181,
     "metadata": {},
     "output_type": "execute_result"
    }
   ],
   "source": [
    "s[-1] # negative indices starts from the end of the string as  -1"
   ]
  },
  {
   "cell_type": "code",
   "execution_count": 182,
   "id": "85dc524a-3f2b-4b95-9e7e-24b50ab658eb",
   "metadata": {},
   "outputs": [
    {
     "data": {
      "text/plain": [
       "'lo Wor'"
      ]
     },
     "execution_count": 182,
     "metadata": {},
     "output_type": "execute_result"
    }
   ],
   "source": [
    "s[3: -2]"
   ]
  },
  {
   "cell_type": "markdown",
   "id": "fae31285-1605-488a-bbef-4983feef6dbb",
   "metadata": {},
   "source": [
    "#### Concatenation"
   ]
  },
  {
   "cell_type": "code",
   "execution_count": 183,
   "id": "453f2f6d-71cd-4586-80e6-dd8e563346aa",
   "metadata": {},
   "outputs": [
    {
     "data": {
      "text/plain": [
       "'Hello World'"
      ]
     },
     "execution_count": 183,
     "metadata": {},
     "output_type": "execute_result"
    }
   ],
   "source": [
    "str1 = 'Hello '\n",
    "str2 = 'World'\n",
    "str1+str2"
   ]
  },
  {
   "cell_type": "code",
   "execution_count": 184,
   "id": "30896805-d010-473f-8629-42d953ad2580",
   "metadata": {},
   "outputs": [
    {
     "data": {
      "text/plain": [
       "'Hello Hello '"
      ]
     },
     "execution_count": 184,
     "metadata": {},
     "output_type": "execute_result"
    }
   ],
   "source": [
    "# By Multiplication\n",
    "str1 * 2"
   ]
  },
  {
   "cell_type": "markdown",
   "id": "571ace8e-2c79-4774-8044-d84522cea269",
   "metadata": {},
   "source": [
    " - (*) repetition operator\n",
    " - (+) concatenation operator"
   ]
  },
  {
   "cell_type": "code",
   "execution_count": 186,
   "id": "bfde4549-5b9a-48ca-8b98-0728b6530401",
   "metadata": {},
   "outputs": [
    {
     "data": {
      "text/plain": [
       "'Hello World Hello World Hello World '"
      ]
     },
     "execution_count": 186,
     "metadata": {},
     "output_type": "execute_result"
    }
   ],
   "source": [
    "(str1+str2+' ') * 3"
   ]
  },
  {
   "cell_type": "markdown",
   "id": "c2cc9aad-00e0-4ba1-8276-8863f5065c01",
   "metadata": {},
   "source": [
    "#### f-strings, also known as formatted string literals"
   ]
  },
  {
   "cell_type": "code",
   "execution_count": 187,
   "id": "16b08b73-d270-4135-a0a8-4df3bcf231bd",
   "metadata": {},
   "outputs": [
    {
     "name": "stdout",
     "output_type": "stream",
     "text": [
      "value1: 10, value2: 20\n"
     ]
    }
   ],
   "source": [
    "val1=10\n",
    "val2=20\n",
    "print(f'value1: {val1}, value2: {val2}')"
   ]
  },
  {
   "cell_type": "code",
   "execution_count": 77,
   "id": "0b8bc5cc-5160-4aa6-82b2-78bd01102ade",
   "metadata": {},
   "outputs": [
    {
     "data": {
      "text/plain": [
       "'Paris'"
      ]
     },
     "execution_count": 77,
     "metadata": {},
     "output_type": "execute_result"
    }
   ],
   "source": [
    "# first letter becomes upper case\n",
    "city.capitalize()"
   ]
  },
  {
   "cell_type": "code",
   "execution_count": 78,
   "id": "8534e30f-d324-46a3-a3f9-20d2a2c7cd6f",
   "metadata": {},
   "outputs": [
    {
     "data": {
      "text/plain": [
       "'PARIS'"
      ]
     },
     "execution_count": 78,
     "metadata": {},
     "output_type": "execute_result"
    }
   ],
   "source": [
    "city.upper() # converts to upper case"
   ]
  },
  {
   "cell_type": "code",
   "execution_count": 79,
   "id": "4da0e351-5d9c-4033-8be7-fcfc5a366f87",
   "metadata": {},
   "outputs": [
    {
     "data": {
      "text/plain": [
       "True"
      ]
     },
     "execution_count": 79,
     "metadata": {},
     "output_type": "execute_result"
    }
   ],
   "source": [
    "city.islower() # returns true if all are lower"
   ]
  },
  {
   "cell_type": "code",
   "execution_count": 80,
   "id": "71be6379-1e2a-4cfc-9185-51d4890b7d0b",
   "metadata": {},
   "outputs": [
    {
     "name": "stdout",
     "output_type": "stream",
     "text": [
      "Paris\n"
     ]
    }
   ],
   "source": [
    "city = city.capitalize()\n",
    "print(city)"
   ]
  },
  {
   "cell_type": "code",
   "execution_count": 81,
   "id": "7b4090d3-ed47-49a7-937f-f95327519edb",
   "metadata": {},
   "outputs": [
    {
     "data": {
      "text/plain": [
       "False"
      ]
     },
     "execution_count": 81,
     "metadata": {},
     "output_type": "execute_result"
    }
   ],
   "source": [
    "city.islower()"
   ]
  },
  {
   "cell_type": "markdown",
   "id": "62bdee93-e780-4e48-b9cd-0a78e8217f95",
   "metadata": {
    "jp-MarkdownHeadingCollapsed": true
   },
   "source": [
    "#### For Further String methods Refer: https://www.w3schools.com/python/python_ref_string.asp"
   ]
  },
  {
   "cell_type": "markdown",
   "id": "2de8c2f0-5277-4d48-94c0-434bd0f994e6",
   "metadata": {},
   "source": [
    "### Escape sequence characters"
   ]
  },
  {
   "cell_type": "raw",
   "id": "cd357471-6c3f-471f-b44e-63751c25d697",
   "metadata": {},
   "source": [
    "#### Examples\n",
    "# \\\\n → to print newline\n",
    "# \\\\t → for tab spaces\n",
    "# \\\\’ → single quote\n",
    "# \\\\\\\\ → backslashprint('I\\\\'m learning') # helps to print single quote in string"
   ]
  },
  {
   "cell_type": "markdown",
   "id": "87e11e45-a681-4ce3-a9be-b280d84191e5",
   "metadata": {},
   "source": [
    "### Control Statements"
   ]
  },
  {
   "cell_type": "markdown",
   "id": "f34ae6fb-3b31-41a3-9e08-9a40a7016aa7",
   "metadata": {},
   "source": [
    "#### Decision Making Statements"
   ]
  },
  {
   "cell_type": "code",
   "execution_count": 92,
   "id": "78536e88-784f-4a11-b3a4-c7a7c9f86450",
   "metadata": {},
   "outputs": [
    {
     "name": "stdout",
     "output_type": "stream",
     "text": [
      "a: 5, b: 5, c: 3, d: 6, values: [1, 2, 3, 4, 5]\n"
     ]
    }
   ],
   "source": [
    "print(f'a: {a}, b: {b}, c: {c}, d: {d}, values: {values}')"
   ]
  },
  {
   "cell_type": "code",
   "execution_count": 90,
   "id": "bc6c97da-4df1-4c3d-9856-f2bc0630a6f7",
   "metadata": {},
   "outputs": [
    {
     "name": "stdout",
     "output_type": "stream",
     "text": [
      "it is present\n"
     ]
    }
   ],
   "source": [
    "# if-else\n",
    "if a in values:\n",
    "    print('it is present')\n",
    "else:\n",
    "    print('not present')"
   ]
  },
  {
   "cell_type": "code",
   "execution_count": 96,
   "id": "daca63a9-aa9f-4cbc-9cc7-7d756460bcec",
   "metadata": {},
   "outputs": [
    {
     "name": "stdout",
     "output_type": "stream",
     "text": [
      "in outer if: a in values:  True\n",
      "in inner else\n",
      "Not greater than 10, val1:  7\n"
     ]
    }
   ],
   "source": [
    "# Nested If-else\n",
    "if a in values:\n",
    "    print('in outer if: a in values: ', a in values)\n",
    "    val1 = a + values[1]\n",
    "    if val1 > 10:\n",
    "        print('in inner if')\n",
    "        print('greater than 10, val1: ', val1)\n",
    "    else:\n",
    "        print('in inner else')\n",
    "        print('Not greater than 10, val1: ',val1)\n",
    "else:\n",
    "    print('outer else, a in values: ', a in values)"
   ]
  },
  {
   "cell_type": "code",
   "execution_count": 99,
   "id": "ac66410e-6394-468b-97ca-1a00df841f4d",
   "metadata": {},
   "outputs": [
    {
     "name": "stdin",
     "output_type": "stream",
     "text": [
      "Enter input:  133\n"
     ]
    },
    {
     "name": "stdout",
     "output_type": "stream",
     "text": [
      "value is triple-digit number\n"
     ]
    }
   ],
   "source": [
    "# Using Match-Case Statement\n",
    "inputValue = int(input('Enter input: '))\n",
    "match inputValue:\n",
    "    case value if value < 0: \n",
    "        print('value is negative number')\n",
    "    case value if 0 <= value < 10:\n",
    "        print('value is non-negative single digit number')\n",
    "    case value if 10 <= value < 100: \n",
    "        print('value is double-digit number')\n",
    "    case value if 100<= value < 1000: \n",
    "        print('value is triple-digit number')\n",
    "    case value if value > 999: \n",
    "        print('Value greater than 1000')\n",
    "    case _: \n",
    "        print('Invalid Input')"
   ]
  },
  {
   "cell_type": "markdown",
   "id": "8ca23e0c-2676-4f6a-acdd-f192fc76926f",
   "metadata": {},
   "source": [
    "### Loops"
   ]
  },
  {
   "cell_type": "code",
   "execution_count": 101,
   "id": "16f66067-000d-4b6f-bef4-0fbe286c27e6",
   "metadata": {},
   "outputs": [
    {
     "name": "stdout",
     "output_type": "stream",
     "text": [
      "0\n",
      "1\n",
      "2\n",
      "3\n",
      "4\n",
      "5\n",
      "6\n",
      "7\n",
      "8\n",
      "9\n"
     ]
    }
   ],
   "source": [
    "# For Loops\n",
    "for i in range(10):\n",
    "    print(i)"
   ]
  },
  {
   "cell_type": "code",
   "execution_count": 108,
   "id": "d6f76ed4-7ddb-4c4f-a948-d09afc3450da",
   "metadata": {},
   "outputs": [
    {
     "name": "stdout",
     "output_type": "stream",
     "text": [
      "0 \n",
      "1 1 \n",
      "2 2 2 \n",
      "3 3 3 3 \n",
      "4 4 4 4 4 \n"
     ]
    }
   ],
   "source": [
    "# Nester For Loops\n",
    "for i in range(5):\n",
    "    for j in range(i+1):\n",
    "        print(i, end=\" \")\n",
    "    print()"
   ]
  },
  {
   "cell_type": "code",
   "execution_count": 110,
   "id": "ced25c54-ad6e-4de7-892e-0204d1e8dba2",
   "metadata": {},
   "outputs": [
    {
     "name": "stdout",
     "output_type": "stream",
     "text": [
      "0\n",
      "1\n",
      "2\n",
      "3\n",
      "4\n",
      "Loop completed ...From else block\n",
      "Out-of-Loop\n"
     ]
    }
   ],
   "source": [
    "# For else loop\n",
    "# lese block executes once the loop is completed\n",
    "\n",
    "for i in range(5):\n",
    "    print(i)\n",
    "else:\n",
    "    print('Loop completed ...From else block')\n",
    "print('Out-of-Loop')"
   ]
  },
  {
   "cell_type": "code",
   "execution_count": 111,
   "id": "1d534105-47e4-4629-89a0-89c1e872d728",
   "metadata": {},
   "outputs": [
    {
     "name": "stdout",
     "output_type": "stream",
     "text": [
      "value now:  0\n",
      "value now:  1\n",
      "value now:  2\n",
      "value now:  3\n",
      "value now:  4\n",
      "value now:  5\n",
      "Out-of-Loop\n"
     ]
    }
   ],
   "source": [
    "# While Loop\n",
    "i=0\n",
    "while i <=5:\n",
    "    print('value now: ', i)\n",
    "    i+=1\n",
    "\n",
    "print('Out-of-Loop')"
   ]
  },
  {
   "cell_type": "markdown",
   "id": "469d1f93-4cfd-4dc3-a486-d5ebf8326a8f",
   "metadata": {},
   "source": [
    "### Using Break and Continue in Loops"
   ]
  },
  {
   "cell_type": "code",
   "execution_count": 115,
   "id": "6c2840d9-ea0c-41bf-8020-bfdd53bb59e1",
   "metadata": {},
   "outputs": [
    {
     "name": "stdout",
     "output_type": "stream",
     "text": [
      "Value not found yet...\n",
      "Value not found yet...\n",
      "Value not found yet...\n",
      "Value not found yet...\n",
      "Value not found yet...\n",
      "Value Found\n",
      "Out of the loop now\n"
     ]
    }
   ],
   "source": [
    "# linear Search in loops using break statement\n",
    "\n",
    "values = [1,11,21,31,41,51,61,71,81,91]\n",
    "num = 51 # when 51 is found we need to stop the search\n",
    "\n",
    "for i in values:\n",
    "    if i == num:\n",
    "        print('Value Found')\n",
    "        break\n",
    "    else:\n",
    "        print('Value not found yet...')\n",
    "\n",
    "print('Out of the loop now')"
   ]
  },
  {
   "cell_type": "code",
   "execution_count": 117,
   "id": "c0e81b49-46cb-48da-9ca9-4e0a49e18cef",
   "metadata": {},
   "outputs": [
    {
     "name": "stdout",
     "output_type": "stream",
     "text": [
      "1 (i) != 51 (num), continuing search\n",
      "11 (i) != 51 (num), continuing search\n",
      "21 (i) != 51 (num), continuing search\n",
      "31 (i) != 51 (num), continuing search\n",
      "41 (i) != 51 (num), continuing search\n",
      "i: 51 == 51 (num), value Found\n",
      "61 (i) != 51 (num), continuing search\n",
      "71 (i) != 51 (num), continuing search\n",
      "81 (i) != 51 (num), continuing search\n",
      "91 (i) != 51 (num), continuing search\n",
      "i: 51 == 51 (num), value Found\n",
      "Out of the loop now\n"
     ]
    }
   ],
   "source": [
    "# Linear searching all the values if it is equal to num value\n",
    "\n",
    "values = [1,11,21,31,41,51,61,71,81,91,51]\n",
    "num = 51 # when 51 is found, we need to continue the search, for any other 51 in list\n",
    "\n",
    "for i in values:\n",
    "    if i == num:\n",
    "        print(f'i: {i} == {num} (num), value Found')\n",
    "        continue\n",
    "    else:\n",
    "        print(f'{i} (i) != {num} (num), continuing search')\n",
    "\n",
    "print('Out of the loop now')"
   ]
  },
  {
   "cell_type": "markdown",
   "id": "0c21b02e-054d-43f1-8835-f379c2a49f78",
   "metadata": {},
   "source": [
    "### Functions"
   ]
  },
  {
   "cell_type": "markdown",
   "id": "7bc1f235-783e-410f-af7a-5a15fc497883",
   "metadata": {},
   "source": [
    "#### Built-in Funtions\n",
    " - print(), input(), int(), len(), sum()"
   ]
  },
  {
   "cell_type": "markdown",
   "id": "bbe44b05-2a4e-4a1b-92b5-10e55acc2047",
   "metadata": {},
   "source": [
    "#### User Define funtions\n",
    "- Function begins with 'def' followed by the funtion name and parantheses (). "
   ]
  },
  {
   "cell_type": "code",
   "execution_count": 119,
   "id": "d008261d-a242-4506-8b9d-f2c635532da9",
   "metadata": {},
   "outputs": [
    {
     "name": "stdout",
     "output_type": "stream",
     "text": [
      "starting execution...\n",
      "in function\n",
      "end of execution\n",
      "Ans:  10\n"
     ]
    }
   ],
   "source": [
    "def sumOfValues(a,b):\n",
    "    print('in function')\n",
    "    return a+b\n",
    "\n",
    "print('starting execution...')\n",
    "sumValues = sumOfValues(a,b)\n",
    "print('end of execution')\n",
    "print('Ans: ',sumValues)"
   ]
  },
  {
   "cell_type": "markdown",
   "id": "27a5aef6-a0ab-4e09-a5c6-23bcef9beea9",
   "metadata": {},
   "source": [
    "- **call by value** − When a variable is passed to a function while calling, the value of actual arguments is copied to the variables representing the formal arguments. Thus, any changes in formal arguments does not get reflected in the actual argument. This way of passing variable is known as call by value.\n",
    "\n",
    "- **call by reference** − a reference to the object in memory is passed. Both the formal arguments and the actual arguments (variables in the calling code) refer to the same object. Hence, any changes in formal arguments does get reflected in the actual argument."
   ]
  },
  {
   "cell_type": "code",
   "execution_count": 127,
   "id": "32c83155-764a-45f6-9e4d-472f49bd2eb2",
   "metadata": {},
   "outputs": [
    {
     "name": "stdout",
     "output_type": "stream",
     "text": [
      "received values of x & y: 10, 20\n",
      "200\n"
     ]
    }
   ],
   "source": [
    "# Default arguments\n",
    "def NewValues(x=30, y=20):\n",
    "    print(f'received values of x & y: {x}, {y}')\n",
    "    return x*y\n",
    "\n",
    "x=10\n",
    "print(NewValues(x)) # since y is not passed here, default y value will be taken"
   ]
  },
  {
   "cell_type": "code",
   "execution_count": 129,
   "id": "c7cf7be8-d33f-4db2-a7b4-7a6fe81e1c60",
   "metadata": {},
   "outputs": [
    {
     "name": "stdout",
     "output_type": "stream",
     "text": [
      "received values of x & y: 30, 2\n",
      "60\n"
     ]
    }
   ],
   "source": [
    "# Positional arguments\n",
    "def NewValues(x=30, y=20):\n",
    "    print(f'received values of x & y: {x}, {y}')\n",
    "    return x*y\n",
    "\n",
    "x=10\n",
    "print(NewValues(y=2)) # since only y is passed here, default x value will be taken"
   ]
  },
  {
   "cell_type": "code",
   "execution_count": 134,
   "id": "8dea6a5f-49f3-4cb7-9678-ebac61644bb9",
   "metadata": {},
   "outputs": [
    {
     "name": "stdout",
     "output_type": "stream",
     "text": [
      "<class 'tuple'>\n",
      "varValues:  (22,)\n",
      "22\n",
      "<class 'tuple'>\n",
      "varValues:  ([1, 'st', 3],)\n",
      "[1, 'st', 3]\n"
     ]
    }
   ],
   "source": [
    "# variable length arbitrary positional arguments, takes input as tuple\n",
    "def variableArgs(*varValues):\n",
    "    print(type(varValues))\n",
    "    print('varValues: ', varValues)\n",
    "    for var in varValues:\n",
    "        print(var)\n",
    "\n",
    "variableArgs(22)\n",
    "listValues = [1,'st',3]\n",
    "variableArgs(listValues)"
   ]
  },
  {
   "cell_type": "code",
   "execution_count": 135,
   "id": "112f57f8-fa3c-49b1-a5a0-76a5a9f93492",
   "metadata": {},
   "outputs": [
    {
     "name": "stdout",
     "output_type": "stream",
     "text": [
      "name: Alice\n",
      "age: 30\n",
      "city: New York\n"
     ]
    }
   ],
   "source": [
    "# variable length arbitrary KW arguments\n",
    "def dictValues(**kwargs):\n",
    "    for key, value in kwargs.items():\n",
    "        print(f\"{key}: {value}\")\n",
    "\n",
    "# Calling the function with keyword arguments\n",
    "dictValues(name=\"Alice\", age=30, city=\"New York\")"
   ]
  },
  {
   "cell_type": "markdown",
   "id": "593a9732-6ee2-4754-ae50-5fbda9ed1813",
   "metadata": {},
   "source": [
    " - Scope of the variables are similar to other OOPs languages\n",
    " - Variable scopes are limited based on the place of declaration such as declared Globally, in Class, method/function etc\n",
    " - Python has built-in library functions to locally and globally declared variables  **locals()** & **globals()**\n",
    " - Python also supports Nested Functions"
   ]
  },
  {
   "cell_type": "code",
   "execution_count": 141,
   "id": "7ef09ef4-f43e-4216-9c5b-4077b344454d",
   "metadata": {},
   "outputs": [
    {
     "name": "stdout",
     "output_type": "stream",
     "text": [
      "value of z:  10\n",
      "value of x:  40\n",
      "value of y:  2\n",
      "80\n"
     ]
    }
   ],
   "source": [
    "# Nested Functions\n",
    "z = 10\n",
    "def func1():\n",
    "    x = 40\n",
    "    y = 2\n",
    "    # x and y are local to func1 which gets applied to func2, if declared inside func2, func1 does not have visibility to the variables\n",
    "    def func2(): \n",
    "        print('value of z: ', z)\n",
    "        print('value of x: ', x)\n",
    "        print('value of y: ', y)\n",
    "        return x*y\n",
    "    print(func2())\n",
    "    return;\n",
    "\n",
    "func1()"
   ]
  },
  {
   "cell_type": "markdown",
   "id": "454759f1-6afb-4411-bbda-57b0b2aa490e",
   "metadata": {},
   "source": [
    "### Lambda Functions"
   ]
  },
  {
   "cell_type": "code",
   "execution_count": 282,
   "id": "bade0bca-b2af-4ce2-a7ca-1134d49efef4",
   "metadata": {},
   "outputs": [
    {
     "data": {
      "text/plain": [
       "20"
      ]
     },
     "execution_count": 282,
     "metadata": {},
     "output_type": "execute_result"
    }
   ],
   "source": [
    "lam = lambda a : a * 2\n",
    "lam(10)"
   ]
  },
  {
   "cell_type": "code",
   "execution_count": 283,
   "id": "484f8688-5d2d-489d-b847-f1506bf2334d",
   "metadata": {},
   "outputs": [
    {
     "data": {
      "text/plain": [
       "30"
      ]
     },
     "execution_count": 283,
     "metadata": {},
     "output_type": "execute_result"
    }
   ],
   "source": [
    "# multiple variable\n",
    "lam = lambda a,b,c : a*b*c\n",
    "lam(5,3,2)"
   ]
  },
  {
   "cell_type": "code",
   "execution_count": 290,
   "id": "16dfb171-85d4-47be-ae6d-6bf2be5098ef",
   "metadata": {},
   "outputs": [
    {
     "name": "stdout",
     "output_type": "stream",
     "text": [
      "120\n"
     ]
    }
   ],
   "source": [
    "# lambda in function\n",
    "\n",
    "def func11(x,y):\n",
    "    return lambda a,b: a*b*x*y\n",
    "\n",
    "funcCall = func11(2,3) # init the func11 with x and y\n",
    "print(funcCall(4,5)) # Now the lambda function is called with 4,5 for a,b respectively"
   ]
  },
  {
   "cell_type": "markdown",
   "id": "61bcc6be-9ac4-4dca-979f-73ece7467f87",
   "metadata": {},
   "source": [
    "#### in-Built Math Function"
   ]
  },
  {
   "cell_type": "code",
   "execution_count": 147,
   "id": "9af648fa-7372-4770-9308-92ee889f3f1f",
   "metadata": {},
   "outputs": [],
   "source": [
    "import math"
   ]
  },
  {
   "cell_type": "code",
   "execution_count": 148,
   "id": "8394fb82-31bc-4fdb-9e4b-96439414dbea",
   "metadata": {},
   "outputs": [
    {
     "data": {
      "text/plain": [
       "4.0"
      ]
     },
     "execution_count": 148,
     "metadata": {},
     "output_type": "execute_result"
    }
   ],
   "source": [
    "math.sqrt(16)"
   ]
  },
  {
   "cell_type": "code",
   "execution_count": 149,
   "id": "207e6376-5f53-479f-97a5-7c1d5800497a",
   "metadata": {},
   "outputs": [
    {
     "data": {
      "text/plain": [
       "4"
      ]
     },
     "execution_count": 149,
     "metadata": {},
     "output_type": "execute_result"
    }
   ],
   "source": [
    "int(math.sqrt(16)) # returns value as integer"
   ]
  },
  {
   "cell_type": "code",
   "execution_count": 150,
   "id": "0c9de2bc-8583-47fc-a23a-4f0e5b180bf0",
   "metadata": {},
   "outputs": [
    {
     "data": {
      "text/plain": [
       "5"
      ]
     },
     "execution_count": 150,
     "metadata": {},
     "output_type": "execute_result"
    }
   ],
   "source": [
    "math.ceil(4.75) # returns the smallest integer possible"
   ]
  },
  {
   "cell_type": "code",
   "execution_count": 151,
   "id": "3c231fd9-0d78-42c4-8234-76e923a37d4f",
   "metadata": {},
   "outputs": [
    {
     "data": {
      "text/plain": [
       "4"
      ]
     },
     "execution_count": 151,
     "metadata": {},
     "output_type": "execute_result"
    }
   ],
   "source": [
    "math.floor(4.75) # calculates the floor value of a given integer"
   ]
  },
  {
   "cell_type": "code",
   "execution_count": 152,
   "id": "96f22ac5-06c8-43a5-ba5d-1a3721b8f0d8",
   "metadata": {},
   "outputs": [
    {
     "data": {
      "text/plain": [
       "120"
      ]
     },
     "execution_count": 152,
     "metadata": {},
     "output_type": "execute_result"
    }
   ],
   "source": [
    "math.factorial(5) # finds the factorial of given int"
   ]
  },
  {
   "cell_type": "code",
   "execution_count": 153,
   "id": "6019e223-ece1-400a-b4c7-555eb145e562",
   "metadata": {},
   "outputs": [
    {
     "data": {
      "text/plain": [
       "166.0"
      ]
     },
     "execution_count": 153,
     "metadata": {},
     "output_type": "execute_result"
    }
   ],
   "source": [
    "listValues = [1,11,22,33,44,55]\n",
    "math.fsum(listValues) # returns sum of all numeric items in a iterable variable such list, tuple, array"
   ]
  },
  {
   "cell_type": "code",
   "execution_count": 154,
   "id": "7184f57b-8ab8-4767-bee4-c5b93eda7da3",
   "metadata": {},
   "outputs": [
    {
     "data": {
      "text/plain": [
       "4.0"
      ]
     },
     "execution_count": 154,
     "metadata": {},
     "output_type": "execute_result"
    }
   ],
   "source": [
    "math.cbrt(64) # calculates the cube root of a number"
   ]
  },
  {
   "cell_type": "code",
   "execution_count": 155,
   "id": "2c513b21-bb61-4596-8b9b-864d72e73220",
   "metadata": {},
   "outputs": [
    {
     "data": {
      "text/plain": [
       "2.6881171418161356e+43"
      ]
     },
     "execution_count": 155,
     "metadata": {},
     "output_type": "execute_result"
    }
   ],
   "source": [
    "math.exp(100) # calculates the exponential"
   ]
  },
  {
   "cell_type": "code",
   "execution_count": 156,
   "id": "70155427-5487-4f9e-ba42-a83d62e72592",
   "metadata": {},
   "outputs": [
    {
     "data": {
      "text/plain": [
       "1.2676506002282294e+30"
      ]
     },
     "execution_count": 156,
     "metadata": {},
     "output_type": "execute_result"
    }
   ],
   "source": [
    "math.exp2(100) # calculates 2 raised to power of x"
   ]
  },
  {
   "cell_type": "markdown",
   "id": "e57a3cab-3985-41c1-ba85-f38ef958fc89",
   "metadata": {},
   "source": [
    "#### Time function"
   ]
  },
  {
   "cell_type": "code",
   "execution_count": 157,
   "id": "58875ccb-5c79-407a-b7b7-1b397a92f800",
   "metadata": {},
   "outputs": [],
   "source": [
    "import time"
   ]
  },
  {
   "cell_type": "code",
   "execution_count": 158,
   "id": "b1fe4767-7bd7-405e-b64b-4e2df58f8b70",
   "metadata": {},
   "outputs": [
    {
     "data": {
      "text/plain": [
       "time.struct_time(tm_year=2024, tm_mon=7, tm_mday=24, tm_hour=12, tm_min=12, tm_sec=27, tm_wday=2, tm_yday=206, tm_isdst=0)"
      ]
     },
     "execution_count": 158,
     "metadata": {},
     "output_type": "execute_result"
    }
   ],
   "source": [
    "time.localtime()"
   ]
  },
  {
   "cell_type": "code",
   "execution_count": 160,
   "id": "ba9d59d8-cf06-4ad8-bed1-3f95805927be",
   "metadata": {},
   "outputs": [
    {
     "data": {
      "text/plain": [
       "24"
      ]
     },
     "execution_count": 160,
     "metadata": {},
     "output_type": "execute_result"
    }
   ],
   "source": [
    "time.localtime().tm_mday # prints the day of the month"
   ]
  },
  {
   "cell_type": "code",
   "execution_count": 161,
   "id": "4f85c63d-8732-403c-be82-c2cbf3128912",
   "metadata": {},
   "outputs": [
    {
     "data": {
      "text/plain": [
       "12"
      ]
     },
     "execution_count": 161,
     "metadata": {},
     "output_type": "execute_result"
    }
   ],
   "source": [
    "time.localtime().tm_hour # prints hour of the day"
   ]
  },
  {
   "cell_type": "code",
   "execution_count": 163,
   "id": "bc1e8378-4419-4eae-abe1-4f21a2c67c95",
   "metadata": {},
   "outputs": [
    {
     "data": {
      "text/plain": [
       "'Wed Jul 24 12:14:34 2024'"
      ]
     },
     "execution_count": 163,
     "metadata": {},
     "output_type": "execute_result"
    }
   ],
   "source": [
    "time.asctime( time.localtime(time.time()) ) # returns the formatted local time"
   ]
  },
  {
   "cell_type": "markdown",
   "id": "21051218-8389-449a-9e09-544a9ab0c4cd",
   "metadata": {},
   "source": [
    "To Further explore python's in-built modules, refer: https://www.tutorialspoint.com/python/python_modules.htm"
   ]
  },
  {
   "cell_type": "markdown",
   "id": "7c378ddd-941b-48df-89ab-fad99af8388a",
   "metadata": {},
   "source": [
    "## Tuple\n",
    "\n",
    " - values are stored in sequence separated by commas with parenteses ()\n",
    " - Tuple is heterogenous\n",
    " - allows to store duplicates unlike Sets\n",
    " - tuple is immutable"
   ]
  },
  {
   "cell_type": "code",
   "execution_count": 188,
   "id": "9207b00c-1806-48a1-ac37-a753984944f9",
   "metadata": {},
   "outputs": [
    {
     "data": {
      "text/plain": [
       "(1, 1, 2, 2)"
      ]
     },
     "execution_count": 188,
     "metadata": {},
     "output_type": "execute_result"
    }
   ],
   "source": [
    "t = (1,1,2,2)\n",
    "t"
   ]
  },
  {
   "cell_type": "code",
   "execution_count": 196,
   "id": "a5bb161e-94c1-42ad-beae-88173ba4c789",
   "metadata": {},
   "outputs": [
    {
     "data": {
      "text/plain": [
       "(1, 2, 3, 4, 'a', 'b', 'c')"
      ]
     },
     "execution_count": 196,
     "metadata": {},
     "output_type": "execute_result"
    }
   ],
   "source": [
    "# Join Tuple\n",
    "t1 = (1,2,3,4)\n",
    "t2 = ('a','b','c')\n",
    "t1+t2"
   ]
  },
  {
   "cell_type": "code",
   "execution_count": 197,
   "id": "affd0925-f0b5-4ef1-b647-42183e6ba62f",
   "metadata": {},
   "outputs": [
    {
     "data": {
      "text/plain": [
       "(10, 20, 30)"
      ]
     },
     "execution_count": 197,
     "metadata": {},
     "output_type": "execute_result"
    }
   ],
   "source": [
    "# Packing Tuple\n",
    "x = 10\n",
    "y = 20\n",
    "z = 30\n",
    "t3 = x,y,z\n",
    "t3"
   ]
  },
  {
   "cell_type": "code",
   "execution_count": 198,
   "id": "9592aa42-37c6-4565-9f14-9ab9e6868ef7",
   "metadata": {},
   "outputs": [
    {
     "data": {
      "text/plain": [
       "(10, 20, 30)"
      ]
     },
     "execution_count": 198,
     "metadata": {},
     "output_type": "execute_result"
    }
   ],
   "source": [
    "# Unpacking Tuple\n",
    "t3"
   ]
  },
  {
   "cell_type": "code",
   "execution_count": 199,
   "id": "f05a82c4-6033-4def-8c5f-da38b3b7e3d9",
   "metadata": {},
   "outputs": [
    {
     "name": "stdout",
     "output_type": "stream",
     "text": [
      "a:10,b:20,c:30\n"
     ]
    }
   ],
   "source": [
    "a,b,c = t3\n",
    "print(f'a:{a},b:{b},c:{c}')"
   ]
  },
  {
   "cell_type": "code",
   "execution_count": 203,
   "id": "1ba91ac1-abf9-42ff-8c9d-72ce07722287",
   "metadata": {},
   "outputs": [
    {
     "data": {
      "text/plain": [
       "[10, 20, 30]"
      ]
     },
     "execution_count": 203,
     "metadata": {},
     "output_type": "execute_result"
    }
   ],
   "source": [
    "#iterating thru tuple and converting it to list\n",
    "newList = [val for val in t3]\n",
    "newList"
   ]
  },
  {
   "cell_type": "code",
   "execution_count": 207,
   "id": "75fa1656-2ec1-496e-a7e7-59a99735b79b",
   "metadata": {},
   "outputs": [
    {
     "data": {
      "text/plain": [
       "2"
      ]
     },
     "execution_count": 207,
     "metadata": {},
     "output_type": "execute_result"
    }
   ],
   "source": [
    "t.count(1) # counts number fo times given object is found in a tuple"
   ]
  },
  {
   "cell_type": "code",
   "execution_count": 211,
   "id": "ab00057e-d8c9-4bee-822d-4248d1bd0fc4",
   "metadata": {},
   "outputs": [
    {
     "data": {
      "text/plain": [
       "1"
      ]
     },
     "execution_count": 211,
     "metadata": {},
     "output_type": "execute_result"
    }
   ],
   "source": [
    "t3.index(20) # index of the given object value"
   ]
  },
  {
   "cell_type": "markdown",
   "id": "1f41cc38-7fa7-447c-8c51-c143ee5e435d",
   "metadata": {},
   "source": [
    "## List\n",
    " - values are stored in sequence separated by commas with brackets []\n",
    " - List is heterogenous\n",
    " - allows to store duplicates\n",
    " - List is mutable"
   ]
  },
  {
   "cell_type": "code",
   "execution_count": 212,
   "id": "5e8f2c09-962f-4350-be75-558c5ed6a58c",
   "metadata": {},
   "outputs": [
    {
     "data": {
      "text/plain": [
       "[1, 1, 2, 'a', '']"
      ]
     },
     "execution_count": 212,
     "metadata": {},
     "output_type": "execute_result"
    }
   ],
   "source": [
    "l1 = [1,1,2,'a','']\n",
    "l1"
   ]
  },
  {
   "cell_type": "code",
   "execution_count": 214,
   "id": "ad310405-e19c-4b01-9345-14750de3e766",
   "metadata": {},
   "outputs": [
    {
     "data": {
      "text/plain": [
       "[1, 1, 2, 'a', 5]"
      ]
     },
     "execution_count": 214,
     "metadata": {},
     "output_type": "execute_result"
    }
   ],
   "source": [
    "l1[4] = 5 #updating values\n",
    "l1"
   ]
  },
  {
   "cell_type": "code",
   "execution_count": 215,
   "id": "872ddd0c-b5b4-4959-8950-cf945b470569",
   "metadata": {},
   "outputs": [
    {
     "data": {
      "text/plain": [
       "[1, 2, 'a', 5]"
      ]
     },
     "execution_count": 215,
     "metadata": {},
     "output_type": "execute_result"
    }
   ],
   "source": [
    "# delete values\n",
    "del[l1[1]]\n",
    "l1"
   ]
  },
  {
   "cell_type": "markdown",
   "id": "9d876aa5-1264-4137-924b-768a4340d5b0",
   "metadata": {},
   "source": [
    "#### Slicing "
   ]
  },
  {
   "cell_type": "code",
   "execution_count": 216,
   "id": "30e921c9-e0da-4139-9f01-a55da1403a9d",
   "metadata": {},
   "outputs": [
    {
     "data": {
      "text/plain": [
       "[2, 'a']"
      ]
     },
     "execution_count": 216,
     "metadata": {},
     "output_type": "execute_result"
    }
   ],
   "source": [
    "l1[1:3]"
   ]
  },
  {
   "cell_type": "code",
   "execution_count": 217,
   "id": "7f1b4d24-ce8c-4c77-89a8-a4beaf13b60d",
   "metadata": {},
   "outputs": [
    {
     "data": {
      "text/plain": [
       "[2, 'a', 5]"
      ]
     },
     "execution_count": 217,
     "metadata": {},
     "output_type": "execute_result"
    }
   ],
   "source": [
    "l1[1:]"
   ]
  },
  {
   "cell_type": "code",
   "execution_count": 219,
   "id": "5f644465-18d1-44b4-8698-93cec85b1839",
   "metadata": {},
   "outputs": [
    {
     "data": {
      "text/plain": [
       "[2, 'a']"
      ]
     },
     "execution_count": 219,
     "metadata": {},
     "output_type": "execute_result"
    }
   ],
   "source": [
    "l1[-3:-1]"
   ]
  },
  {
   "cell_type": "code",
   "execution_count": 220,
   "id": "182b2132-2586-4abc-8a1a-1432580c8f29",
   "metadata": {},
   "outputs": [
    {
     "data": {
      "text/plain": [
       "[5]"
      ]
     },
     "execution_count": 220,
     "metadata": {},
     "output_type": "execute_result"
    }
   ],
   "source": [
    "l1[-1:]"
   ]
  },
  {
   "cell_type": "code",
   "execution_count": 222,
   "id": "a1576089-6f1a-4dbb-9709-a702e7f845dd",
   "metadata": {},
   "outputs": [
    {
     "data": {
      "text/plain": [
       "[1, 2, 'a']"
      ]
     },
     "execution_count": 222,
     "metadata": {},
     "output_type": "execute_result"
    }
   ],
   "source": [
    "l1[:-1]"
   ]
  },
  {
   "cell_type": "code",
   "execution_count": 225,
   "id": "2bb6bf0e-c9cc-4e83-b109-415311429209",
   "metadata": {},
   "outputs": [
    {
     "data": {
      "text/plain": [
       "['p', 'r', 'o', 'g', 'r', 'e', 's', 's']"
      ]
     },
     "execution_count": 225,
     "metadata": {},
     "output_type": "execute_result"
    }
   ],
   "source": [
    "# List Comprehension\n",
    "str1 = 'PROGRESS'\n",
    "[s.lower() for s in str1]"
   ]
  },
  {
   "cell_type": "code",
   "execution_count": 227,
   "id": "f78f97d5-ed10-4ca1-9c62-a0d44b199adf",
   "metadata": {},
   "outputs": [
    {
     "data": {
      "text/plain": [
       "[0, 1, 2, 3, 4, 5]"
      ]
     },
     "execution_count": 227,
     "metadata": {},
     "output_type": "execute_result"
    }
   ],
   "source": [
    "# List Sorting\n",
    "l=[3,1,5,2,0,4]\n",
    "l.sort()\n",
    "l"
   ]
  },
  {
   "cell_type": "code",
   "execution_count": 228,
   "id": "3a286af2-4e08-401e-a045-f9ed96d3944c",
   "metadata": {},
   "outputs": [
    {
     "data": {
      "text/plain": [
       "[5, 4, 3, 2, 1, 0]"
      ]
     },
     "execution_count": 228,
     "metadata": {},
     "output_type": "execute_result"
    }
   ],
   "source": [
    "# sort in descending\n",
    "l.sort(reverse=True)\n",
    "l"
   ]
  },
  {
   "cell_type": "code",
   "execution_count": 229,
   "id": "ecaf3f35-eb89-498a-a1ce-0f35de634b6f",
   "metadata": {},
   "outputs": [
    {
     "name": "stdout",
     "output_type": "stream",
     "text": [
      "List before append:  [5, 4, 3, 2, 1, 0]\n",
      "List after append:  [5, 4, 3, 2, 1, 0, 20]\n",
      "List after concat:  [5, 4, 3, 2, 1, 0, 20, 1, 2, 'a', 5]\n",
      "List after extend:  [5, 4, 3, 2, 1, 0, 20, 1, 2, 'a', 5, 'a', 'b', 'c']\n"
     ]
    }
   ],
   "source": [
    "# list is mutable hence it can be extended by 3 ways\n",
    "# Append\n",
    "print('List before append: ',l)\n",
    "l.append(20)\n",
    "print('List after append: ',l)\n",
    "l = l+l1\n",
    "print('List after concat: ',l)\n",
    "l2 = ['a','b','c']\n",
    "l.extend(l2)\n",
    "print('List after extend: ',l)"
   ]
  },
  {
   "cell_type": "markdown",
   "id": "340bd0e3-f798-42b6-a56f-5d0b4258cecd",
   "metadata": {},
   "source": [
    "### List Copy\n",
    " - **Shallow Copy**: Creates a copy of references to the original elements, if the changes are made to the new objects, it will also affect the original values\n",
    " - **Deep Copy**: Creates a recursive copy of all objects from the original, so the objects are duplicated into an independent copy. So the changes made to the new objects will not reflect in the original objects"
   ]
  },
  {
   "cell_type": "code",
   "execution_count": 239,
   "id": "382d2a79-882f-47fb-b2d2-372a7d75a0ce",
   "metadata": {},
   "outputs": [
    {
     "name": "stdout",
     "output_type": "stream",
     "text": [
      "Original: [1, 2, 3, 4, 5]\n",
      "Shallow Copy: [1, 2, 3, 4, 5]\n",
      "After modifying shallow copy:\n",
      "Original: [1, 2, 3, 4, 5]\n",
      "Shallow Copy: [99, 2, 3, 4, 5]\n"
     ]
    }
   ],
   "source": [
    "import copy\n",
    "\n",
    "list1 = [1, 2, 3, 4, 5]\n",
    "shallow_copy = copy.copy(list1)\n",
    "\n",
    "print(\"Original:\", list1)\n",
    "print(\"Shallow Copy:\", shallow_copy)\n",
    "\n",
    "# Modify the shallow copy\n",
    "shallow_copy[0] = 99\n",
    "\n",
    "print(\"After modifying shallow copy:\")\n",
    "print(\"Original:\", list1)\n",
    "print(\"Shallow Copy:\", shallow_copy)\n"
   ]
  },
  {
   "cell_type": "markdown",
   "id": "179b0227-9f5f-433f-a9c8-37a1b96fdddc",
   "metadata": {},
   "source": [
    "modifying the shallow_copy does not affect the list1 because they are two separate lists containing the same values."
   ]
  },
  {
   "cell_type": "code",
   "execution_count": 242,
   "id": "c8d47198-3e49-4e99-87f0-03c30da4ea24",
   "metadata": {},
   "outputs": [
    {
     "name": "stdout",
     "output_type": "stream",
     "text": [
      "Original: [1, [2, 3], 4, 5]\n",
      "Shallow Copy: [1, [2, 3], 4, 5]\n",
      "After modifying shallow copy:\n",
      "Original: [1, [99, 3], 4, 5]\n",
      "Shallow Copy: [1, [99, 3], 4, 5]\n"
     ]
    }
   ],
   "source": [
    "list1 = [1, [2, 3], 4, 5]\n",
    "shallow_copy = copy.copy(list1)\n",
    "\n",
    "print(\"Original:\", list1)\n",
    "print(\"Shallow Copy:\", shallow_copy)\n",
    "\n",
    "# Modify the nested list in the shallow copy\n",
    "shallow_copy[1][0] = 99\n",
    "\n",
    "print(\"After modifying shallow copy:\")\n",
    "print(\"Original:\", list1)\n",
    "print(\"Shallow Copy:\", shallow_copy)"
   ]
  },
  {
   "cell_type": "code",
   "execution_count": 241,
   "id": "f81dd98a-ed30-4568-acab-627f014bad63",
   "metadata": {},
   "outputs": [
    {
     "name": "stdout",
     "output_type": "stream",
     "text": [
      "Original: [1, [2, 3], 4, 5]\n",
      "Deep Copy: [1, [2, 3], 4, 5]\n",
      "After modifying deep copy:\n",
      "Original: [1, [2, 3], 4, 5]\n",
      "Deep Copy: [1, [99, 3], 4, 5]\n"
     ]
    }
   ],
   "source": [
    "list1 = [1, [2, 3], 4, 5]\n",
    "deep_copy = copy.deepcopy(list1)\n",
    "\n",
    "print(\"Original:\", list1)\n",
    "print(\"Deep Copy:\", deep_copy)\n",
    "\n",
    "# Modify the nested list in the deep copy\n",
    "deep_copy[1][0] = 99\n",
    "\n",
    "print(\"After modifying deep copy:\")\n",
    "print(\"Original:\", list1)\n",
    "print(\"Deep Copy:\", deep_copy)"
   ]
  },
  {
   "cell_type": "markdown",
   "id": "07994228-5c33-4b0d-b212-c8bdac2880c1",
   "metadata": {},
   "source": [
    "### Sets\n",
    " - Sets are defined using curly braces {}\n",
    " - Sets are homogeneous, duplicates are not allowed\n",
    " - Sets are mutable"
   ]
  },
  {
   "cell_type": "code",
   "execution_count": 244,
   "id": "a212ff9f-8963-48ab-9db5-57366d0dc170",
   "metadata": {},
   "outputs": [
    {
     "data": {
      "text/plain": [
       "{1, 2, 3}"
      ]
     },
     "execution_count": 244,
     "metadata": {},
     "output_type": "execute_result"
    }
   ],
   "source": [
    "st = {1,1,2,2,3}\n",
    "st"
   ]
  },
  {
   "cell_type": "code",
   "execution_count": 245,
   "id": "0ff9bc21-e8be-4ba9-8f29-15a2977cf06a",
   "metadata": {},
   "outputs": [
    {
     "data": {
      "text/plain": [
       "set"
      ]
     },
     "execution_count": 245,
     "metadata": {},
     "output_type": "execute_result"
    }
   ],
   "source": [
    "type(st)"
   ]
  },
  {
   "cell_type": "code",
   "execution_count": 246,
   "id": "98938bd0-0f5d-46a8-b905-3f4db758ec34",
   "metadata": {},
   "outputs": [
    {
     "data": {
      "text/plain": [
       "{1, 2, 3, 5}"
      ]
     },
     "execution_count": 246,
     "metadata": {},
     "output_type": "execute_result"
    }
   ],
   "source": [
    "# adding element in Set\n",
    "st.add(5)\n",
    "st"
   ]
  },
  {
   "cell_type": "code",
   "execution_count": 247,
   "id": "ee3f70d7-927c-424e-9d43-dcb3346b7ece",
   "metadata": {},
   "outputs": [
    {
     "data": {
      "text/plain": [
       "{1, 2, 5}"
      ]
     },
     "execution_count": 247,
     "metadata": {},
     "output_type": "execute_result"
    }
   ],
   "source": [
    "#removing element in set\n",
    "st.remove(3)\n",
    "st"
   ]
  },
  {
   "cell_type": "code",
   "execution_count": 249,
   "id": "1251d20b-ae41-44ad-b448-af6946b83982",
   "metadata": {},
   "outputs": [
    {
     "data": {
      "text/plain": [
       "{0, 1, 2, 3, 4}"
      ]
     },
     "execution_count": 249,
     "metadata": {},
     "output_type": "execute_result"
    }
   ],
   "source": [
    "# Set Comprehension\n",
    "setVar = {val for val in range(5)}\n",
    "setVar"
   ]
  },
  {
   "cell_type": "markdown",
   "id": "6c2ef57a-cee8-4561-b7af-3e23e441f996",
   "metadata": {},
   "source": [
    "#### Set Operations"
   ]
  },
  {
   "cell_type": "markdown",
   "id": "53a55fa2-948b-4097-8c6d-34850b39b062",
   "metadata": {},
   "source": [
    "Union\n",
    "\n",
    "It combine elements from both sets using the union() function or the | operator"
   ]
  },
  {
   "cell_type": "code",
   "execution_count": 250,
   "id": "c46e43b1-bac8-4bf9-a0d7-3f6739a94f98",
   "metadata": {},
   "outputs": [
    {
     "data": {
      "text/plain": [
       "{1, 2, 3, 4, 5, 6, 7, 8}"
      ]
     },
     "execution_count": 250,
     "metadata": {},
     "output_type": "execute_result"
    }
   ],
   "source": [
    "st1 = {1,2,3,4}\n",
    "st2 = {5,6,7,8}\n",
    "st1 | st2"
   ]
  },
  {
   "cell_type": "code",
   "execution_count": 251,
   "id": "63c864c0-50de-49b2-91f7-9c2e5945bf97",
   "metadata": {},
   "outputs": [
    {
     "data": {
      "text/plain": [
       "{1, 2, 3, 4, 5, 6, 7, 8}"
      ]
     },
     "execution_count": 251,
     "metadata": {},
     "output_type": "execute_result"
    }
   ],
   "source": [
    "st1.union(st2)"
   ]
  },
  {
   "cell_type": "markdown",
   "id": "fcded8dc-2fc5-411a-bdd0-518623bfa63b",
   "metadata": {},
   "source": [
    "Intersection\n",
    "\n",
    "used to get the common elements using intersection() function or & operator"
   ]
  },
  {
   "cell_type": "code",
   "execution_count": 252,
   "id": "c82a3ffa-ff53-402f-bc9b-4c0cc78a48bf",
   "metadata": {},
   "outputs": [
    {
     "data": {
      "text/plain": [
       "{4}"
      ]
     },
     "execution_count": 252,
     "metadata": {},
     "output_type": "execute_result"
    }
   ],
   "source": [
    "st1 = {1,2,3,4}\n",
    "st2 = {4,5,6,7,8}\n",
    "st1 & st2"
   ]
  },
  {
   "cell_type": "code",
   "execution_count": 253,
   "id": "3cd56276-2acd-41b4-b053-5e64deb0f01b",
   "metadata": {},
   "outputs": [
    {
     "data": {
      "text/plain": [
       "{4}"
      ]
     },
     "execution_count": 253,
     "metadata": {},
     "output_type": "execute_result"
    }
   ],
   "source": [
    "st1.intersection(st2)"
   ]
  },
  {
   "cell_type": "markdown",
   "id": "ab5311a2-5396-43d4-b298-e14c28c6ab02",
   "metadata": {},
   "source": [
    "Difference\n",
    "\n",
    "elements that are in one set but not in other using difference or '-' operator"
   ]
  },
  {
   "cell_type": "code",
   "execution_count": 254,
   "id": "475e477d-e666-41cc-adc9-b9d6e0acfc58",
   "metadata": {},
   "outputs": [
    {
     "data": {
      "text/plain": [
       "{1, 2, 3}"
      ]
     },
     "execution_count": 254,
     "metadata": {},
     "output_type": "execute_result"
    }
   ],
   "source": [
    "st1 - st2"
   ]
  },
  {
   "cell_type": "code",
   "execution_count": 255,
   "id": "96e68991-1065-4653-9658-cb19c49e6f95",
   "metadata": {},
   "outputs": [
    {
     "data": {
      "text/plain": [
       "{1, 2, 3}"
      ]
     },
     "execution_count": 255,
     "metadata": {},
     "output_type": "execute_result"
    }
   ],
   "source": [
    "st1.difference(st2)"
   ]
  },
  {
   "cell_type": "markdown",
   "id": "d7f1f938-ff7b-4e43-9132-eb87a03fc97c",
   "metadata": {},
   "source": [
    "Symmetric Difference\n",
    "\n",
    "elements that are in either of sets but no in both using the symmetric_difference() function or '^' operator"
   ]
  },
  {
   "cell_type": "code",
   "execution_count": 256,
   "id": "3e6e5d96-17fe-4f44-a3d1-b7e46fd89a0e",
   "metadata": {},
   "outputs": [
    {
     "data": {
      "text/plain": [
       "{1, 2, 3, 5, 6, 7, 8}"
      ]
     },
     "execution_count": 256,
     "metadata": {},
     "output_type": "execute_result"
    }
   ],
   "source": [
    "st1 ^ st2"
   ]
  },
  {
   "cell_type": "code",
   "execution_count": 257,
   "id": "fcf90c78-7623-4e00-8b6e-946e68dc673c",
   "metadata": {},
   "outputs": [
    {
     "data": {
      "text/plain": [
       "{1, 2, 3, 5, 6, 7, 8}"
      ]
     },
     "execution_count": 257,
     "metadata": {},
     "output_type": "execute_result"
    }
   ],
   "source": [
    "st1.symmetric_difference(st2)"
   ]
  },
  {
   "cell_type": "code",
   "execution_count": 258,
   "id": "f88c0999-aa5e-423e-b421-0f667078545a",
   "metadata": {},
   "outputs": [
    {
     "name": "stdout",
     "output_type": "stream",
     "text": [
      "st1: {1, 2, 3, 4}, st2: {4, 5, 6, 7, 8}\n"
     ]
    }
   ],
   "source": [
    "print(f'st1: {st1}, st2: {st2}')"
   ]
  },
  {
   "cell_type": "markdown",
   "id": "aeb8be58-e3d3-4f9b-8d26-6274f786f899",
   "metadata": {},
   "source": [
    "Unpacking Sets using operator"
   ]
  },
  {
   "cell_type": "code",
   "execution_count": 260,
   "id": "dab5cd0e-27a4-4d9e-94b9-f2d3f9d1bde9",
   "metadata": {},
   "outputs": [
    {
     "data": {
      "text/plain": [
       "{1, 2, 3, 4, 5, 6, 7, 8}"
      ]
     },
     "execution_count": 260,
     "metadata": {},
     "output_type": "execute_result"
    }
   ],
   "source": [
    "st3 = {*st1, *st2}\n",
    "st3"
   ]
  },
  {
   "cell_type": "code",
   "execution_count": 262,
   "id": "15192ddd-f776-4a6c-9cbb-936115c5a3f6",
   "metadata": {},
   "outputs": [
    {
     "data": {
      "text/plain": [
       "{1, 2, 3, 4, 5, 6, 7, 8}"
      ]
     },
     "execution_count": 262,
     "metadata": {},
     "output_type": "execute_result"
    }
   ],
   "source": [
    "st4 = st3.copy() # Normal Shallow Copy\n",
    "st4"
   ]
  },
  {
   "cell_type": "markdown",
   "id": "2c93cddd-e10e-463e-8619-98e754ce92b9",
   "metadata": {},
   "source": [
    "Some of the common Set methods are\n",
    "\n",
    " - set.add() : Adds an element\n",
    " - set.remove() : removes a member element\n",
    " - set.clear() : Removes all element in a set\n",
    " - set.discard() : removes particular element from the set\n",
    " - set.pop() : removes arbitrary element\n",
    " - set.copy : Creates a shallow copy"
   ]
  },
  {
   "cell_type": "markdown",
   "id": "bb0852a3-e4c7-44eb-87c7-f5264236b15e",
   "metadata": {},
   "source": [
    "### Dictionaries\n",
    "\n",
    "- Key-Value pairs, Unordered, Mutable, Indexed, Heterogenous\n",
    "- Unique keys (no duplication)\n",
    "- Only a Number, String or Tuple can be used as a Key"
   ]
  },
  {
   "cell_type": "code",
   "execution_count": 276,
   "id": "0210b423-4ecf-4815-9ee7-a2c72dc1e0d7",
   "metadata": {},
   "outputs": [
    {
     "data": {
      "text/plain": [
       "{'name': 'John Wick', 'location': 'Continental', 'city': 'New York'}"
      ]
     },
     "execution_count": 276,
     "metadata": {},
     "output_type": "execute_result"
    }
   ],
   "source": [
    "employees = {\n",
    "    \"name\": \"John Wick\",\n",
    "    \"location\": \"Continental\",\n",
    "    \"city\": \"New York\"\n",
    "}\n",
    "employees"
   ]
  },
  {
   "cell_type": "code",
   "execution_count": 277,
   "id": "b0a6de8e-2050-4178-b63b-b378f9d2b2ca",
   "metadata": {},
   "outputs": [
    {
     "data": {
      "text/plain": [
       "'John Wick'"
      ]
     },
     "execution_count": 277,
     "metadata": {},
     "output_type": "execute_result"
    }
   ],
   "source": [
    "# Accessing Dictionary\n",
    "employees['name']"
   ]
  },
  {
   "cell_type": "code",
   "execution_count": 278,
   "id": "f61b257c-5b0e-4e8c-a8ab-376e50e1cd01",
   "metadata": {},
   "outputs": [
    {
     "data": {
      "text/plain": [
       "{'name': 'John Wick', 'location': 'Continental', 'city': 'New Jersey'}"
      ]
     },
     "execution_count": 278,
     "metadata": {},
     "output_type": "execute_result"
    }
   ],
   "source": [
    "# updating Dictionary\n",
    "employees['city'] = 'New Jersey'\n",
    "employees"
   ]
  },
  {
   "cell_type": "code",
   "execution_count": 279,
   "id": "8eefbe09-ffd0-42e9-a49a-c0f735ba6ba3",
   "metadata": {},
   "outputs": [
    {
     "data": {
      "text/plain": [
       "{'name': 'John Wick',\n",
       " 'location': 'Continental',\n",
       " 'city': 'New Jersey',\n",
       " 'status': 'ex-communicado'}"
      ]
     },
     "execution_count": 279,
     "metadata": {},
     "output_type": "execute_result"
    }
   ],
   "source": [
    "# adding to Dictionary\n",
    "employees['status'] = 'ex-communicado'\n",
    "employees"
   ]
  },
  {
   "cell_type": "code",
   "execution_count": 280,
   "id": "afeff6c7-9136-4919-8ebf-9110ab16de2b",
   "metadata": {},
   "outputs": [
    {
     "data": {
      "text/plain": [
       "{'name': 'John Wick', 'city': 'New Jersey', 'status': 'ex-communicado'}"
      ]
     },
     "execution_count": 280,
     "metadata": {},
     "output_type": "execute_result"
    }
   ],
   "source": [
    "# remove item from dictionar, popitem() will remove last key-value pair\n",
    "employees.pop('location')\n",
    "employees"
   ]
  },
  {
   "cell_type": "code",
   "execution_count": 281,
   "id": "4114facd-a41f-463a-8c1a-29b302e378c2",
   "metadata": {},
   "outputs": [
    {
     "data": {
      "text/plain": [
       "{}"
      ]
     },
     "execution_count": 281,
     "metadata": {},
     "output_type": "execute_result"
    }
   ],
   "source": [
    "# clear all items in dictionary\n",
    "employees.clear()\n",
    "employees"
   ]
  },
  {
   "cell_type": "markdown",
   "id": "e5178a39-8910-40dd-b7ad-1849b7913d03",
   "metadata": {},
   "source": [
    "#### Dictionary Iteration"
   ]
  },
  {
   "cell_type": "code",
   "execution_count": 291,
   "id": "978ffe11-d0bc-4be3-bd04-24645770c931",
   "metadata": {},
   "outputs": [
    {
     "data": {
      "text/plain": [
       "{'name': 'John Wick', 'location': 'Continental', 'city': 'New York'}"
      ]
     },
     "execution_count": 291,
     "metadata": {},
     "output_type": "execute_result"
    }
   ],
   "source": [
    "employees = {\n",
    "    \"name\": \"John Wick\",\n",
    "    \"location\": \"Continental\",\n",
    "    \"city\": \"New York\"\n",
    "}\n",
    "employees"
   ]
  },
  {
   "cell_type": "code",
   "execution_count": 293,
   "id": "19165d28-b928-4519-af37-761d77b94a8d",
   "metadata": {},
   "outputs": [
    {
     "name": "stdout",
     "output_type": "stream",
     "text": [
      "name\n",
      "location\n",
      "city\n"
     ]
    }
   ],
   "source": [
    "# printing all keys in dict\n",
    "for key in employees.keys():\n",
    "    print(key)"
   ]
  },
  {
   "cell_type": "code",
   "execution_count": 294,
   "id": "ad675549-ef1b-4fd5-b620-ead18a735708",
   "metadata": {},
   "outputs": [
    {
     "name": "stdout",
     "output_type": "stream",
     "text": [
      "John Wick\n",
      "Continental\n",
      "New York\n"
     ]
    }
   ],
   "source": [
    "# printing all values in dict\n",
    "for value in employees.values():\n",
    "    print(value)"
   ]
  },
  {
   "cell_type": "code",
   "execution_count": 295,
   "id": "4ecd8086-52ee-4654-b4d7-cb530a008e29",
   "metadata": {},
   "outputs": [
    {
     "name": "stdout",
     "output_type": "stream",
     "text": [
      "name: John Wick\n",
      "location: Continental\n",
      "city: New York\n"
     ]
    }
   ],
   "source": [
    "# extract both key and value\n",
    "\n",
    "for key, value in employees.items():\n",
    "    print(f'{key}: {value}')"
   ]
  },
  {
   "cell_type": "code",
   "execution_count": 297,
   "id": "e7f82349-71d4-4639-9a52-da8bcc03991c",
   "metadata": {},
   "outputs": [
    {
     "data": {
      "text/plain": [
       "145"
      ]
     },
     "execution_count": 297,
     "metadata": {},
     "output_type": "execute_result"
    }
   ],
   "source": [
    "import random\n"
   ]
  },
  {
   "cell_type": "code",
   "execution_count": 322,
   "id": "08086cb0-839b-44f7-81cd-8fd464ad2248",
   "metadata": {},
   "outputs": [
    {
     "data": {
      "text/plain": [
       "{'name': ['Bruce Wayne',\n",
       "  'Clark Kent',\n",
       "  'Diana Prince',\n",
       "  'John Jones',\n",
       "  'Arthur Curry',\n",
       "  'Victor Stone',\n",
       "  'Barry Allen',\n",
       "  'Oliver Queen',\n",
       "  'Hal Jordan',\n",
       "  'Wally West'],\n",
       " 'age': [45, 38, 35, 28, 25, 36, 41, 40, 26, 36],\n",
       " 'math': [92, 100, 64, 90, 81, 68, 91, 73, 80, 98],\n",
       " 'physics': [95, 100, 95, 86, 98, 67, 93, 77, 83, 78],\n",
       " 'chemistry': [96, 68, 76, 76, 81, 82, 72, 67, 73, 81]}"
      ]
     },
     "execution_count": 322,
     "metadata": {},
     "output_type": "execute_result"
    }
   ],
   "source": [
    "#### Dict with more/list of values\n",
    "\n",
    "students = {\n",
    "    \"name\": ['Bruce Wayne', 'Clark Kent', 'Diana Prince','John Jones','Arthur Curry','Victor Stone','Barry Allen','Oliver Queen','Hal Jordan','Wally West'],\n",
    "    \"age\": [random.randint(25,45) for _ in range(10)],\n",
    "    \"math\": [random.randint(60,100) for _ in range(10)],\n",
    "    \"physics\": [random.randint(60,100) for _ in range(10)],\n",
    "    \"chemistry\": [random.randint(60,100) for _ in range(10)]\n",
    "}\n",
    "students"
   ]
  },
  {
   "cell_type": "code",
   "execution_count": 329,
   "id": "ada4a53f-8676-4a53-a25d-6a162b1f45e9",
   "metadata": {},
   "outputs": [
    {
     "data": {
      "text/plain": [
       "'CLARK KENT'"
      ]
     },
     "execution_count": 329,
     "metadata": {},
     "output_type": "execute_result"
    }
   ],
   "source": [
    "students['name'][1].upper()"
   ]
  },
  {
   "cell_type": "code",
   "execution_count": 324,
   "id": "5233b3c6-59ba-4386-b882-e6df6e4710f1",
   "metadata": {},
   "outputs": [
    {
     "data": {
      "text/plain": [
       "10"
      ]
     },
     "execution_count": 324,
     "metadata": {},
     "output_type": "execute_result"
    }
   ],
   "source": [
    "len(students['name'])"
   ]
  },
  {
   "cell_type": "code",
   "execution_count": 336,
   "id": "8f8cf5e7-2166-4492-8569-64b28923fe6c",
   "metadata": {},
   "outputs": [
    {
     "name": "stdout",
     "output_type": "stream",
     "text": [
      "Name\t\tAge\t\tMaths\t\tPhysics\t\tChemistry\n",
      "Bruce Wayne\t45\t\t92\t\t95\t\t96\n",
      "Clark Kent\t38\t\t100\t\t100\t\t68\n",
      "Diana Prince\t35\t\t64\t\t95\t\t76\n",
      "John Jones\t28\t\t90\t\t86\t\t76\n",
      "Arthur Curry\t25\t\t81\t\t98\t\t81\n",
      "Victor Stone\t36\t\t68\t\t67\t\t82\n",
      "Barry Allen\t41\t\t91\t\t93\t\t72\n",
      "Oliver Queen\t40\t\t73\t\t77\t\t67\n",
      "Hal Jordan\t26\t\t80\t\t83\t\t73\n",
      "Wally West\t36\t\t98\t\t78\t\t81\n"
     ]
    }
   ],
   "source": [
    "print('Name\\t\\tAge\\t\\tMaths\\t\\tPhysics\\t\\tChemistry')\n",
    "\n",
    "for i in range(len(students['name'])):\n",
    "    print(f'{students['name'][i]}\\t{students['age'][i]}\\t\\t{students['math'][i]}\\t\\t{students['physics'][i]}\\t\\t{students['chemistry'][i]}')"
   ]
  },
  {
   "cell_type": "markdown",
   "id": "5b42eb22-a235-4325-bf4b-8c564267e2cc",
   "metadata": {},
   "source": [
    "### Nested Dictionary"
   ]
  },
  {
   "cell_type": "code",
   "execution_count": 343,
   "id": "a2242bbb-447d-4465-bbfc-9f4e139d2d91",
   "metadata": {},
   "outputs": [
    {
     "data": {
      "text/plain": [
       "{'John Wick': {'Age': 27, 'Maths': 98, 'Physics': 100, 'Chemistry': 85},\n",
       " 'Vito Corleone': {'Age': 28, 'Maths': 67, 'Physics': 72, 'Chemistry': 90},\n",
       " 'Ellis Redding': {'Age': 28, 'Maths': 60, 'Physics': 96, 'Chemistry': 89}}"
      ]
     },
     "execution_count": 343,
     "metadata": {},
     "output_type": "execute_result"
    }
   ],
   "source": [
    "# Another type of dictionary creation: Nested Dictionary\n",
    "\n",
    "age = lambda: random.randint(25,45)\n",
    "marks = lambda: random.randint(60,100)\n",
    "\n",
    "students = {\n",
    "    'John Wick': {'Age': age(), 'Maths': marks(), 'Physics': marks(), 'Chemistry': marks()},\n",
    "    'Vito Corleone': {'Age': age(), 'Maths': marks(), 'Physics': marks(), 'Chemistry': marks()},\n",
    "    'Ellis Redding': {'Age': age(), 'Maths': marks(), 'Physics': marks(), 'Chemistry': marks()},\n",
    "}\n",
    "\n",
    "students"
   ]
  },
  {
   "cell_type": "code",
   "execution_count": 342,
   "id": "9819b46c-9bb1-40b8-a2b6-58fa5c13e01c",
   "metadata": {},
   "outputs": [
    {
     "name": "stdout",
     "output_type": "stream",
     "text": [
      "Name\t\tAge\t\tMaths\t\tPhysics\t\tChemistry\n",
      "John Wick\t32\t\t75\t\t73\t\t92\n",
      "Vito Corleone\t31\t\t64\t\t87\t\t80\n",
      "Ellis Redding\t44\t\t69\t\t61\t\t61\n"
     ]
    }
   ],
   "source": [
    "print('Name\\t\\tAge\\t\\tMaths\\t\\tPhysics\\t\\tChemistry')\n",
    "\n",
    "for name, details in students.items():\n",
    "    print(f'{name}\\t{details[\"Age\"]}\\t\\t{details[\"Maths\"]}\\t\\t{details[\"Physics\"]}\\t\\t{details[\"Chemistry\"]}')\n"
   ]
  },
  {
   "cell_type": "markdown",
   "id": "10fb3ad1-f204-4c85-99af-ad28a57120ec",
   "metadata": {},
   "source": [
    "### Shallow Copy vs Deep Copy\n",
    "\n",
    "- Shallow Copy: when copied as shallow copy, the references of the objects are copied for nested objects, hence any changes in the duplicate also gets impacted in original data\n",
    "- Deep Copy: when copied, entire objects are duplicated, so any changes in the duplicate will not impact the original data"
   ]
  },
  {
   "cell_type": "code",
   "execution_count": 345,
   "id": "91b0c62d-22cb-4b81-a180-1bfa00ff996a",
   "metadata": {},
   "outputs": [
    {
     "data": {
      "text/plain": [
       "{'name': 'John Wick', 'age': 40, 'nickname': ['BoogeyMan', 'Babayaga']}"
      ]
     },
     "execution_count": 345,
     "metadata": {},
     "output_type": "execute_result"
    }
   ],
   "source": [
    "originalData = {\n",
    "    'name': 'John Wick',\n",
    "    'age': 40,\n",
    "    'nickname': ['BoogeyMan','Babayaga']\n",
    "}\n",
    "originalData"
   ]
  },
  {
   "cell_type": "code",
   "execution_count": 346,
   "id": "3a9ba2e9-3029-4ab1-8ed1-f93ab039e4ad",
   "metadata": {},
   "outputs": [
    {
     "data": {
      "text/plain": [
       "{'name': 'John Wick', 'age': 40, 'nickname': ['BoogeyMan', 'Babayaga']}"
      ]
     },
     "execution_count": 346,
     "metadata": {},
     "output_type": "execute_result"
    }
   ],
   "source": [
    "shallowcopy = dict(originalData)\n",
    "shallowcopy"
   ]
  },
  {
   "cell_type": "code",
   "execution_count": 347,
   "id": "82216ac8-3602-40b3-af73-ad7a7decc3e8",
   "metadata": {},
   "outputs": [
    {
     "data": {
      "text/plain": [
       "{'name': 'John Wick',\n",
       " 'age': 45,\n",
       " 'nickname': ['BoogeyMan', 'Babayaga', 'Assasin']}"
      ]
     },
     "execution_count": 347,
     "metadata": {},
     "output_type": "execute_result"
    }
   ],
   "source": [
    "shallowcopy['age'] = 45\n",
    "shallowcopy['nickname'].append('Assasin')\n",
    "shallowcopy"
   ]
  },
  {
   "cell_type": "code",
   "execution_count": 348,
   "id": "edfca4ac-ba8f-49dd-9bfc-079a13276eb5",
   "metadata": {},
   "outputs": [
    {
     "data": {
      "text/plain": [
       "{'name': 'John Wick',\n",
       " 'age': 40,\n",
       " 'nickname': ['BoogeyMan', 'Babayaga', 'Assasin']}"
      ]
     },
     "execution_count": 348,
     "metadata": {},
     "output_type": "execute_result"
    }
   ],
   "source": [
    "originalData"
   ]
  },
  {
   "cell_type": "markdown",
   "id": "556569a6-d4f2-4c65-849d-71c3b631c671",
   "metadata": {},
   "source": [
    "#### Deep Copy"
   ]
  },
  {
   "cell_type": "code",
   "execution_count": 349,
   "id": "8b13ac21-7ede-4a59-bfc8-c8b362fb1135",
   "metadata": {},
   "outputs": [
    {
     "data": {
      "text/plain": [
       "{'name': 'John Wick',\n",
       " 'age': 40,\n",
       " 'nickname': ['BoogeyMan', 'Babayaga', 'Assasin']}"
      ]
     },
     "execution_count": 349,
     "metadata": {},
     "output_type": "execute_result"
    }
   ],
   "source": [
    "originalData"
   ]
  },
  {
   "cell_type": "code",
   "execution_count": 350,
   "id": "0c318213-93eb-4e85-8d52-3242d9f02f68",
   "metadata": {},
   "outputs": [
    {
     "data": {
      "text/plain": [
       "{'name': 'John Wick',\n",
       " 'age': 40,\n",
       " 'nickname': ['BoogeyMan', 'Babayaga', 'Assasin']}"
      ]
     },
     "execution_count": 350,
     "metadata": {},
     "output_type": "execute_result"
    }
   ],
   "source": [
    "deepcopy = copy.deepcopy(originalData)\n",
    "deepcopy"
   ]
  },
  {
   "cell_type": "code",
   "execution_count": 355,
   "id": "f0bc31ee-7e9f-4810-833d-627431825acc",
   "metadata": {},
   "outputs": [
    {
     "data": {
      "text/plain": [
       "{'name': 'John Wick', 'age': 42, 'nickname': ['BoogeyMan', 'Babayaga']}"
      ]
     },
     "execution_count": 355,
     "metadata": {},
     "output_type": "execute_result"
    }
   ],
   "source": [
    "deepcopy['age']=42\n",
    "deepcopy['nickname'].remove('Assasin')\n",
    "deepcopy"
   ]
  },
  {
   "cell_type": "code",
   "execution_count": 356,
   "id": "1c720fab-d562-478d-b0c5-78f933c0f2db",
   "metadata": {},
   "outputs": [
    {
     "data": {
      "text/plain": [
       "{'name': 'John Wick',\n",
       " 'age': 40,\n",
       " 'nickname': ['BoogeyMan', 'Babayaga', 'Assasin']}"
      ]
     },
     "execution_count": 356,
     "metadata": {},
     "output_type": "execute_result"
    }
   ],
   "source": [
    "originalData"
   ]
  },
  {
   "cell_type": "markdown",
   "id": "d60b8dd4-f093-43f4-bcef-8bd5c5150feb",
   "metadata": {},
   "source": [
    "### Arrays"
   ]
  },
  {
   "cell_type": "code",
   "execution_count": 1,
   "id": "36ba574a-3574-4bd5-a5f7-3c1bcc62dbe9",
   "metadata": {},
   "outputs": [],
   "source": [
    "import array as arr"
   ]
  },
  {
   "cell_type": "code",
   "execution_count": 6,
   "id": "212934a3-9092-48cd-a197-abe54a0acf81",
   "metadata": {},
   "outputs": [
    {
     "name": "stdout",
     "output_type": "stream",
     "text": [
      "array('i', [0, 1, 2, 3, 4, 5])\n"
     ]
    }
   ],
   "source": [
    "ar = arr.array('i', [0,1,2,3,4,5])\n",
    "print(ar)"
   ]
  },
  {
   "cell_type": "code",
   "execution_count": 362,
   "id": "111a5d53-9302-48f3-aeea-a0539563253f",
   "metadata": {},
   "outputs": [
    {
     "name": "stdout",
     "output_type": "stream",
     "text": [
      "0\n",
      "1\n",
      "2\n",
      "3\n",
      "4\n",
      "5\n"
     ]
    }
   ],
   "source": [
    "for i in ar:\n",
    "    print(i)"
   ]
  },
  {
   "cell_type": "code",
   "execution_count": 11,
   "id": "077a1166-506e-4a82-bc2e-a58f461a5b51",
   "metadata": {},
   "outputs": [
    {
     "data": {
      "text/plain": [
       "array('u', 'String')"
      ]
     },
     "execution_count": 11,
     "metadata": {},
     "output_type": "execute_result"
    }
   ],
   "source": [
    "ar2 = arr.array('u', 'String')\n",
    "ar2"
   ]
  },
  {
   "cell_type": "code",
   "execution_count": 3,
   "id": "194b8395-eb6a-4564-bf4d-5fb2b5e22a88",
   "metadata": {},
   "outputs": [
    {
     "name": "stdout",
     "output_type": "stream",
     "text": [
      "S\n",
      "t\n",
      "r\n",
      "i\n",
      "n\n",
      "g\n"
     ]
    }
   ],
   "source": [
    "for i in ar2:\n",
    "    print(i)"
   ]
  },
  {
   "cell_type": "markdown",
   "id": "ac24c406-5410-4ee8-8d3e-9cdd49fc8a1b",
   "metadata": {},
   "source": [
    " - 'i' - signed int\n",
    " - 'u' - character\n",
    " - 'f' - floating point"
   ]
  },
  {
   "cell_type": "code",
   "execution_count": 4,
   "id": "2b752c13-6f85-40f1-945e-ff069e0060f5",
   "metadata": {},
   "outputs": [
    {
     "data": {
      "text/plain": [
       "'r'"
      ]
     },
     "execution_count": 4,
     "metadata": {},
     "output_type": "execute_result"
    }
   ],
   "source": [
    "ar2[2]"
   ]
  },
  {
   "cell_type": "code",
   "execution_count": 7,
   "id": "da50f911-e75e-4589-b3e1-d95797f9a8a8",
   "metadata": {},
   "outputs": [
    {
     "data": {
      "text/plain": [
       "0"
      ]
     },
     "execution_count": 7,
     "metadata": {},
     "output_type": "execute_result"
    }
   ],
   "source": [
    "ar[0]"
   ]
  },
  {
   "cell_type": "markdown",
   "id": "baf511e9-a0f2-441d-82a3-0898b6bf9c22",
   "metadata": {},
   "source": [
    "#### Insertion in Array"
   ]
  },
  {
   "cell_type": "code",
   "execution_count": 8,
   "id": "e608a8b2-0307-4ecf-b8f2-d1adefbcb4af",
   "metadata": {},
   "outputs": [
    {
     "data": {
      "text/plain": [
       "array('i', [11, 0, 1, 2, 3, 4, 5])"
      ]
     },
     "execution_count": 8,
     "metadata": {},
     "output_type": "execute_result"
    }
   ],
   "source": [
    "ar.insert(0,11)\n",
    "ar"
   ]
  },
  {
   "cell_type": "code",
   "execution_count": 12,
   "id": "81c38c7c-ea2d-4417-8c5e-e995b11d9cf4",
   "metadata": {},
   "outputs": [
    {
     "data": {
      "text/plain": [
       "array('u', 'STtring')"
      ]
     },
     "execution_count": 12,
     "metadata": {},
     "output_type": "execute_result"
    }
   ],
   "source": [
    "ar2.insert(1,'T')\n",
    "ar2"
   ]
  },
  {
   "cell_type": "markdown",
   "id": "e46a241b-d6b1-43c9-b697-834c0b4817fd",
   "metadata": {},
   "source": [
    "#### Appending an array"
   ]
  },
  {
   "cell_type": "code",
   "execution_count": 28,
   "id": "ea7caaca-011c-47b1-95f8-04fcd01bb966",
   "metadata": {},
   "outputs": [
    {
     "data": {
      "text/plain": [
       "array('i', [11, 1, 2, 3, 4, 5, 20])"
      ]
     },
     "execution_count": 28,
     "metadata": {},
     "output_type": "execute_result"
    }
   ],
   "source": [
    "ar.append(20)\n",
    "ar"
   ]
  },
  {
   "cell_type": "markdown",
   "id": "d7758088-4ac5-40b9-9564-26bf63c0fb9e",
   "metadata": {},
   "source": [
    "#### Deletion in Array"
   ]
  },
  {
   "cell_type": "code",
   "execution_count": 13,
   "id": "3e830808-3518-446d-a3a8-afb43de030a6",
   "metadata": {},
   "outputs": [
    {
     "data": {
      "text/plain": [
       "array('i', [11, 1, 2, 3, 4, 5])"
      ]
     },
     "execution_count": 13,
     "metadata": {},
     "output_type": "execute_result"
    }
   ],
   "source": [
    "ar.remove(0)\n",
    "ar"
   ]
  },
  {
   "cell_type": "code",
   "execution_count": 21,
   "id": "a29127ad-d5af-4d2a-8196-1cbda48a1ee3",
   "metadata": {},
   "outputs": [
    {
     "data": {
      "text/plain": [
       "array('u', 'String')"
      ]
     },
     "execution_count": 21,
     "metadata": {},
     "output_type": "execute_result"
    }
   ],
   "source": [
    "ar2.remove('T')\n",
    "ar2"
   ]
  },
  {
   "cell_type": "markdown",
   "id": "6dea1351-17c4-4ec5-bb55-f614409eb66f",
   "metadata": {},
   "source": [
    "#### Searching an Array"
   ]
  },
  {
   "cell_type": "code",
   "execution_count": 22,
   "id": "0d560e7c-3396-4c51-8da0-55929924a237",
   "metadata": {},
   "outputs": [
    {
     "data": {
      "text/plain": [
       "3"
      ]
     },
     "execution_count": 22,
     "metadata": {},
     "output_type": "execute_result"
    }
   ],
   "source": [
    "ar2.index('i')"
   ]
  },
  {
   "cell_type": "markdown",
   "id": "5b099147-9a2d-4f4c-ab4e-4fd2acf180c5",
   "metadata": {},
   "source": [
    "#### Updating an array"
   ]
  },
  {
   "cell_type": "code",
   "execution_count": 23,
   "id": "a3417d52-e4f7-4841-b3da-3c3f342780a9",
   "metadata": {},
   "outputs": [
    {
     "data": {
      "text/plain": [
       "array('u', 'STring')"
      ]
     },
     "execution_count": 23,
     "metadata": {},
     "output_type": "execute_result"
    }
   ],
   "source": [
    "ar2[1]='T'\n",
    "ar2"
   ]
  },
  {
   "cell_type": "markdown",
   "id": "a14ff995-5bc1-4f40-bb15-c6b182333a89",
   "metadata": {},
   "source": [
    "#### Iterating thru loc"
   ]
  },
  {
   "cell_type": "code",
   "execution_count": 24,
   "id": "4d7b14c7-315c-461d-a21e-cbddce73212c",
   "metadata": {},
   "outputs": [
    {
     "name": "stdout",
     "output_type": "stream",
     "text": [
      "loc: 0, value: S\n",
      "loc: 1, value: T\n",
      "loc: 2, value: r\n",
      "loc: 3, value: i\n",
      "loc: 4, value: n\n",
      "loc: 5, value: g\n"
     ]
    }
   ],
   "source": [
    "for loc, val in enumerate(ar2):\n",
    "    print(f'loc: {loc}, value: {val}')"
   ]
  },
  {
   "cell_type": "markdown",
   "id": "3ace759c-a296-4603-8185-64f34aa462e6",
   "metadata": {},
   "source": [
    "enumerate() function can be used to access elements of an array"
   ]
  },
  {
   "cell_type": "markdown",
   "id": "d4d14d53-43ed-40b2-8553-c94a11327099",
   "metadata": {},
   "source": [
    "#### Slicing in Array"
   ]
  },
  {
   "cell_type": "code",
   "execution_count": 25,
   "id": "876dcc24-6691-4d86-bef0-9c07d2fd5ba0",
   "metadata": {},
   "outputs": [
    {
     "data": {
      "text/plain": [
       "array('u', 'ring')"
      ]
     },
     "execution_count": 25,
     "metadata": {},
     "output_type": "execute_result"
    }
   ],
   "source": [
    "ar2[2:]"
   ]
  },
  {
   "cell_type": "code",
   "execution_count": 26,
   "id": "5adeb48b-82e8-4a01-bbc9-9025b102fdd1",
   "metadata": {},
   "outputs": [
    {
     "data": {
      "text/plain": [
       "array('u', 'STrin')"
      ]
     },
     "execution_count": 26,
     "metadata": {},
     "output_type": "execute_result"
    }
   ],
   "source": [
    "ar2[:-1]"
   ]
  },
  {
   "cell_type": "code",
   "execution_count": 27,
   "id": "ca9709f9-0b81-4db8-b5d2-5d67bc39ecaf",
   "metadata": {},
   "outputs": [
    {
     "data": {
      "text/plain": [
       "array('u', 'ri')"
      ]
     },
     "execution_count": 27,
     "metadata": {},
     "output_type": "execute_result"
    }
   ],
   "source": [
    "ar2[2:4]"
   ]
  },
  {
   "cell_type": "markdown",
   "id": "b79eee54-c0d1-4a08-8c36-41c1a167496c",
   "metadata": {},
   "source": [
    "#### Reversing an Array"
   ]
  },
  {
   "cell_type": "code",
   "execution_count": 29,
   "id": "cfd2605b-e56c-4dad-ba6c-b1daca833cfc",
   "metadata": {},
   "outputs": [
    {
     "data": {
      "text/plain": [
       "array('i', [1, 2, 3, 4, 5])"
      ]
     },
     "execution_count": 29,
     "metadata": {},
     "output_type": "execute_result"
    }
   ],
   "source": [
    "ar3 = arr.array('i', [1,2,3,4,5])\n",
    "ar3"
   ]
  },
  {
   "cell_type": "code",
   "execution_count": 30,
   "id": "3811ded8-7d51-465b-9890-03133edf5f3f",
   "metadata": {},
   "outputs": [
    {
     "data": {
      "text/plain": [
       "[1, 2, 3, 4, 5]"
      ]
     },
     "execution_count": 30,
     "metadata": {},
     "output_type": "execute_result"
    }
   ],
   "source": [
    "listArray = ar3.tolist()\n",
    "listArray"
   ]
  },
  {
   "cell_type": "code",
   "execution_count": 31,
   "id": "6da7e300-2e4c-43eb-a1b5-f97c707bcb58",
   "metadata": {},
   "outputs": [
    {
     "data": {
      "text/plain": [
       "[5, 4, 3, 2, 1]"
      ]
     },
     "execution_count": 31,
     "metadata": {},
     "output_type": "execute_result"
    }
   ],
   "source": [
    "listArray.reverse()\n",
    "listArray"
   ]
  },
  {
   "cell_type": "code",
   "execution_count": 32,
   "id": "7d5fa3bf-f1cc-4e76-a53d-a014e7817fd9",
   "metadata": {},
   "outputs": [
    {
     "data": {
      "text/plain": [
       "array('i', [5, 4, 3, 2, 1])"
      ]
     },
     "execution_count": 32,
     "metadata": {},
     "output_type": "execute_result"
    }
   ],
   "source": [
    "ar3 = arr.array('i', listArray)\n",
    "ar3"
   ]
  },
  {
   "cell_type": "markdown",
   "id": "fcbbbaab-46dd-484d-863c-c79fb8fb130e",
   "metadata": {},
   "source": [
    "#### Sorting an Array"
   ]
  },
  {
   "cell_type": "code",
   "execution_count": 37,
   "id": "064b2b5d-684e-472d-93cd-727a2bc96728",
   "metadata": {},
   "outputs": [
    {
     "data": {
      "text/plain": [
       "array('i', [7, 4, 5, 3, 8, 4, 6])"
      ]
     },
     "execution_count": 37,
     "metadata": {},
     "output_type": "execute_result"
    }
   ],
   "source": [
    "ar4 = arr.array('i', [7,4,5,3,8,4,6])\n",
    "ar4"
   ]
  },
  {
   "cell_type": "code",
   "execution_count": 38,
   "id": "64d16e0f-c887-445b-9c79-00ff7c58d3e2",
   "metadata": {},
   "outputs": [
    {
     "data": {
      "text/plain": [
       "[7, 4, 5, 3, 8, 4, 6]"
      ]
     },
     "execution_count": 38,
     "metadata": {},
     "output_type": "execute_result"
    }
   ],
   "source": [
    "listArray2 = ar4.tolist()\n",
    "listArray2"
   ]
  },
  {
   "cell_type": "code",
   "execution_count": 39,
   "id": "95de7c24-6e6f-4a20-b3b9-b6557c2473e4",
   "metadata": {},
   "outputs": [
    {
     "data": {
      "text/plain": [
       "array('i', [3, 4, 4, 5, 6, 7, 8])"
      ]
     },
     "execution_count": 39,
     "metadata": {},
     "output_type": "execute_result"
    }
   ],
   "source": [
    "listArray2.sort()\n",
    "ar4 = arr.array('i', listArray2)\n",
    "ar4"
   ]
  },
  {
   "cell_type": "markdown",
   "id": "68a970f5-0968-46d2-a6f1-bc3e8c20f1d8",
   "metadata": {},
   "source": [
    "### Object Oriented Programming\n",
    "\n",
    "\n",
    "#### Class and Objects\n",
    "\n",
    " - Class is an user-defined blueprint that consists objects which define a set of attributes.\n",
    " - Attributes are data members such as class variables, instance variables and methods\n",
    " - As usual, Object refers to an instance of the class"
   ]
  },
  {
   "cell_type": "code",
   "execution_count": 41,
   "id": "26099f0d-125c-4c01-bb2f-b701014769df",
   "metadata": {},
   "outputs": [
    {
     "name": "stdout",
     "output_type": "stream",
     "text": [
      "Peter Parker - age 15, studying in Junior High\n"
     ]
    }
   ],
   "source": [
    "class Students:\n",
    "    def __init__(self, studentName, age, grade):\n",
    "        self.studentName = studentName\n",
    "        self.age = age\n",
    "        self.grade = grade\n",
    "\n",
    "    def showStudentDetails(self):\n",
    "        print(f'{self.studentName} - age {self.age}, studying in {self.grade}')\n",
    "\n",
    "\n",
    "classObj = Students('Peter Parker', '15', 'Junior High')\n",
    "classObj.showStudentDetails()"
   ]
  },
  {
   "cell_type": "markdown",
   "id": "b4785e79-f7b0-4571-80b5-d0679b226eca",
   "metadata": {},
   "source": [
    "### Inheritance"
   ]
  },
  {
   "cell_type": "markdown",
   "id": "591c8e50-de7e-49f6-9d9a-d96fcff11460",
   "metadata": {},
   "source": [
    "5 Inheritance in Python\n",
    "\n",
    "- Multiple Inheritance\n",
    "- Single Inheritance\n",
    "- Hybrid Inheritance\n",
    "- Hierarchial Inheritance\n",
    "- Multi-level Inheritance"
   ]
  },
  {
   "cell_type": "code",
   "execution_count": 54,
   "id": "b10d0bdc-6f47-403c-8f0e-b92b6eeff6c7",
   "metadata": {},
   "outputs": [
    {
     "data": {
      "text/plain": [
       "\"Barbara Gordon, Grade: 8, Subject List: ['AP Trignometry', 'AP Calculus', 'AP History']\""
      ]
     },
     "execution_count": 54,
     "metadata": {},
     "output_type": "execute_result"
    }
   ],
   "source": [
    "class Syllabus:\n",
    "    def __init__(self, subjects): # subjects is an list data type\n",
    "        self.subjects = subjects\n",
    "\n",
    "class Grades(Syllabus):\n",
    "    def __init__(self, name, grade, subjects):\n",
    "        super().__init__(subjects) # use super() when calling the construtor or instance in base class\n",
    "        self.name = name\n",
    "        self.grade = grade\n",
    "        \n",
    "    def getGrades(self):\n",
    "        return f'{self.name}, Grade: {self.grade}, Subject List: {self.subjects}'\n",
    "\n",
    "g = Grades('Barbara Gordon', 8, ['AP Trignometry', 'AP Calculus','AP History'])\n",
    "g.getGrades()"
   ]
  },
  {
   "cell_type": "markdown",
   "id": "bbbebc32-21fb-4102-beaf-8c372971a7f2",
   "metadata": {},
   "source": [
    "#### Polymorphism"
   ]
  },
  {
   "cell_type": "markdown",
   "id": "4386d1fd-c846-4066-94c9-128cfe9367c3",
   "metadata": {},
   "source": [
    "#### Overriding\n",
    "\n",
    "When child has the method with same name and signature as in parent"
   ]
  },
  {
   "cell_type": "code",
   "execution_count": 49,
   "id": "e9109b7c-ea36-434a-a8ff-959093b4233c",
   "metadata": {},
   "outputs": [
    {
     "name": "stdout",
     "output_type": "stream",
     "text": [
      "Balance: 20\n",
      "Balance: 2000\n"
     ]
    }
   ],
   "source": [
    "class Father:\n",
    "    def Wallet(self):\n",
    "        print('Balance: 2000')\n",
    "\n",
    "class Son(Father):\n",
    "    def Wallet(self):\n",
    "        print('Balance: 20')\n",
    "\n",
    "# initialize class object\n",
    "s = Son()\n",
    "s.Wallet() # This will call the Wallet method in the Son class (overrides Father's method)\n",
    "f = Father()\n",
    "f.Wallet()"
   ]
  },
  {
   "cell_type": "markdown",
   "id": "5b2f0fd7-2747-42fe-ae9f-f8c2c88785eb",
   "metadata": {},
   "source": [
    "#### Overloading"
   ]
  },
  {
   "cell_type": "code",
   "execution_count": 50,
   "id": "3581cc01-d074-4a06-b836-fdf24c67611c",
   "metadata": {},
   "outputs": [
    {
     "name": "stdout",
     "output_type": "stream",
     "text": [
      "Adding two numbers: 30\n",
      "Adding three numbers: 60\n"
     ]
    }
   ],
   "source": [
    "class Calculator:\n",
    "    def add(self, a, b, c=None):\n",
    "        if c is not None:\n",
    "            return a + b + c\n",
    "        else:\n",
    "            return a + b\n",
    "\n",
    "\n",
    "calc = Calculator()\n",
    "\n",
    "\n",
    "result1 = calc.add(10, 20)  \n",
    "result2 = calc.add(10, 20, 30)\n",
    "\n",
    "print(f\"Adding two numbers: {result1}\")  # Output: 30\n",
    "print(f\"Adding three numbers: {result2}\")  # Output: 60\n"
   ]
  },
  {
   "cell_type": "markdown",
   "id": "27a1a00e-90b6-4363-a161-e199af658eb2",
   "metadata": {},
   "source": [
    "### Encapsulation\n",
    "\n",
    "(using getter and setter)"
   ]
  },
  {
   "cell_type": "code",
   "execution_count": 51,
   "id": "3afcccad-9b09-41c7-a61c-2e9a263313e3",
   "metadata": {},
   "outputs": [
    {
     "data": {
      "text/plain": [
       "'Name: Jason Todd, Age: 14, Grade: junior'"
      ]
     },
     "execution_count": 51,
     "metadata": {},
     "output_type": "execute_result"
    }
   ],
   "source": [
    "class Student:\n",
    "    def __init__(self):\n",
    "        self.name = 'Jason Todd'\n",
    "        self.age = 14\n",
    "        self.grade = 'junior'\n",
    "\n",
    "    def getStudent(self):\n",
    "        return f'Name: {self.name}, Age: {self.age}, Grade: {self.grade}'\n",
    "\n",
    "    def setStudent(self, name, age, grade):\n",
    "        self.name = name\n",
    "        self.age = age\n",
    "        self.grade = grade\n",
    "\n",
    "s = Student()\n",
    "s.getStudent()"
   ]
  },
  {
   "cell_type": "code",
   "execution_count": 52,
   "id": "3ce03961-a41e-42c6-a3ad-81292c498abf",
   "metadata": {},
   "outputs": [
    {
     "data": {
      "text/plain": [
       "'Name: Dick Grayson, Age: 15, Grade: Junior High'"
      ]
     },
     "execution_count": 52,
     "metadata": {},
     "output_type": "execute_result"
    }
   ],
   "source": [
    "s.setStudent('Dick Grayson', 15, 'Junior High')\n",
    "s.getStudent()"
   ]
  },
  {
   "cell_type": "markdown",
   "id": "85e053f6-d5fa-4d3f-8e54-a6b0c1bec33d",
   "metadata": {},
   "source": [
    "### Abstraction\n",
    "\n",
    " - hiding the implementation details of a class and exposing only the essential features\n",
    "\n",
    "\n",
    "Euclidean distance calculation using Abstraction"
   ]
  },
  {
   "cell_type": "code",
   "execution_count": 57,
   "id": "fec3c611-2715-48bf-a83b-62229e610832",
   "metadata": {},
   "outputs": [],
   "source": [
    "from abc import ABC, abstractmethod\n",
    "import math"
   ]
  },
  {
   "cell_type": "code",
   "execution_count": 59,
   "id": "8fc1b4c8-312b-4ec9-b7dc-efeb7ba0c1d3",
   "metadata": {},
   "outputs": [
    {
     "name": "stdout",
     "output_type": "stream",
     "text": [
      "2D Euclidean Distance: 5.0\n",
      "3D Euclidean Distance: 3.0\n"
     ]
    }
   ],
   "source": [
    "class Distance(ABC):\n",
    "    @abstractmethod # abstract method in abstract class for distance calculation\n",
    "    def calculate(self):\n",
    "        pass\n",
    "\n",
    "# for 2D Euclidean distance\n",
    "class Distance2D(Distance):\n",
    "    def __init__(self, x1, y1, x2, y2):\n",
    "        self.x1 = x1\n",
    "        self.y1 = y1\n",
    "        self.x2 = x2\n",
    "        self.y2 = y2\n",
    "\n",
    "    def calculate(self):\n",
    "        return math.sqrt((self.x2 - self.x1) ** 2 + (self.y2 - self.y1) ** 2)\n",
    "\n",
    "# 3D Euclidean distance\n",
    "class Distance3D(Distance):\n",
    "    def __init__(self, x1, y1, z1, x2, y2, z2):\n",
    "        self.x1 = x1\n",
    "        self.y1 = y1\n",
    "        self.z1 = z1\n",
    "        self.x2 = x2\n",
    "        self.y2 = y2\n",
    "        self.z2 = z2\n",
    "\n",
    "    def calculate(self):\n",
    "        return math.sqrt((self.x2 - self.x1) ** 2 + (self.y2 - self.y1) ** 2 + (self.z2 - self.z1) ** 2)\n",
    "\n",
    "distance_2d = Distance2D(0, 0, 3, 4)\n",
    "print(f\"2D Euclidean Distance: {distance_2d.calculate()}\")\n",
    "\n",
    "distance_3d = Distance3D(0, 0, 0, 1, 2, 2)\n",
    "print(f\"3D Euclidean Distance: {distance_3d.calculate()}\")\n"
   ]
  },
  {
   "cell_type": "code",
   "execution_count": null,
   "id": "800f7888-c976-4261-ba01-187f2a131911",
   "metadata": {},
   "outputs": [],
   "source": []
  }
 ],
 "metadata": {
  "kernelspec": {
   "display_name": "Python 3 (ipykernel)",
   "language": "python",
   "name": "python3"
  },
  "language_info": {
   "codemirror_mode": {
    "name": "ipython",
    "version": 3
   },
   "file_extension": ".py",
   "mimetype": "text/x-python",
   "name": "python",
   "nbconvert_exporter": "python",
   "pygments_lexer": "ipython3",
   "version": "3.12.0"
  }
 },
 "nbformat": 4,
 "nbformat_minor": 5
}
