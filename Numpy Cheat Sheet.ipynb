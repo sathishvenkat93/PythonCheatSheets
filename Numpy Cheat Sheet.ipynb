{
 "cells": [
  {
   "cell_type": "code",
   "execution_count": 1,
   "id": "ad64fd7c-4324-4f5a-9e70-29f612826958",
   "metadata": {},
   "outputs": [],
   "source": [
    "import numpy as np"
   ]
  },
  {
   "cell_type": "markdown",
   "id": "4e3171c9-5871-43ed-860b-058ce510fd11",
   "metadata": {},
   "source": [
    "## What is Numpy ?\n",
    "\n",
    "A python package for scientific computation.  It is convenient to use on element wise operation + vectorization\n",
    "\n",
    "## Why Numpy is more powerful than other packages?\n",
    "**Efficiency**: \n",
    "NumPy is implemented in C and Fortran, which makes it highly efficient for numerical operations. The underlying array operations are performed in compiled code, resulting in faster execution compared to pure Python implementations or some other numerical computing libraries.\n",
    "\n",
    "**Multidimensional Arrays**: NumPy provides a powerful array object called ndarray that supports multidimensional arrays and matrices. \n",
    "\n",
    "**Broadcasting**: NumPy's broadcasting feature allows for implicit element-wise operations on arrays with different shapes and sizes. This simplifies code and eliminates the need for explicit loops, making it more convenient for users.\n",
    "\n",
    "**Vectorization**: NumPy encourages vectorized operations, where mathematical operations are performed on entire arrays rather than individual elements. This approach is more faster than using traditional Python loops."
   ]
  },
  {
   "cell_type": "markdown",
   "id": "15af44e6-3612-40f7-b314-c593c7ed63bb",
   "metadata": {},
   "source": [
    "#### Initialization of a Numpy array"
   ]
  },
  {
   "cell_type": "code",
   "execution_count": 3,
   "id": "08882236-8394-417a-8ddf-9ff7b0782f7b",
   "metadata": {},
   "outputs": [
    {
     "name": "stdout",
     "output_type": "stream",
     "text": [
      "direct:  [1 2 3 4 5]\n",
      "thru List Variable:  [1 2 3 4 5]\n"
     ]
    }
   ],
   "source": [
    "# Initializing thru python list\n",
    "arr1 = np.array([1,2,3,4,5])\n",
    "print(\"direct: \",arr1)\n",
    "varList = [1,2,3,4,5]\n",
    "arr2 = np.array(varList)\n",
    "print(\"thru List Variable: \",arr2)"
   ]
  },
  {
   "cell_type": "code",
   "execution_count": 4,
   "id": "b10833f6-a120-4556-9b0e-a29ef5a0e4c8",
   "metadata": {},
   "outputs": [
    {
     "data": {
      "text/plain": [
       "numpy.ndarray"
      ]
     },
     "execution_count": 4,
     "metadata": {},
     "output_type": "execute_result"
    }
   ],
   "source": [
    "type(arr1)"
   ]
  },
  {
   "cell_type": "code",
   "execution_count": 5,
   "id": "8d09a637-0d3f-482c-b7aa-bf3aacc92552",
   "metadata": {},
   "outputs": [
    {
     "data": {
      "text/plain": [
       "numpy.ndarray"
      ]
     },
     "execution_count": 5,
     "metadata": {},
     "output_type": "execute_result"
    }
   ],
   "source": [
    "type(arr2)"
   ]
  },
  {
   "cell_type": "code",
   "execution_count": 6,
   "id": "c5be12ef-e0ee-4bb3-b850-cc92c3dbe3b1",
   "metadata": {},
   "outputs": [
    {
     "data": {
      "text/plain": [
       "array([[1, 2, 3, 4],\n",
       "       [5, 6, 7, 8]])"
      ]
     },
     "execution_count": 6,
     "metadata": {},
     "output_type": "execute_result"
    }
   ],
   "source": [
    "# Initializing a 2D Array\n",
    "arr2d = np.array([[1,2,3,4],[5,6,7,8]])\n",
    "arr2d"
   ]
  },
  {
   "cell_type": "code",
   "execution_count": 7,
   "id": "d74fb2ca-2226-4390-804a-e3ec35b994d5",
   "metadata": {},
   "outputs": [
    {
     "data": {
      "text/plain": [
       "array([0, 1, 2, 3, 4])"
      ]
     },
     "execution_count": 7,
     "metadata": {},
     "output_type": "execute_result"
    }
   ],
   "source": [
    "# init using python range\n",
    "arr3 = np.arange(5)\n",
    "arr3"
   ]
  },
  {
   "cell_type": "code",
   "execution_count": 8,
   "id": "2e0cde41-3ea6-47c7-8ae4-088446a0b38a",
   "metadata": {},
   "outputs": [
    {
     "data": {
      "text/plain": [
       "array([2. , 3.5, 5. , 6.5, 8. , 9.5])"
      ]
     },
     "execution_count": 8,
     "metadata": {},
     "output_type": "execute_result"
    }
   ],
   "source": [
    "# we can have numpy arrays as a float point also\n",
    "# using start & stop, step counts\n",
    "arr4 = np.arange(start=2,stop=10,step=1.5)\n",
    "arr4"
   ]
  },
  {
   "cell_type": "code",
   "execution_count": 9,
   "id": "1f88f607-d852-4561-9b81-86f8cec1b21e",
   "metadata": {},
   "outputs": [
    {
     "data": {
      "text/plain": [
       "array([0., 0., 0.])"
      ]
     },
     "execution_count": 9,
     "metadata": {},
     "output_type": "execute_result"
    }
   ],
   "source": [
    "# creating a zeros array\n",
    "arr5 = np.zeros(3)\n",
    "arr5"
   ]
  },
  {
   "cell_type": "code",
   "execution_count": 10,
   "id": "994245b3-9575-482a-a505-4762b1c969eb",
   "metadata": {},
   "outputs": [
    {
     "data": {
      "text/plain": [
       "array([0, 0, 0])"
      ]
     },
     "execution_count": 10,
     "metadata": {},
     "output_type": "execute_result"
    }
   ],
   "source": [
    "# In above zeros array we are seeing float point values by default, but we can change them into int also\n",
    "arr5 = np.zeros(3, dtype='int')\n",
    "arr5"
   ]
  },
  {
   "cell_type": "code",
   "execution_count": 11,
   "id": "313ea050-93ca-4c65-b971-8271b167a1a3",
   "metadata": {},
   "outputs": [
    {
     "data": {
      "text/plain": [
       "array([1, 1, 1])"
      ]
     },
     "execution_count": 11,
     "metadata": {},
     "output_type": "execute_result"
    }
   ],
   "source": [
    "# creating ones array\n",
    "arr6 = np.ones(3, dtype='int')\n",
    "arr6"
   ]
  },
  {
   "cell_type": "code",
   "execution_count": 12,
   "id": "d2c8ec9b-fdb8-4ac6-b232-9b3ac22098e5",
   "metadata": {},
   "outputs": [
    {
     "data": {
      "text/plain": [
       "array([[0, 0, 0, 0],\n",
       "       [0, 0, 0, 0],\n",
       "       [0, 0, 0, 0]])"
      ]
     },
     "execution_count": 12,
     "metadata": {},
     "output_type": "execute_result"
    }
   ],
   "source": [
    "# creating a 2d zeros array\n",
    "arr7 = np.zeros([3,4], dtype='int')\n",
    "arr7"
   ]
  },
  {
   "cell_type": "code",
   "execution_count": 13,
   "id": "d5dae785-92e6-4cfc-97e5-74c8c55b7e13",
   "metadata": {},
   "outputs": [
    {
     "data": {
      "text/plain": [
       "array([ 0,  2,  5,  7, 10])"
      ]
     },
     "execution_count": 13,
     "metadata": {},
     "output_type": "execute_result"
    }
   ],
   "source": [
    "# what is linspace in numpy\n",
    "# Given a start and stop point, generate an array that is evenly spaced\n",
    "np.linspace(start=0,stop=10,num=5, dtype='int')"
   ]
  },
  {
   "cell_type": "code",
   "execution_count": 14,
   "id": "0c9ffc53-a6c5-4f16-9717-20c52a83b468",
   "metadata": {},
   "outputs": [
    {
     "data": {
      "text/plain": [
       "array([  0,  25,  50,  75, 100])"
      ]
     },
     "execution_count": 14,
     "metadata": {},
     "output_type": "execute_result"
    }
   ],
   "source": [
    "np.linspace(0,100,5,dtype='int')"
   ]
  },
  {
   "cell_type": "code",
   "execution_count": 15,
   "id": "c085d902-ee12-438d-84ae-973652c9520c",
   "metadata": {},
   "outputs": [
    {
     "data": {
      "text/plain": [
       "array([[1, 0, 0],\n",
       "       [0, 2, 0],\n",
       "       [0, 0, 3]])"
      ]
     },
     "execution_count": 15,
     "metadata": {},
     "output_type": "execute_result"
    }
   ],
   "source": [
    "# creating a diagnal array\n",
    "val = [1,2,3]\n",
    "np.diag(val)"
   ]
  },
  {
   "cell_type": "code",
   "execution_count": 16,
   "id": "5cd9eff7-df58-4092-895c-22ff8fe9418d",
   "metadata": {},
   "outputs": [
    {
     "data": {
      "text/plain": [
       "array([[1, 0, 0],\n",
       "       [0, 1, 0],\n",
       "       [0, 0, 1]])"
      ]
     },
     "execution_count": 16,
     "metadata": {},
     "output_type": "execute_result"
    }
   ],
   "source": [
    "# creating a identity matrices\n",
    "np.identity(3,dtype='int')"
   ]
  },
  {
   "cell_type": "markdown",
   "id": "b4827bc3-e358-49b7-b119-7e785edf4380",
   "metadata": {},
   "source": [
    "#### Operation + Vectorization"
   ]
  },
  {
   "cell_type": "code",
   "execution_count": 17,
   "id": "5084fe05-2a13-4ea1-8471-4611aa74bcf4",
   "metadata": {},
   "outputs": [
    {
     "data": {
      "text/plain": [
       "array([1, 2, 3, 4])"
      ]
     },
     "execution_count": 17,
     "metadata": {},
     "output_type": "execute_result"
    }
   ],
   "source": [
    "arr = np.array([1,2,3,4]) # initializing an array in numpy\n",
    "arr"
   ]
  },
  {
   "cell_type": "code",
   "execution_count": 18,
   "id": "836554d8-ada8-4252-9828-9ef40f56bffb",
   "metadata": {},
   "outputs": [
    {
     "data": {
      "text/plain": [
       "array([2, 4, 6, 8])"
      ]
     },
     "execution_count": 18,
     "metadata": {},
     "output_type": "execute_result"
    }
   ],
   "source": [
    "arr*2"
   ]
  },
  {
   "cell_type": "code",
   "execution_count": 19,
   "id": "1945caeb-9ad9-4ac2-90c1-e7fc63798d7a",
   "metadata": {},
   "outputs": [
    {
     "data": {
      "text/plain": [
       "array([ 1,  4,  9, 16])"
      ]
     },
     "execution_count": 19,
     "metadata": {},
     "output_type": "execute_result"
    }
   ],
   "source": [
    "arr**2"
   ]
  },
  {
   "cell_type": "markdown",
   "id": "0bd0927c-b7d5-4de5-8b0a-26fcfaadfb93",
   "metadata": {},
   "source": [
    "#### Faster execution speed than traditional for loop speed"
   ]
  },
  {
   "cell_type": "code",
   "execution_count": 20,
   "id": "a35261b6-3173-48cb-bae9-dabe408f8999",
   "metadata": {},
   "outputs": [
    {
     "name": "stdout",
     "output_type": "stream",
     "text": [
      "494 ns ± 1.5 ns per loop (mean ± std. dev. of 7 runs, 1,000,000 loops each)\n"
     ]
    }
   ],
   "source": [
    "%timeit [i**2 for i in arr]"
   ]
  },
  {
   "cell_type": "code",
   "execution_count": 21,
   "id": "503ef76f-94a9-469c-9c39-881be6043b46",
   "metadata": {},
   "outputs": [
    {
     "name": "stdout",
     "output_type": "stream",
     "text": [
      "238 ns ± 0.142 ns per loop (mean ± std. dev. of 7 runs, 1,000,000 loops each)\n"
     ]
    }
   ],
   "source": [
    "%timeit arr**2"
   ]
  },
  {
   "cell_type": "markdown",
   "id": "3bfe3d50-73e0-48a8-9209-2c965b77f618",
   "metadata": {},
   "source": [
    "#### Properties"
   ]
  },
  {
   "cell_type": "code",
   "execution_count": 22,
   "id": "58e1df06-5810-4b5d-8b36-e18378743dc5",
   "metadata": {},
   "outputs": [
    {
     "data": {
      "text/plain": [
       "2"
      ]
     },
     "execution_count": 22,
     "metadata": {},
     "output_type": "execute_result"
    }
   ],
   "source": [
    "# number of dimensions of the array\n",
    "arr2 = np.array([[1,2,3,4],[5,6,7,8]])\n",
    "arr2.ndim # returns the dimension of the array"
   ]
  },
  {
   "cell_type": "code",
   "execution_count": 23,
   "id": "315ff009-338e-42b8-8069-cedfa9da3cf0",
   "metadata": {},
   "outputs": [
    {
     "data": {
      "text/plain": [
       "(2, 4)"
      ]
     },
     "execution_count": 23,
     "metadata": {},
     "output_type": "execute_result"
    }
   ],
   "source": [
    "# finding shape of the array\n",
    "arr2.shape # returns the shape of the matrix in a tuple"
   ]
  },
  {
   "cell_type": "code",
   "execution_count": 24,
   "id": "b55cc666-f6d1-4dab-9507-0ef6752492a8",
   "metadata": {},
   "outputs": [
    {
     "data": {
      "text/plain": [
       "dtype('int64')"
      ]
     },
     "execution_count": 24,
     "metadata": {},
     "output_type": "execute_result"
    }
   ],
   "source": [
    "# finding date type of the array\n",
    "arrNum = np.arange(10)\n",
    "arrNum.dtype"
   ]
  },
  {
   "cell_type": "code",
   "execution_count": 25,
   "id": "db7fbb2f-6495-4fd2-8544-a2053969db6a",
   "metadata": {},
   "outputs": [
    {
     "data": {
      "text/plain": [
       "dtype('float64')"
      ]
     },
     "execution_count": 25,
     "metadata": {},
     "output_type": "execute_result"
    }
   ],
   "source": [
    "arrFloat = np.array([1.21,234.34,453.1,11.433])\n",
    "arrFloat.dtype"
   ]
  },
  {
   "cell_type": "markdown",
   "id": "0434705d-6c7f-4713-8bd4-9ac8ec59acc2",
   "metadata": {},
   "source": [
    "* Numpy handles only homogenous data, only number int/float can be handled numpy array\n",
    "* Hetergenous data or homogenous string arrays are not applicable"
   ]
  },
  {
   "cell_type": "markdown",
   "id": "369ce902-ad61-4e06-817f-88d6e19b26e7",
   "metadata": {},
   "source": [
    "#### Generating random numbers continuous uniform distribution"
   ]
  },
  {
   "cell_type": "code",
   "execution_count": 26,
   "id": "26ef9c2f-7f21-43f9-a2ce-142857e86a97",
   "metadata": {},
   "outputs": [
    {
     "data": {
      "text/plain": [
       "array([[0.55662899, 0.87803754, 0.34921193],\n",
       "       [0.6409749 , 0.62019671, 0.98273802]])"
      ]
     },
     "execution_count": 26,
     "metadata": {},
     "output_type": "execute_result"
    }
   ],
   "source": [
    "# generates random values from a uniform distribution over the interval 0 and 1\n",
    "np.random.rand(2,3) # 2x3 matrix over the interval of 0 and 1 is generated"
   ]
  },
  {
   "cell_type": "code",
   "execution_count": 27,
   "id": "2d27293b-9309-4db9-bc78-2f7195d3510b",
   "metadata": {},
   "outputs": [
    {
     "data": {
      "text/plain": [
       "array([[-0.27902443,  0.58457585, -1.18505028],\n",
       "       [-0.02850682, -0.64148375,  0.83394818]])"
      ]
     },
     "execution_count": 27,
     "metadata": {},
     "output_type": "execute_result"
    }
   ],
   "source": [
    "# generating random values from a normal distribution of mean=0 and standard deviation=1\n",
    "np.random.randn(2,3)"
   ]
  },
  {
   "cell_type": "code",
   "execution_count": 28,
   "id": "e9796b46-2297-4adc-8f96-c549e6992eb8",
   "metadata": {},
   "outputs": [
    {
     "data": {
      "text/plain": [
       "array([[9, 6, 2],\n",
       "       [0, 6, 1]])"
      ]
     },
     "execution_count": 28,
     "metadata": {},
     "output_type": "execute_result"
    }
   ],
   "source": [
    "# generating random integers between given values and the size of the required matrix\n",
    "np.random.randint(0,10,(2,3))"
   ]
  },
  {
   "cell_type": "code",
   "execution_count": 29,
   "id": "5289d10e-194a-4e38-b810-69c8f3925014",
   "metadata": {},
   "outputs": [
    {
     "data": {
      "text/plain": [
       "array([[0.77149877, 0.02037318, 0.56902678],\n",
       "       [0.66350273, 0.74067256, 0.6513505 ]])"
      ]
     },
     "execution_count": 29,
     "metadata": {},
     "output_type": "execute_result"
    }
   ],
   "source": [
    "# generating random floats in the half-open interval [0.0, 1.0)\n",
    "np.random.random_sample((2,3))"
   ]
  },
  {
   "cell_type": "code",
   "execution_count": 30,
   "id": "910469ac-02bd-48b6-aeb0-1f73a44a85cb",
   "metadata": {},
   "outputs": [
    {
     "name": "stdout",
     "output_type": "stream",
     "text": [
      "npDataset:  [0 1 2 3 4 5 6 7 8 9]\n",
      "[[1 2 3]\n",
      " [9 1 0]]\n"
     ]
    }
   ],
   "source": [
    "# generating random numbers from the given numpy array dataset\n",
    "npDataset = np.arange(10)\n",
    "print(\"npDataset: \", npDataset)\n",
    "print(np.random.choice(npDataset,(2,3)))"
   ]
  },
  {
   "cell_type": "markdown",
   "id": "a9ef10dc-b0dc-40a8-8001-ef5cb1c6f7f5",
   "metadata": {},
   "source": [
    "#### Random samples generating using Uniform Distribution "
   ]
  },
  {
   "cell_type": "code",
   "execution_count": 31,
   "id": "65861858-a62e-47b6-b02b-a4549b34d43a",
   "metadata": {},
   "outputs": [
    {
     "data": {
      "text/plain": [
       "array([0.56859629, 0.21620332, 0.24128988, 0.59662738, 0.16606304,\n",
       "       0.15825219, 0.66850065, 0.3718572 , 0.51245073, 0.82518857])"
      ]
     },
     "execution_count": 31,
     "metadata": {},
     "output_type": "execute_result"
    }
   ],
   "source": [
    "np.random.uniform(0,1,size=10)"
   ]
  },
  {
   "cell_type": "markdown",
   "id": "94d28105-f403-4fe4-9099-2618df00d107",
   "metadata": {},
   "source": [
    "#### Random samples generating using Normal Distribution"
   ]
  },
  {
   "cell_type": "code",
   "execution_count": 32,
   "id": "0f79b4e2-2a31-43d3-b940-35e00c738729",
   "metadata": {},
   "outputs": [
    {
     "data": {
      "text/plain": [
       "array([-0.64992158, -1.25701072,  0.9165948 ,  1.79793756,  0.99598813,\n",
       "        0.21107302, -0.05864414, -0.92612769,  1.32148288,  0.74205489])"
      ]
     },
     "execution_count": 32,
     "metadata": {},
     "output_type": "execute_result"
    }
   ],
   "source": [
    "np.random.normal(0,1,size=10)"
   ]
  },
  {
   "cell_type": "markdown",
   "id": "44dbaef6-87a8-47c2-be93-4a0d9374db6d",
   "metadata": {},
   "source": [
    "#### Accessing Elements"
   ]
  },
  {
   "cell_type": "code",
   "execution_count": 33,
   "id": "6df95192-56f9-4e36-8afd-65102abf6b4a",
   "metadata": {},
   "outputs": [
    {
     "data": {
      "text/plain": [
       "2"
      ]
     },
     "execution_count": 33,
     "metadata": {},
     "output_type": "execute_result"
    }
   ],
   "source": [
    "# Accessing single element or Indexing\n",
    "arr1 = np.array([1,2,3,4,5])\n",
    "arr1[1] # works similar to general array indexing"
   ]
  },
  {
   "cell_type": "code",
   "execution_count": 34,
   "id": "a3565305-908c-4aca-aefb-ed66fbd6c8d0",
   "metadata": {},
   "outputs": [
    {
     "data": {
      "text/plain": [
       "4"
      ]
     },
     "execution_count": 34,
     "metadata": {},
     "output_type": "execute_result"
    }
   ],
   "source": [
    "# Negative indexing in numpy array is similar to python list indexing\n",
    "arr[-1]"
   ]
  },
  {
   "cell_type": "code",
   "execution_count": 35,
   "id": "32ad94fa-b3cb-4ae0-99ce-6a95c926b5a0",
   "metadata": {},
   "outputs": [
    {
     "data": {
      "text/plain": [
       "9"
      ]
     },
     "execution_count": 35,
     "metadata": {},
     "output_type": "execute_result"
    }
   ],
   "source": [
    "# Accessing 2D array elements\n",
    "arr2d = np.array([[1,2,3,4,5],[6,7,8,9,0]])\n",
    "arr2d[1,3] # similar to arr2d([x,y]) => x,y are x and y axis respectively"
   ]
  },
  {
   "cell_type": "markdown",
   "id": "9fa6943b-aa25-43fc-8faa-2ec8d4da02ea",
   "metadata": {},
   "source": [
    "#### Sequencing or Slicing"
   ]
  },
  {
   "cell_type": "code",
   "execution_count": 36,
   "id": "da1221e4-405b-4ec5-9890-63b39e050634",
   "metadata": {},
   "outputs": [
    {
     "data": {
      "text/plain": [
       "array([1, 2, 3, 4, 5])"
      ]
     },
     "execution_count": 36,
     "metadata": {},
     "output_type": "execute_result"
    }
   ],
   "source": [
    "# Similar to slicing in normal python list, numpy gives the option to slice its multi-dimensional arrays\n",
    "arr1"
   ]
  },
  {
   "cell_type": "code",
   "execution_count": 37,
   "id": "4dc23486-326d-48a1-960c-e405e1a05d29",
   "metadata": {},
   "outputs": [
    {
     "data": {
      "text/plain": [
       "array([4, 5])"
      ]
     },
     "execution_count": 37,
     "metadata": {},
     "output_type": "execute_result"
    }
   ],
   "source": [
    "arr1[3:] # from postion 3 to the end"
   ]
  },
  {
   "cell_type": "code",
   "execution_count": 38,
   "id": "6ba2cc23-a691-4f6b-97dc-b74365d0251a",
   "metadata": {},
   "outputs": [
    {
     "data": {
      "text/plain": [
       "array([1, 2, 3])"
      ]
     },
     "execution_count": 38,
     "metadata": {},
     "output_type": "execute_result"
    }
   ],
   "source": [
    "arr1[:3] # upto position 3, but pos 3 not included"
   ]
  },
  {
   "cell_type": "code",
   "execution_count": 39,
   "id": "29317f02-7865-4bbc-9ab1-5d7544414e2b",
   "metadata": {},
   "outputs": [
    {
     "data": {
      "text/plain": [
       "array([[1, 2, 3, 4, 5],\n",
       "       [6, 7, 8, 9, 0]])"
      ]
     },
     "execution_count": 39,
     "metadata": {},
     "output_type": "execute_result"
    }
   ],
   "source": [
    "arr2d # slicig a 2D array"
   ]
  },
  {
   "cell_type": "code",
   "execution_count": 40,
   "id": "c35a7fcc-4128-46d5-952b-1eb351af5190",
   "metadata": {},
   "outputs": [
    {
     "data": {
      "text/plain": [
       "array([[1, 2, 3, 4, 5]])"
      ]
     },
     "execution_count": 40,
     "metadata": {},
     "output_type": "execute_result"
    }
   ],
   "source": [
    "arr2d[:1,:] # slicing on y-axis"
   ]
  },
  {
   "cell_type": "code",
   "execution_count": 41,
   "id": "72c5280f-4b56-478e-ae6a-2134d16c823b",
   "metadata": {},
   "outputs": [
    {
     "data": {
      "text/plain": [
       "array([[1, 2],\n",
       "       [6, 7]])"
      ]
     },
     "execution_count": 41,
     "metadata": {},
     "output_type": "execute_result"
    }
   ],
   "source": [
    "arr2d[:,:2] # slicing on x-axis"
   ]
  },
  {
   "cell_type": "code",
   "execution_count": 42,
   "id": "9aace8d3-ee29-459c-91d1-2b15091381f6",
   "metadata": {},
   "outputs": [
    {
     "data": {
      "text/plain": [
       "array([[3],\n",
       "       [8]])"
      ]
     },
     "execution_count": 42,
     "metadata": {},
     "output_type": "execute_result"
    }
   ],
   "source": [
    "arr2d[:,2:3]"
   ]
  },
  {
   "cell_type": "markdown",
   "id": "78afb9de-6dc0-4263-9a46-88c8f7566826",
   "metadata": {},
   "source": [
    "#### Masking"
   ]
  },
  {
   "cell_type": "code",
   "execution_count": 43,
   "id": "53624431-8a8d-46c0-9f77-9463daee5f3e",
   "metadata": {},
   "outputs": [
    {
     "data": {
      "text/plain": [
       "array([56, 65, 56, 89, 67, 89])"
      ]
     },
     "execution_count": 43,
     "metadata": {},
     "output_type": "execute_result"
    }
   ],
   "source": [
    "arr = np.array([[23,45,56,34,65,23],\n",
    "               [56,3,89,67,48,89]])\n",
    "arr[arr>50]"
   ]
  },
  {
   "cell_type": "code",
   "execution_count": 44,
   "id": "4131d0d0-25f3-4234-a31a-69640f5f20f2",
   "metadata": {},
   "outputs": [
    {
     "data": {
      "text/plain": [
       "array([56, 65, 56, 67])"
      ]
     },
     "execution_count": 44,
     "metadata": {},
     "output_type": "execute_result"
    }
   ],
   "source": [
    "arr[(arr>50)&(arr<80)]"
   ]
  },
  {
   "cell_type": "markdown",
   "id": "11723872-2cf0-4bb8-bdb3-a286dd211bb8",
   "metadata": {},
   "source": [
    "#### Element-wise Operation"
   ]
  },
  {
   "cell_type": "code",
   "execution_count": 45,
   "id": "b3462a64-9fdd-4797-87c8-2574164d14a6",
   "metadata": {},
   "outputs": [],
   "source": [
    "a = np.array([1,2,3,4,5])\n",
    "b = np.array([1,1,2,3,2])"
   ]
  },
  {
   "cell_type": "code",
   "execution_count": 46,
   "id": "74e6820f-e45f-4bfd-8a68-d082a3f7ed46",
   "metadata": {},
   "outputs": [
    {
     "data": {
      "text/plain": [
       "array([2, 3, 5, 7, 7])"
      ]
     },
     "execution_count": 46,
     "metadata": {},
     "output_type": "execute_result"
    }
   ],
   "source": [
    "# Element-wise addition\n",
    "a + b"
   ]
  },
  {
   "cell_type": "code",
   "execution_count": 47,
   "id": "c2b2c3c2-74b9-4b0b-8a86-505a18df18e7",
   "metadata": {},
   "outputs": [
    {
     "data": {
      "text/plain": [
       "array([0, 1, 1, 1, 3])"
      ]
     },
     "execution_count": 47,
     "metadata": {},
     "output_type": "execute_result"
    }
   ],
   "source": [
    "# Element-wise subtraction\n",
    "a - b"
   ]
  },
  {
   "cell_type": "code",
   "execution_count": 48,
   "id": "1cd04622-df3b-4e39-a1b8-73735eef5855",
   "metadata": {},
   "outputs": [
    {
     "data": {
      "text/plain": [
       "array([ 1,  2,  6, 12, 10])"
      ]
     },
     "execution_count": 48,
     "metadata": {},
     "output_type": "execute_result"
    }
   ],
   "source": [
    "# Element-wise multiplication\n",
    "a * b"
   ]
  },
  {
   "cell_type": "code",
   "execution_count": 49,
   "id": "ea3a9f4f-bfcb-4b4f-a3dd-172566ef9bb6",
   "metadata": {},
   "outputs": [
    {
     "data": {
      "text/plain": [
       "array([1.        , 2.        , 1.5       , 1.33333333, 2.5       ])"
      ]
     },
     "execution_count": 49,
     "metadata": {},
     "output_type": "execute_result"
    }
   ],
   "source": [
    "# Element-wise division\n",
    "a / b"
   ]
  },
  {
   "cell_type": "markdown",
   "id": "8a6878ff-d2da-4c20-a489-349085c573b0",
   "metadata": {},
   "source": [
    "#### Element-wise Comparison"
   ]
  },
  {
   "cell_type": "code",
   "execution_count": 50,
   "id": "233a7c9f-4e51-451f-8289-4e2e66edad4b",
   "metadata": {},
   "outputs": [
    {
     "data": {
      "text/plain": [
       "array([ True, False, False, False, False])"
      ]
     },
     "execution_count": 50,
     "metadata": {},
     "output_type": "execute_result"
    }
   ],
   "source": [
    "a == b"
   ]
  },
  {
   "cell_type": "code",
   "execution_count": 51,
   "id": "aa53cc10-bf64-4060-978b-fa4ad4576092",
   "metadata": {},
   "outputs": [
    {
     "data": {
      "text/plain": [
       "array([ True,  True,  True,  True,  True])"
      ]
     },
     "execution_count": 51,
     "metadata": {},
     "output_type": "execute_result"
    }
   ],
   "source": [
    "a >= b"
   ]
  },
  {
   "cell_type": "code",
   "execution_count": 52,
   "id": "9215c108-39f1-42c3-92c0-a50462023332",
   "metadata": {},
   "outputs": [
    {
     "data": {
      "text/plain": [
       "array([ True, False, False, False, False])"
      ]
     },
     "execution_count": 52,
     "metadata": {},
     "output_type": "execute_result"
    }
   ],
   "source": [
    "a <= b"
   ]
  },
  {
   "cell_type": "code",
   "execution_count": 53,
   "id": "def58902-dc69-4d82-8ae8-26ddc77a061e",
   "metadata": {},
   "outputs": [
    {
     "data": {
      "text/plain": [
       "False"
      ]
     },
     "execution_count": 53,
     "metadata": {},
     "output_type": "execute_result"
    }
   ],
   "source": [
    "np.array_equal(a,b)"
   ]
  },
  {
   "cell_type": "code",
   "execution_count": 54,
   "id": "3aad6415-1d4e-4c4e-9374-6de64fc786d0",
   "metadata": {},
   "outputs": [
    {
     "data": {
      "text/plain": [
       "True"
      ]
     },
     "execution_count": 54,
     "metadata": {},
     "output_type": "execute_result"
    }
   ],
   "source": [
    "c = np.array([1,2,3,4])\n",
    "d = np.array([1,2,3,4])\n",
    "np.array_equal(c,d)"
   ]
  },
  {
   "cell_type": "markdown",
   "id": "b1e74aa2-a616-43fb-9e43-5af887302808",
   "metadata": {},
   "source": [
    "#### Matrix Multiplication"
   ]
  },
  {
   "cell_type": "code",
   "execution_count": 55,
   "id": "f4d03ab5-c79a-439d-bbd0-17b4c7dfdc02",
   "metadata": {},
   "outputs": [
    {
     "data": {
      "text/plain": [
       "array([[4, 8],\n",
       "       [2, 4]])"
      ]
     },
     "execution_count": 55,
     "metadata": {},
     "output_type": "execute_result"
    }
   ],
   "source": [
    "mat1 = np.array([[2],[1]]) # 2x1 matrix\n",
    "mat2 = np.array([[2,4]]) # 1x2 matrix\n",
    "np.matmul(mat1,mat2)"
   ]
  },
  {
   "cell_type": "code",
   "execution_count": 56,
   "id": "36ad7819-8c2c-4c40-aa75-f3040ef3e486",
   "metadata": {},
   "outputs": [
    {
     "data": {
      "text/plain": [
       "array([[4, 8],\n",
       "       [2, 4]])"
      ]
     },
     "execution_count": 56,
     "metadata": {},
     "output_type": "execute_result"
    }
   ],
   "source": [
    "# same can be achieved using @ operator\n",
    "mat1 @ mat2"
   ]
  },
  {
   "cell_type": "code",
   "execution_count": 57,
   "id": "1ca17c07-dfda-47b0-8ca8-e84b583b5053",
   "metadata": {},
   "outputs": [
    {
     "data": {
      "text/plain": [
       "array([[4, 8],\n",
       "       [2, 4]])"
      ]
     },
     "execution_count": 57,
     "metadata": {},
     "output_type": "execute_result"
    }
   ],
   "source": [
    "np.dot(mat1,mat2)"
   ]
  },
  {
   "cell_type": "code",
   "execution_count": 58,
   "id": "42d6fbe8-2255-4774-86f8-a48603ededee",
   "metadata": {},
   "outputs": [
    {
     "data": {
      "text/plain": [
       "array([2, 4, 6])"
      ]
     },
     "execution_count": 58,
     "metadata": {},
     "output_type": "execute_result"
    }
   ],
   "source": [
    "# scalar multiplication of dot product\n",
    "a = 2\n",
    "b = np.array([1,2,3])\n",
    "np.dot(a,b)"
   ]
  },
  {
   "cell_type": "code",
   "execution_count": 59,
   "id": "5f64e633-c5b5-44a4-86dc-c3efdca25315",
   "metadata": {},
   "outputs": [
    {
     "data": {
      "text/plain": [
       "6"
      ]
     },
     "execution_count": 59,
     "metadata": {},
     "output_type": "execute_result"
    }
   ],
   "source": [
    "# np.dot performs simple multiplication if both inputs are scalars\n",
    "np.dot(2,3)"
   ]
  },
  {
   "cell_type": "markdown",
   "id": "a290f576-421e-45a7-b07c-cb2894829a6d",
   "metadata": {},
   "source": [
    "#### How AXIS works in Numpy ?"
   ]
  },
  {
   "cell_type": "markdown",
   "id": "048c366e-1686-4df0-bc95-8a8b1c4a5d1f",
   "metadata": {},
   "source": [
    " - If there is only one axis i.e x-axis then that axis is represented as 0\n",
    " - Once there is a second axis i.e y-axis then y-axis becomes 0 and x-axis becomes 1\n",
    " - Now respectively in 3D array, z-axis becomes 0, y-axis becomes 1 eventually x-axis becomes 2\n",
    " - These axis representation, helps in manipulating the array values where any values or changes can be applied along the axis orientation just by denoting the axis value"
   ]
  },
  {
   "cell_type": "code",
   "execution_count": 60,
   "id": "5e04702d-994b-4f5b-a642-72dc0a4985c5",
   "metadata": {},
   "outputs": [
    {
     "data": {
      "text/html": [
       "<img src=\"https://fgnt.github.io/python_crashkurs_doc/_images/numpy_array_t.png\"/>"
      ],
      "text/plain": [
       "<IPython.core.display.Image object>"
      ]
     },
     "execution_count": 60,
     "metadata": {},
     "output_type": "execute_result"
    }
   ],
   "source": [
    "from IPython.display import Image\n",
    "Image(url=\"https://fgnt.github.io/python_crashkurs_doc/_images/numpy_array_t.png\")"
   ]
  },
  {
   "cell_type": "markdown",
   "id": "a2010130-1b0d-457d-aae1-b19870deb32c",
   "metadata": {},
   "source": [
    "#### BroadCasting"
   ]
  },
  {
   "cell_type": "markdown",
   "id": "8e9a9b2f-1b58-4838-a6b1-999fd652608c",
   "metadata": {},
   "source": [
    "For each dimension (going from right side)\n",
    " - The size of each dimension should be same OR\n",
    " - The size of one dimension should be 1\n",
    "\n",
    "**Rule 1**: If two arrays differ in the number of dimensions, the shape of one with few dimensions is padded with ones on its leading(Left side)\n",
    "\n",
    "**Rule 2**: If the shape of two arrays does not match in any dimensions, the array with sahpe equal to 1 is stretched to match the other shape i.e broadcasted"
   ]
  },
  {
   "cell_type": "code",
   "execution_count": 61,
   "id": "e4f8b75c-4376-431d-ae7d-311fd915737a",
   "metadata": {},
   "outputs": [
    {
     "data": {
      "text/html": [
       "<img src=\"https://jakevdp.github.io/PythonDataScienceHandbook/figures/02.05-broadcasting.png\"/>"
      ],
      "text/plain": [
       "<IPython.core.display.Image object>"
      ]
     },
     "execution_count": 61,
     "metadata": {},
     "output_type": "execute_result"
    }
   ],
   "source": [
    "Image(url=\"https://jakevdp.github.io/PythonDataScienceHandbook/figures/02.05-broadcasting.png\")"
   ]
  },
  {
   "cell_type": "code",
   "execution_count": 62,
   "id": "c70b2d1b-57a9-416f-bfb8-c954b6d10eae",
   "metadata": {},
   "outputs": [],
   "source": [
    "arr1 = np.array([[1,2,3,4],\n",
    "               [2,3,4,5]])\n",
    "arr2 = np.array([[1,2,3,4],\n",
    "               [2,3,4,5],\n",
    "               [3,4,5,6],\n",
    "               [4,5,6,7]])"
   ]
  },
  {
   "cell_type": "code",
   "execution_count": 63,
   "id": "f86ba31f-bf69-48e3-a925-cf5a1d7aaaf9",
   "metadata": {},
   "outputs": [
    {
     "name": "stdout",
     "output_type": "stream",
     "text": [
      "(2, 4)\n",
      "(4, 4)\n"
     ]
    }
   ],
   "source": [
    "print(arr1.shape)\n",
    "print(arr2.shape)"
   ]
  },
  {
   "cell_type": "markdown",
   "id": "4e1d4515-db86-4256-ab51-dc4679366e8f",
   "metadata": {},
   "source": [
    "**Rule 3**: If in any dimension the sizes disagree and neither equal to 1, then Error is raised."
   ]
  },
  {
   "cell_type": "code",
   "execution_count": 64,
   "id": "30acf6f0-1834-4d1c-967f-949c6020754f",
   "metadata": {},
   "outputs": [
    {
     "ename": "ValueError",
     "evalue": "operands could not be broadcast together with shapes (2,4) (4,4) ",
     "output_type": "error",
     "traceback": [
      "\u001b[0;31m---------------------------------------------------------------------------\u001b[0m",
      "\u001b[0;31mValueError\u001b[0m                                Traceback (most recent call last)",
      "Cell \u001b[0;32mIn[64], line 1\u001b[0m\n\u001b[0;32m----> 1\u001b[0m \u001b[43marr1\u001b[49m\u001b[43m \u001b[49m\u001b[38;5;241;43m+\u001b[39;49m\u001b[43m \u001b[49m\u001b[43marr2\u001b[49m\n",
      "\u001b[0;31mValueError\u001b[0m: operands could not be broadcast together with shapes (2,4) (4,4) "
     ]
    }
   ],
   "source": [
    "arr1 + arr2"
   ]
  },
  {
   "cell_type": "markdown",
   "id": "bfeda902-eb2e-44ec-aa4c-713d16339b63",
   "metadata": {},
   "source": [
    "#### Array Manipulation"
   ]
  },
  {
   "cell_type": "markdown",
   "id": "b5e65135-858f-416b-b277-98a8b001d3e7",
   "metadata": {},
   "source": [
    "**Reshaping An Array**"
   ]
  },
  {
   "cell_type": "code",
   "execution_count": 65,
   "id": "90387123-c3a0-4ad1-8c23-b082bd656a8f",
   "metadata": {},
   "outputs": [
    {
     "data": {
      "text/plain": [
       "array([0, 1, 2, 3, 4, 5, 6, 7, 8, 9])"
      ]
     },
     "execution_count": 65,
     "metadata": {},
     "output_type": "execute_result"
    }
   ],
   "source": [
    "arr = np.arange(10)\n",
    "arr"
   ]
  },
  {
   "cell_type": "code",
   "execution_count": 66,
   "id": "d2cebaae-d128-4c84-9ef7-3d1fec1b619e",
   "metadata": {},
   "outputs": [
    {
     "data": {
      "text/plain": [
       "array([[0, 1, 2, 3, 4],\n",
       "       [5, 6, 7, 8, 9]])"
      ]
     },
     "execution_count": 66,
     "metadata": {},
     "output_type": "execute_result"
    }
   ],
   "source": [
    "arr.reshape(2,5)"
   ]
  },
  {
   "cell_type": "code",
   "execution_count": 67,
   "id": "e546887d-6f33-49c0-8de5-34afe055478f",
   "metadata": {},
   "outputs": [
    {
     "data": {
      "text/plain": [
       "array([[0, 1],\n",
       "       [2, 3],\n",
       "       [4, 5],\n",
       "       [6, 7],\n",
       "       [8, 9]])"
      ]
     },
     "execution_count": 67,
     "metadata": {},
     "output_type": "execute_result"
    }
   ],
   "source": [
    "arr.reshape(5,2)"
   ]
  },
  {
   "cell_type": "code",
   "execution_count": 68,
   "id": "49440ff4-ebae-417d-b0c6-f90104b80b86",
   "metadata": {},
   "outputs": [
    {
     "data": {
      "text/plain": [
       "array([[0, 1, 2, 3, 4],\n",
       "       [5, 6, 7, 8, 9]])"
      ]
     },
     "execution_count": 68,
     "metadata": {},
     "output_type": "execute_result"
    }
   ],
   "source": [
    "arr.reshape(2,-1)"
   ]
  },
  {
   "cell_type": "code",
   "execution_count": 69,
   "id": "d26ca3ab-6a84-4455-80c8-e5e89c921660",
   "metadata": {},
   "outputs": [
    {
     "data": {
      "text/plain": [
       "array([[0, 1],\n",
       "       [2, 3],\n",
       "       [4, 5],\n",
       "       [6, 7],\n",
       "       [8, 9]])"
      ]
     },
     "execution_count": 69,
     "metadata": {},
     "output_type": "execute_result"
    }
   ],
   "source": [
    "arr.reshape(-1,2)"
   ]
  },
  {
   "cell_type": "markdown",
   "id": "d4a74f69-2a5b-4c75-b040-1f7b5819a985",
   "metadata": {},
   "source": [
    "**Transposing an Array**"
   ]
  },
  {
   "cell_type": "code",
   "execution_count": 70,
   "id": "16a4b8aa-8936-4fd2-9e9f-3cfc8630e34b",
   "metadata": {},
   "outputs": [
    {
     "data": {
      "text/plain": [
       "array([[0, 1],\n",
       "       [2, 3],\n",
       "       [4, 5],\n",
       "       [6, 7],\n",
       "       [8, 9]])"
      ]
     },
     "execution_count": 70,
     "metadata": {},
     "output_type": "execute_result"
    }
   ],
   "source": [
    "arr = np.arange(10).reshape(5,2)\n",
    "arr"
   ]
  },
  {
   "cell_type": "code",
   "execution_count": 71,
   "id": "dc7bf017-3578-4f65-9974-fbc01e62c0c1",
   "metadata": {},
   "outputs": [
    {
     "data": {
      "text/plain": [
       "array([[0, 2, 4, 6, 8],\n",
       "       [1, 3, 5, 7, 9]])"
      ]
     },
     "execution_count": 71,
     "metadata": {},
     "output_type": "execute_result"
    }
   ],
   "source": [
    "arr.T"
   ]
  },
  {
   "cell_type": "markdown",
   "id": "4aa799b4-27df-45c5-b5cd-bdc203d70ce4",
   "metadata": {},
   "source": [
    "#### View vs Copy"
   ]
  },
  {
   "cell_type": "markdown",
   "id": "fffb75e0-c549-452f-8587-7b231b2606d5",
   "metadata": {},
   "source": [
    "**View**\n",
    " - A view is a new array that refers to the same data as the original array but with a different shape or strides.\n",
    "Modifying the view will also modify the original array. Memory Efficient.\n",
    "\n",
    "**Copy**\n",
    " - A copy is a new array that is a completely independent entity from the original array.\n",
    "Modifying the copy does not affect the original array, and vice versa. Memory overhead due to data redundancy."
   ]
  },
  {
   "cell_type": "code",
   "execution_count": 72,
   "id": "82232c9d-1080-46bd-963c-a465be6c0a0a",
   "metadata": {},
   "outputs": [],
   "source": [
    "arr1 = np.array([[1,2,3,4],\n",
    "               [2,3,4,5]])"
   ]
  },
  {
   "cell_type": "code",
   "execution_count": 73,
   "id": "55172289-d784-479f-8f54-d9820994fc7f",
   "metadata": {},
   "outputs": [
    {
     "data": {
      "text/plain": [
       "array([[1, 2, 3, 4],\n",
       "       [2, 3, 4, 5]])"
      ]
     },
     "execution_count": 73,
     "metadata": {},
     "output_type": "execute_result"
    }
   ],
   "source": [
    "copy = arr1.copy()\n",
    "copy"
   ]
  },
  {
   "cell_type": "code",
   "execution_count": 74,
   "id": "45a03dad-71fc-4c61-9368-dfb3ed83ec48",
   "metadata": {},
   "outputs": [
    {
     "data": {
      "text/plain": [
       "array([[ 1,  2,  3,  4],\n",
       "       [10, 10, 10, 10]])"
      ]
     },
     "execution_count": 74,
     "metadata": {},
     "output_type": "execute_result"
    }
   ],
   "source": [
    "copy[1]=10\n",
    "copy"
   ]
  },
  {
   "cell_type": "code",
   "execution_count": 75,
   "id": "0b44a6ff-10b9-4314-8b2a-7a3c55e4d2d0",
   "metadata": {},
   "outputs": [
    {
     "data": {
      "text/plain": [
       "array([[1, 2, 3, 4],\n",
       "       [2, 3, 4, 5]])"
      ]
     },
     "execution_count": 75,
     "metadata": {},
     "output_type": "execute_result"
    }
   ],
   "source": [
    "arr1 # Original array is unchanged"
   ]
  },
  {
   "cell_type": "code",
   "execution_count": 76,
   "id": "a39153e3-170b-4e6a-890d-40420a83375a",
   "metadata": {},
   "outputs": [],
   "source": [
    "arr2 = np.array([[1,2,3,4],\n",
    "               [2,3,4,5],\n",
    "               [3,4,5,6],\n",
    "               [4,5,6,7]])"
   ]
  },
  {
   "cell_type": "code",
   "execution_count": 77,
   "id": "c08cf004-4b1d-45d2-b408-f5d77cbc3045",
   "metadata": {},
   "outputs": [
    {
     "data": {
      "text/plain": [
       "array([[1, 2, 3, 4],\n",
       "       [2, 3, 4, 5],\n",
       "       [3, 4, 5, 6],\n",
       "       [4, 5, 6, 7]])"
      ]
     },
     "execution_count": 77,
     "metadata": {},
     "output_type": "execute_result"
    }
   ],
   "source": [
    "view = arr2.view()\n",
    "view"
   ]
  },
  {
   "cell_type": "code",
   "execution_count": 78,
   "id": "8115f950-546c-46f5-8d88-c8e3165ff63e",
   "metadata": {},
   "outputs": [
    {
     "data": {
      "text/plain": [
       "array([[ 1,  2,  3,  4],\n",
       "       [10,  3,  4,  5],\n",
       "       [ 3,  4,  5,  6],\n",
       "       [ 4,  5,  6,  7]])"
      ]
     },
     "execution_count": 78,
     "metadata": {},
     "output_type": "execute_result"
    }
   ],
   "source": [
    "view[1,0]=10\n",
    "view"
   ]
  },
  {
   "cell_type": "code",
   "execution_count": 79,
   "id": "fa7a50b0-7ae9-4c72-af45-931798e855eb",
   "metadata": {},
   "outputs": [
    {
     "data": {
      "text/plain": [
       "array([[ 1,  2,  3,  4],\n",
       "       [10,  3,  4,  5],\n",
       "       [ 3,  4,  5,  6],\n",
       "       [ 4,  5,  6,  7]])"
      ]
     },
     "execution_count": 79,
     "metadata": {},
     "output_type": "execute_result"
    }
   ],
   "source": [
    "arr2 #Original array is also changed"
   ]
  },
  {
   "cell_type": "code",
   "execution_count": 80,
   "id": "66b28e44-6286-45dc-af48-38de91d6665c",
   "metadata": {},
   "outputs": [],
   "source": [
    "arr1 = np.array([[1,2,3,4],\n",
    "               [2,3,4,5]])\n",
    "arr2 = np.array([[1,2,3,4],\n",
    "               [2,3,4,5],\n",
    "               [3,4,5,6],\n",
    "               [4,5,6,7]])"
   ]
  },
  {
   "cell_type": "code",
   "execution_count": 81,
   "id": "32d4266f-e177-4f03-92e4-0b1a6126a1e8",
   "metadata": {},
   "outputs": [
    {
     "data": {
      "text/plain": [
       "array([[1, 2, 3, 4],\n",
       "       [2, 3, 4, 5]])"
      ]
     },
     "execution_count": 81,
     "metadata": {},
     "output_type": "execute_result"
    }
   ],
   "source": [
    "arr1"
   ]
  },
  {
   "cell_type": "code",
   "execution_count": 82,
   "id": "d4c75a5d-53e9-45df-8832-e7fed840559a",
   "metadata": {},
   "outputs": [
    {
     "data": {
      "text/plain": [
       "array([1, 2, 3, 4, 2, 3, 4, 5])"
      ]
     },
     "execution_count": 82,
     "metadata": {},
     "output_type": "execute_result"
    }
   ],
   "source": [
    "flat = arr1.flatten()\n",
    "flat"
   ]
  },
  {
   "cell_type": "code",
   "execution_count": 83,
   "id": "c7365859-7023-4b50-8b6f-44335ad9b035",
   "metadata": {},
   "outputs": [
    {
     "data": {
      "text/plain": [
       "array([ 1, 10,  3,  4,  2,  3,  4,  5])"
      ]
     },
     "execution_count": 83,
     "metadata": {},
     "output_type": "execute_result"
    }
   ],
   "source": [
    "flat[1]=10\n",
    "flat"
   ]
  },
  {
   "cell_type": "code",
   "execution_count": 84,
   "id": "2f4f408b-4693-486d-8cab-cf60b1f5a2d4",
   "metadata": {},
   "outputs": [
    {
     "data": {
      "text/plain": [
       "array([[1, 2, 3, 4],\n",
       "       [2, 3, 4, 5]])"
      ]
     },
     "execution_count": 84,
     "metadata": {},
     "output_type": "execute_result"
    }
   ],
   "source": [
    "arr1"
   ]
  },
  {
   "cell_type": "markdown",
   "id": "b82b8920-f5f5-43db-a39f-c89de10123c4",
   "metadata": {},
   "source": [
    "**Flatten Returns a copy, hence there is not change of values in original**"
   ]
  },
  {
   "cell_type": "code",
   "execution_count": 85,
   "id": "09c69c12-6313-47e8-9f43-dbb708cd11ce",
   "metadata": {},
   "outputs": [
    {
     "data": {
      "text/plain": [
       "array([[1, 2, 3, 4],\n",
       "       [2, 3, 4, 5],\n",
       "       [3, 4, 5, 6],\n",
       "       [4, 5, 6, 7]])"
      ]
     },
     "execution_count": 85,
     "metadata": {},
     "output_type": "execute_result"
    }
   ],
   "source": [
    "arr2"
   ]
  },
  {
   "cell_type": "code",
   "execution_count": 86,
   "id": "342ceeb3-1d86-4a01-8b67-7d21c8c5d644",
   "metadata": {},
   "outputs": [
    {
     "data": {
      "text/plain": [
       "array([1, 2, 3, 4, 2, 3, 4, 5, 3, 4, 5, 6, 4, 5, 6, 7])"
      ]
     },
     "execution_count": 86,
     "metadata": {},
     "output_type": "execute_result"
    }
   ],
   "source": [
    "rav = arr2.ravel()\n",
    "rav"
   ]
  },
  {
   "cell_type": "code",
   "execution_count": 87,
   "id": "453c9686-4557-46bc-accd-3b1b1ae3f74d",
   "metadata": {},
   "outputs": [
    {
     "data": {
      "text/plain": [
       "array([ 1, 10,  3,  4,  2,  3,  4,  5,  3,  4,  5,  6,  4,  5,  6,  7])"
      ]
     },
     "execution_count": 87,
     "metadata": {},
     "output_type": "execute_result"
    }
   ],
   "source": [
    "rav[1]=10\n",
    "rav"
   ]
  },
  {
   "cell_type": "code",
   "execution_count": 88,
   "id": "bb875b7a-efcd-4905-b0ab-596efdb1bb4d",
   "metadata": {},
   "outputs": [
    {
     "data": {
      "text/plain": [
       "array([[ 1, 10,  3,  4],\n",
       "       [ 2,  3,  4,  5],\n",
       "       [ 3,  4,  5,  6],\n",
       "       [ 4,  5,  6,  7]])"
      ]
     },
     "execution_count": 88,
     "metadata": {},
     "output_type": "execute_result"
    }
   ],
   "source": [
    "arr2"
   ]
  },
  {
   "cell_type": "markdown",
   "id": "bb4d46b7-6926-4443-94d3-e47eff6d799d",
   "metadata": {},
   "source": [
    "**Ravel Returns a view, hence there is change in original values**"
   ]
  },
  {
   "cell_type": "markdown",
   "id": "05bdbc44-3bc2-49dc-a56e-d731f409a974",
   "metadata": {},
   "source": [
    "#### Sorting"
   ]
  },
  {
   "cell_type": "code",
   "execution_count": 89,
   "id": "6c90067d-2ecc-4b08-8951-70d9cc5da75e",
   "metadata": {},
   "outputs": [
    {
     "data": {
      "text/plain": [
       "array([5, 3, 4, 6, 9, 8, 7, 2])"
      ]
     },
     "execution_count": 89,
     "metadata": {},
     "output_type": "execute_result"
    }
   ],
   "source": [
    "arr = np.array([5,3,4,6,9,8,7,2])\n",
    "arr"
   ]
  },
  {
   "cell_type": "code",
   "execution_count": 90,
   "id": "95f4f5b9-d7eb-4f18-825f-29eb7efcd753",
   "metadata": {},
   "outputs": [
    {
     "data": {
      "text/plain": [
       "array([2, 3, 4, 5, 6, 7, 8, 9])"
      ]
     },
     "execution_count": 90,
     "metadata": {},
     "output_type": "execute_result"
    }
   ],
   "source": [
    "arr.sort() # this makes changes to original\n",
    "arr"
   ]
  },
  {
   "cell_type": "code",
   "execution_count": 91,
   "id": "157c7f6e-cf40-4c93-a907-cc6dc5aea660",
   "metadata": {},
   "outputs": [
    {
     "data": {
      "text/plain": [
       "array([[5, 3],\n",
       "       [4, 6],\n",
       "       [9, 8],\n",
       "       [7, 2]])"
      ]
     },
     "execution_count": 91,
     "metadata": {},
     "output_type": "execute_result"
    }
   ],
   "source": [
    "arr = np.array([5,3,4,6,9,8,7,2]).reshape(4,2)\n",
    "arr"
   ]
  },
  {
   "cell_type": "code",
   "execution_count": 92,
   "id": "24f7183c-c2cb-4c40-957f-700a4de3144f",
   "metadata": {},
   "outputs": [
    {
     "data": {
      "text/plain": [
       "array([[3, 5],\n",
       "       [4, 6],\n",
       "       [8, 9],\n",
       "       [2, 7]])"
      ]
     },
     "execution_count": 92,
     "metadata": {},
     "output_type": "execute_result"
    }
   ],
   "source": [
    "np.sort(arr) # this does not make changes to original, changes are applied on the horizontal x-axis by default"
   ]
  },
  {
   "cell_type": "code",
   "execution_count": 93,
   "id": "f34a172f-1556-47ca-be42-4f00ef982b5c",
   "metadata": {},
   "outputs": [
    {
     "data": {
      "text/plain": [
       "array([[3, 5],\n",
       "       [4, 6],\n",
       "       [8, 9],\n",
       "       [2, 7]])"
      ]
     },
     "execution_count": 93,
     "metadata": {},
     "output_type": "execute_result"
    }
   ],
   "source": [
    "np.sort(arr,axis=1) #similar to above"
   ]
  },
  {
   "cell_type": "code",
   "execution_count": 94,
   "id": "cc3c8b64-4d0b-4dbd-befe-eb2c58533bba",
   "metadata": {},
   "outputs": [
    {
     "data": {
      "text/plain": [
       "array([[4, 2],\n",
       "       [5, 3],\n",
       "       [7, 6],\n",
       "       [9, 8]])"
      ]
     },
     "execution_count": 94,
     "metadata": {},
     "output_type": "execute_result"
    }
   ],
   "source": [
    "np.sort(arr,axis=0) # changes here are applied on y-axis (2D array)"
   ]
  },
  {
   "cell_type": "markdown",
   "id": "d0647aa7-b8e6-455f-b5c9-fb09a24560ed",
   "metadata": {},
   "source": [
    "#### Argument based Functions"
   ]
  },
  {
   "cell_type": "code",
   "execution_count": 95,
   "id": "b38eea20-4166-4412-8534-1f76503a0c0c",
   "metadata": {},
   "outputs": [
    {
     "data": {
      "text/plain": [
       "array([5, 3, 4, 6, 9, 8, 7, 2])"
      ]
     },
     "execution_count": 95,
     "metadata": {},
     "output_type": "execute_result"
    }
   ],
   "source": [
    "arr = np.array([5,3,4,6,9,8,7,2])\n",
    "arr"
   ]
  },
  {
   "cell_type": "code",
   "execution_count": 96,
   "id": "a19b36ab-43b1-4d7f-a3b9-ea7505ad7b09",
   "metadata": {},
   "outputs": [
    {
     "data": {
      "text/plain": [
       "array([7, 1, 2, 0, 3, 6, 5, 4])"
      ]
     },
     "execution_count": 96,
     "metadata": {},
     "output_type": "execute_result"
    }
   ],
   "source": [
    "# return the indicies in sort order using argsort\n",
    "np.argsort(arr)"
   ]
  },
  {
   "cell_type": "code",
   "execution_count": 97,
   "id": "ef045b46-2408-4924-a0c8-65780d542d54",
   "metadata": {},
   "outputs": [
    {
     "data": {
      "text/plain": [
       "array([5, 3, 4, 6, 0, 9, 8, 7, 2])"
      ]
     },
     "execution_count": 97,
     "metadata": {},
     "output_type": "execute_result"
    }
   ],
   "source": [
    "arr = np.array([5,3,4,6,0,9,8,7,2])\n",
    "arr"
   ]
  },
  {
   "cell_type": "code",
   "execution_count": 98,
   "id": "d0e092e3-de21-4526-88df-a041c4b986d3",
   "metadata": {},
   "outputs": [
    {
     "data": {
      "text/plain": [
       "array([[0],\n",
       "       [1],\n",
       "       [2],\n",
       "       [3],\n",
       "       [5],\n",
       "       [6],\n",
       "       [7],\n",
       "       [8]])"
      ]
     },
     "execution_count": 98,
     "metadata": {},
     "output_type": "execute_result"
    }
   ],
   "source": [
    "# returns indices of non-zero element\n",
    "np.argwhere(arr)"
   ]
  },
  {
   "cell_type": "code",
   "execution_count": 99,
   "id": "acd55630-9fd8-446d-a3fe-74b878636256",
   "metadata": {},
   "outputs": [
    {
     "data": {
      "text/plain": [
       "4"
      ]
     },
     "execution_count": 99,
     "metadata": {},
     "output_type": "execute_result"
    }
   ],
   "source": [
    "# returns index of the minimum values in an array\n",
    "np.argmin(arr)"
   ]
  },
  {
   "cell_type": "code",
   "execution_count": 100,
   "id": "c218039c-bab1-4bdd-8ff8-041ff4216b2e",
   "metadata": {},
   "outputs": [
    {
     "data": {
      "text/plain": [
       "5"
      ]
     },
     "execution_count": 100,
     "metadata": {},
     "output_type": "execute_result"
    }
   ],
   "source": [
    "# returns index of the maximum value in an array\n",
    "np.argmax(arr)"
   ]
  },
  {
   "cell_type": "markdown",
   "id": "817d37a4-7320-4e9e-8dac-70c6ef00793d",
   "metadata": {},
   "source": [
    "#### Change the datatype of an array"
   ]
  },
  {
   "cell_type": "code",
   "execution_count": 101,
   "id": "585e11a5-7794-443f-a82b-d812f0f94769",
   "metadata": {},
   "outputs": [
    {
     "data": {
      "text/plain": [
       "array([0., 1., 2., 3., 4., 5., 6., 7., 8., 9.])"
      ]
     },
     "execution_count": 101,
     "metadata": {},
     "output_type": "execute_result"
    }
   ],
   "source": [
    "arr = np.arange(10,dtype='float')\n",
    "arr"
   ]
  },
  {
   "cell_type": "code",
   "execution_count": 102,
   "id": "f4b3586c-0bf3-4be9-abcb-b7fbc4e32db1",
   "metadata": {},
   "outputs": [
    {
     "data": {
      "text/plain": [
       "array([0, 1, 2, 3, 4, 5, 6, 7, 8, 9])"
      ]
     },
     "execution_count": 102,
     "metadata": {},
     "output_type": "execute_result"
    }
   ],
   "source": [
    "arr.astype(int)"
   ]
  },
  {
   "cell_type": "markdown",
   "id": "ed980655-6f50-4d59-90a5-dcef9198ad27",
   "metadata": {},
   "source": [
    "#### Aggregate Functions"
   ]
  },
  {
   "cell_type": "code",
   "execution_count": 103,
   "id": "de6db5ab-3f17-41b6-bf0f-01de74b75363",
   "metadata": {},
   "outputs": [
    {
     "data": {
      "text/plain": [
       "array([0, 1, 2, 3, 4])"
      ]
     },
     "execution_count": 103,
     "metadata": {},
     "output_type": "execute_result"
    }
   ],
   "source": [
    "arr = np.arange(5)\n",
    "arr"
   ]
  },
  {
   "cell_type": "code",
   "execution_count": 104,
   "id": "db862309-97b3-42c8-a4f2-a8272e266892",
   "metadata": {},
   "outputs": [
    {
     "data": {
      "text/plain": [
       "10"
      ]
     },
     "execution_count": 104,
     "metadata": {},
     "output_type": "execute_result"
    }
   ],
   "source": [
    "# Sum of all the elements of an array\n",
    "np.sum(arr)"
   ]
  },
  {
   "cell_type": "code",
   "execution_count": 105,
   "id": "58a6cf62-aa5c-45b5-8258-867667f1867e",
   "metadata": {},
   "outputs": [
    {
     "data": {
      "text/plain": [
       "array([[ 0,  1,  2,  3],\n",
       "       [ 4,  5,  6,  7],\n",
       "       [ 8,  9, 10, 11]])"
      ]
     },
     "execution_count": 105,
     "metadata": {},
     "output_type": "execute_result"
    }
   ],
   "source": [
    "arr = np.arange(12).reshape(3,4)\n",
    "arr"
   ]
  },
  {
   "cell_type": "code",
   "execution_count": 106,
   "id": "81d1115a-a016-4239-b00c-564f7beefd32",
   "metadata": {},
   "outputs": [
    {
     "data": {
      "text/plain": [
       "array([ 6, 22, 38])"
      ]
     },
     "execution_count": 106,
     "metadata": {},
     "output_type": "execute_result"
    }
   ],
   "source": [
    "# sum of elements by their axis\n",
    "np.sum(arr,axis=1) # sum by their x-axis"
   ]
  },
  {
   "cell_type": "code",
   "execution_count": 107,
   "id": "a9b2cb81-bfba-4d68-8a27-9ba4c6dcc852",
   "metadata": {},
   "outputs": [
    {
     "data": {
      "text/plain": [
       "array([12, 15, 18, 21])"
      ]
     },
     "execution_count": 107,
     "metadata": {},
     "output_type": "execute_result"
    }
   ],
   "source": [
    "np.sum(arr,axis=0)"
   ]
  },
  {
   "cell_type": "code",
   "execution_count": 108,
   "id": "deb84770-1860-4d6f-8c2d-53a1bc7558a8",
   "metadata": {},
   "outputs": [
    {
     "data": {
      "text/plain": [
       "5.5"
      ]
     },
     "execution_count": 108,
     "metadata": {},
     "output_type": "execute_result"
    }
   ],
   "source": [
    "# mean of all elements\n",
    "np.mean(arr)"
   ]
  },
  {
   "cell_type": "code",
   "execution_count": 109,
   "id": "382ff089-ab57-40a1-90cf-d44a074719b1",
   "metadata": {},
   "outputs": [
    {
     "data": {
      "text/plain": [
       "array([1.5, 5.5, 9.5])"
      ]
     },
     "execution_count": 109,
     "metadata": {},
     "output_type": "execute_result"
    }
   ],
   "source": [
    "# meal of elements by their axis wise\n",
    "np.mean(arr,axis=1)"
   ]
  },
  {
   "cell_type": "code",
   "execution_count": 110,
   "id": "e525da44-a8b3-4b60-9b7e-49d8193232ea",
   "metadata": {},
   "outputs": [
    {
     "data": {
      "text/plain": [
       "0"
      ]
     },
     "execution_count": 110,
     "metadata": {},
     "output_type": "execute_result"
    }
   ],
   "source": [
    "# find the minimum value in the array\n",
    "np.min(arr)"
   ]
  },
  {
   "cell_type": "code",
   "execution_count": 111,
   "id": "45426122-0627-4aa4-8a5d-232d52fb7bb3",
   "metadata": {},
   "outputs": [
    {
     "data": {
      "text/plain": [
       "11"
      ]
     },
     "execution_count": 111,
     "metadata": {},
     "output_type": "execute_result"
    }
   ],
   "source": [
    "# find maximum value in the array\n",
    "np.max(arr)"
   ]
  },
  {
   "cell_type": "markdown",
   "id": "a74ec84b-7677-4d4d-a52d-e681c41c8ec6",
   "metadata": {},
   "source": [
    "#### Logical Functions"
   ]
  },
  {
   "cell_type": "code",
   "execution_count": 112,
   "id": "2921ff8f-dd35-40ca-b423-a63935abc113",
   "metadata": {},
   "outputs": [
    {
     "data": {
      "text/plain": [
       "array([[ 0,  1,  2,  3],\n",
       "       [ 4,  5,  6,  7],\n",
       "       [ 8,  9, 10, 11]])"
      ]
     },
     "execution_count": 112,
     "metadata": {},
     "output_type": "execute_result"
    }
   ],
   "source": [
    "arr"
   ]
  },
  {
   "cell_type": "code",
   "execution_count": 113,
   "id": "a67f2850-40a4-4f6a-b313-58b0958468c0",
   "metadata": {},
   "outputs": [
    {
     "data": {
      "text/plain": [
       "array([[3, 4, 6, 4],\n",
       "       [8, 3, 6, 2],\n",
       "       [7, 4, 9, 3]])"
      ]
     },
     "execution_count": 113,
     "metadata": {},
     "output_type": "execute_result"
    }
   ],
   "source": [
    "arr1 = np.array([[3,4,6,4],\n",
    "                  [8,3,6,2],\n",
    "                  [7,4,9,3]])\n",
    "arr1"
   ]
  },
  {
   "cell_type": "code",
   "execution_count": 114,
   "id": "a3cbc983-92cc-402f-a750-e17dfb1b3e41",
   "metadata": {},
   "outputs": [
    {
     "data": {
      "text/plain": [
       "True"
      ]
     },
     "execution_count": 114,
     "metadata": {},
     "output_type": "execute_result"
    }
   ],
   "source": [
    "# Returns True if any of the corresponding elements in array satisfy the condition\n",
    "np.any(arr<arr1)"
   ]
  },
  {
   "cell_type": "code",
   "execution_count": 115,
   "id": "d1c29b95-e539-42d1-9d69-c2b994537dab",
   "metadata": {},
   "outputs": [
    {
     "data": {
      "text/plain": [
       "False"
      ]
     },
     "execution_count": 115,
     "metadata": {},
     "output_type": "execute_result"
    }
   ],
   "source": [
    "np.all(arr<arr1)"
   ]
  },
  {
   "cell_type": "code",
   "execution_count": 116,
   "id": "47d91b9a-053b-4fd1-8ed9-0ba059080a1b",
   "metadata": {},
   "outputs": [
    {
     "data": {
      "text/plain": [
       "array([[-1,  1,  1,  1],\n",
       "       [ 1, -1,  1, -1],\n",
       "       [ 1,  1,  1, -1]])"
      ]
     },
     "execution_count": 116,
     "metadata": {},
     "output_type": "execute_result"
    }
   ],
   "source": [
    "# if else condition is vectorized here, if the value is less than 4 then -1 else 1 should be replaced.\n",
    "np.where(arr1<4,-1,1) "
   ]
  },
  {
   "cell_type": "markdown",
   "id": "ac09a276-4403-4465-9374-100181de8b7a",
   "metadata": {},
   "source": [
    "#### Numpy Split\n",
    "\n",
    "Example, In 2D array\n",
    " - if x-axis = 1 is given, splitting will happen over the x-axis\n",
    " - if y-axis = 0 is given, splitting will happen across the y-axis"
   ]
  },
  {
   "cell_type": "code",
   "execution_count": 117,
   "id": "34d57092-092e-49cf-ba1d-0144a0ade558",
   "metadata": {},
   "outputs": [
    {
     "data": {
      "text/plain": [
       "array([[ 1,  2,  3,  4],\n",
       "       [ 5,  6,  7,  8],\n",
       "       [ 9, 10, 11, 12]])"
      ]
     },
     "execution_count": 117,
     "metadata": {},
     "output_type": "execute_result"
    }
   ],
   "source": [
    "arr = np.array([[1, 2, 3, 4],\n",
    "                   [5, 6, 7, 8],\n",
    "                   [9, 10, 11, 12]])\n",
    "arr"
   ]
  },
  {
   "cell_type": "code",
   "execution_count": 118,
   "id": "29001637-bcea-438e-9940-7598ba2d0537",
   "metadata": {},
   "outputs": [
    {
     "data": {
      "text/plain": [
       "[array([[ 1,  2,  3,  4],\n",
       "        [ 5,  6,  7,  8],\n",
       "        [ 9, 10, 11, 12]]),\n",
       " array([], shape=(3, 0), dtype=int64)]"
      ]
     },
     "execution_count": 118,
     "metadata": {},
     "output_type": "execute_result"
    }
   ],
   "source": [
    "np.split(arr,indices_or_sections=[4],axis=1)"
   ]
  },
  {
   "cell_type": "code",
   "execution_count": 119,
   "id": "02c1a7cb-c478-44bc-9ad8-d1a7fdeeeecd",
   "metadata": {},
   "outputs": [
    {
     "data": {
      "text/plain": [
       "array([[ 0,  1,  2,  3,  4],\n",
       "       [ 5,  6,  7,  8,  9],\n",
       "       [10, 11, 12, 13, 14],\n",
       "       [15, 16, 17, 18, 19],\n",
       "       [20, 21, 22, 23, 24]])"
      ]
     },
     "execution_count": 119,
     "metadata": {},
     "output_type": "execute_result"
    }
   ],
   "source": [
    "arr = np.arange(25).reshape(5,5)\n",
    "arr"
   ]
  },
  {
   "cell_type": "code",
   "execution_count": 120,
   "id": "80357c51-a008-49ea-b62b-3203869f2cb2",
   "metadata": {},
   "outputs": [
    {
     "data": {
      "text/plain": [
       "[array([[ 0,  1],\n",
       "        [ 5,  6],\n",
       "        [10, 11],\n",
       "        [15, 16],\n",
       "        [20, 21]]),\n",
       " array([[ 2],\n",
       "        [ 7],\n",
       "        [12],\n",
       "        [17],\n",
       "        [22]]),\n",
       " array([[ 3,  4],\n",
       "        [ 8,  9],\n",
       "        [13, 14],\n",
       "        [18, 19],\n",
       "        [23, 24]])]"
      ]
     },
     "execution_count": 120,
     "metadata": {},
     "output_type": "execute_result"
    }
   ],
   "source": [
    "# similar to splicing,0,1 = 1 array, 2-3 (3 excluded) = 1 array, remaining indices 1 array\n",
    "np.split(arr,[2,3],axis=1)"
   ]
  },
  {
   "cell_type": "code",
   "execution_count": 121,
   "id": "3f5b99af-f6c1-4545-82fe-0ae9564183f3",
   "metadata": {},
   "outputs": [
    {
     "data": {
      "text/plain": [
       "[array([[0, 1, 2, 3, 4]]),\n",
       " array([[ 5,  6,  7,  8,  9],\n",
       "        [10, 11, 12, 13, 14],\n",
       "        [15, 16, 17, 18, 19]]),\n",
       " array([[20, 21, 22, 23, 24]])]"
      ]
     },
     "execution_count": 121,
     "metadata": {},
     "output_type": "execute_result"
    }
   ],
   "source": [
    "np.split(arr,[1,4],axis=0)"
   ]
  },
  {
   "cell_type": "markdown",
   "id": "d0e6cd2f-04f1-40b2-8367-d9711d21cbc3",
   "metadata": {},
   "source": [
    "#### Horizontal & Vertical Split functions"
   ]
  },
  {
   "cell_type": "code",
   "execution_count": 122,
   "id": "4ed17558-af60-4284-ab88-5ed027195443",
   "metadata": {},
   "outputs": [
    {
     "data": {
      "text/plain": [
       "array([[ 0,  1,  2,  3,  4],\n",
       "       [ 5,  6,  7,  8,  9],\n",
       "       [10, 11, 12, 13, 14],\n",
       "       [15, 16, 17, 18, 19],\n",
       "       [20, 21, 22, 23, 24]])"
      ]
     },
     "execution_count": 122,
     "metadata": {},
     "output_type": "execute_result"
    }
   ],
   "source": [
    "arr = np.arange(25).reshape(5,5)\n",
    "arr"
   ]
  },
  {
   "cell_type": "code",
   "execution_count": 123,
   "id": "f29d81cb-a967-4b53-af00-84e3225f2033",
   "metadata": {},
   "outputs": [
    {
     "data": {
      "text/plain": [
       "[array([[ 0,  1],\n",
       "        [ 5,  6],\n",
       "        [10, 11],\n",
       "        [15, 16],\n",
       "        [20, 21]]),\n",
       " array([[ 2],\n",
       "        [ 7],\n",
       "        [12],\n",
       "        [17],\n",
       "        [22]]),\n",
       " array([[ 3,  4],\n",
       "        [ 8,  9],\n",
       "        [13, 14],\n",
       "        [18, 19],\n",
       "        [23, 24]])]"
      ]
     },
     "execution_count": 123,
     "metadata": {},
     "output_type": "execute_result"
    }
   ],
   "source": [
    "# Horizontal split happens over x-axis and vice versa for vertical split\n",
    "np.hsplit(arr,[2,3])"
   ]
  },
  {
   "cell_type": "code",
   "execution_count": 124,
   "id": "ac06ab32-dd67-4950-8e78-0ebab0a9287c",
   "metadata": {},
   "outputs": [
    {
     "data": {
      "text/plain": [
       "[array([[0, 1, 2, 3, 4]]),\n",
       " array([[ 5,  6,  7,  8,  9],\n",
       "        [10, 11, 12, 13, 14],\n",
       "        [15, 16, 17, 18, 19]]),\n",
       " array([[20, 21, 22, 23, 24]])]"
      ]
     },
     "execution_count": 124,
     "metadata": {},
     "output_type": "execute_result"
    }
   ],
   "source": [
    "np.vsplit(arr,[1,4])"
   ]
  },
  {
   "cell_type": "markdown",
   "id": "9e5d654e-565d-4228-b78a-987bc37c0d06",
   "metadata": {},
   "source": [
    "#### Stacking in Numpy"
   ]
  },
  {
   "cell_type": "code",
   "execution_count": 125,
   "id": "ae0709ba-0b38-4643-9477-6fce87e6472a",
   "metadata": {},
   "outputs": [
    {
     "data": {
      "text/plain": [
       "array([0, 1, 2, 3])"
      ]
     },
     "execution_count": 125,
     "metadata": {},
     "output_type": "execute_result"
    }
   ],
   "source": [
    "arr = np.arange(4)\n",
    "arr"
   ]
  },
  {
   "cell_type": "markdown",
   "id": "7bf8ac88-d458-4051-b902-c90c6b7120fc",
   "metadata": {},
   "source": [
    " - Vertical Stacking"
   ]
  },
  {
   "cell_type": "code",
   "execution_count": 126,
   "id": "64978ca1-1118-44f8-9066-0cb5c0976b49",
   "metadata": {},
   "outputs": [
    {
     "data": {
      "text/plain": [
       "array([[0, 1, 2, 3],\n",
       "       [0, 1, 2, 3]])"
      ]
     },
     "execution_count": 126,
     "metadata": {},
     "output_type": "execute_result"
    }
   ],
   "source": [
    "np.vstack((arr,arr))"
   ]
  },
  {
   "cell_type": "markdown",
   "id": "1df4a620-2af6-4bf7-86d7-f70287957ec8",
   "metadata": {},
   "source": [
    " - Horizontal Stacking"
   ]
  },
  {
   "cell_type": "code",
   "execution_count": 127,
   "id": "a0f03ce2-bfcc-4ee1-a351-6746ab6994fa",
   "metadata": {},
   "outputs": [
    {
     "data": {
      "text/plain": [
       "array([0, 1, 2, 3, 0, 1, 2, 3])"
      ]
     },
     "execution_count": 127,
     "metadata": {},
     "output_type": "execute_result"
    }
   ],
   "source": [
    "np.hstack((arr,arr))"
   ]
  },
  {
   "cell_type": "code",
   "execution_count": 128,
   "id": "c514c896-df8b-43fc-9966-4fbfdd6a371f",
   "metadata": {},
   "outputs": [
    {
     "data": {
      "text/plain": [
       "array([[0],\n",
       "       [1],\n",
       "       [2],\n",
       "       [3]])"
      ]
     },
     "execution_count": 128,
     "metadata": {},
     "output_type": "execute_result"
    }
   ],
   "source": [
    "arr = np.arange(4).reshape(4,1)\n",
    "arr"
   ]
  },
  {
   "cell_type": "code",
   "execution_count": 129,
   "id": "9663343b-a1d4-4ad8-9e91-7dc1a4f288f3",
   "metadata": {},
   "outputs": [
    {
     "data": {
      "text/plain": [
       "array([[0, 0, 0],\n",
       "       [1, 1, 1],\n",
       "       [2, 2, 2],\n",
       "       [3, 3, 3]])"
      ]
     },
     "execution_count": 129,
     "metadata": {},
     "output_type": "execute_result"
    }
   ],
   "source": [
    "np.hstack((arr,arr,arr))"
   ]
  },
  {
   "cell_type": "markdown",
   "id": "6d6871d0-1316-43c7-b67a-d92c4d427fc1",
   "metadata": {},
   "source": [
    "#### Concatenation\n",
    "\n",
    " - concatenation is similar to stacking the entire array in the desired axis"
   ]
  },
  {
   "cell_type": "code",
   "execution_count": 130,
   "id": "08fba2c9-4cdf-4a97-8b38-6c0133118f99",
   "metadata": {},
   "outputs": [
    {
     "data": {
      "text/plain": [
       "array([[0, 1, 2, 3],\n",
       "       [4, 5, 6, 7]])"
      ]
     },
     "execution_count": 130,
     "metadata": {},
     "output_type": "execute_result"
    }
   ],
   "source": [
    "arr = np.arange(8).reshape(2,4)\n",
    "arr"
   ]
  },
  {
   "cell_type": "code",
   "execution_count": 131,
   "id": "bdfd00ec-1941-41b0-873a-27621aa53fbe",
   "metadata": {},
   "outputs": [
    {
     "data": {
      "text/plain": [
       "array([[0, 1, 2, 3, 4, 5, 6, 7]])"
      ]
     },
     "execution_count": 131,
     "metadata": {},
     "output_type": "execute_result"
    }
   ],
   "source": [
    "arr.reshape(1,-1)"
   ]
  },
  {
   "cell_type": "code",
   "execution_count": 132,
   "id": "481202e5-89fa-4eeb-a4d9-a5bb44ee2fd3",
   "metadata": {},
   "outputs": [
    {
     "data": {
      "text/plain": [
       "array([[0, 1, 2, 3],\n",
       "       [4, 5, 6, 7]])"
      ]
     },
     "execution_count": 132,
     "metadata": {},
     "output_type": "execute_result"
    }
   ],
   "source": [
    "arr"
   ]
  },
  {
   "cell_type": "code",
   "execution_count": 133,
   "id": "90cc3fc2-dcef-458e-9b38-7a0acca10cd1",
   "metadata": {},
   "outputs": [
    {
     "data": {
      "text/plain": [
       "array([[0, 1, 2, 3],\n",
       "       [4, 5, 6, 7],\n",
       "       [0, 1, 2, 3],\n",
       "       [4, 5, 6, 7]])"
      ]
     },
     "execution_count": 133,
     "metadata": {},
     "output_type": "execute_result"
    }
   ],
   "source": [
    "np.concatenate([arr,arr]) # by default vertical stacking or axis with 0 is default"
   ]
  },
  {
   "cell_type": "code",
   "execution_count": 134,
   "id": "f2692dee-12c2-4a11-ba94-47416e33723e",
   "metadata": {},
   "outputs": [
    {
     "data": {
      "text/plain": [
       "array([[0, 1, 2, 3, 0, 1, 2, 3],\n",
       "       [4, 5, 6, 7, 4, 5, 6, 7]])"
      ]
     },
     "execution_count": 134,
     "metadata": {},
     "output_type": "execute_result"
    }
   ],
   "source": [
    "np.concatenate([arr,arr],axis=1)"
   ]
  },
  {
   "cell_type": "code",
   "execution_count": null,
   "id": "d29660e0-303b-4998-8758-5794b887f41e",
   "metadata": {},
   "outputs": [],
   "source": []
  }
 ],
 "metadata": {
  "kernelspec": {
   "display_name": "Python 3 (ipykernel)",
   "language": "python",
   "name": "python3"
  },
  "language_info": {
   "codemirror_mode": {
    "name": "ipython",
    "version": 3
   },
   "file_extension": ".py",
   "mimetype": "text/x-python",
   "name": "python",
   "nbconvert_exporter": "python",
   "pygments_lexer": "ipython3",
   "version": "3.12.0"
  }
 },
 "nbformat": 4,
 "nbformat_minor": 5
}
